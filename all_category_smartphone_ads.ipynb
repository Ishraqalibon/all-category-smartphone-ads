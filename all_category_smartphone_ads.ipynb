{
  "nbformat": 4,
  "nbformat_minor": 0,
  "metadata": {
    "colab": {
      "provenance": [],
      "authorship_tag": "ABX9TyNSoeufm791dBs44Xg4Ncb8",
      "include_colab_link": true
    },
    "kernelspec": {
      "name": "python3",
      "display_name": "Python 3"
    },
    "language_info": {
      "name": "python"
    }
  },
  "cells": [
    {
      "cell_type": "markdown",
      "metadata": {
        "id": "view-in-github",
        "colab_type": "text"
      },
      "source": [
        "<a href=\"https://colab.research.google.com/github/Ishraqalibon/all-category-smartphone-ads/blob/main/all_category_smartphone_ads.ipynb\" target=\"_parent\"><img src=\"https://colab.research.google.com/assets/colab-badge.svg\" alt=\"Open In Colab\"/></a>"
      ]
    },
    {
      "cell_type": "code",
      "execution_count": null,
      "metadata": {
        "id": "aH01JHp3NAfy"
      },
      "outputs": [],
      "source": [
        "import pandas as pd\n",
        "import numpy as np"
      ]
    },
    {
      "cell_type": "markdown",
      "source": [
        "# ***Cleaning_Data***"
      ],
      "metadata": {
        "id": "Gs6kyGZZqCZE"
      }
    },
    {
      "cell_type": "code",
      "source": [
        "data=pd.read_csv('/content/DeviceSpecs.com all category smarthphone ads.csv.csv')"
      ],
      "metadata": {
        "id": "WQnIA_goNQas"
      },
      "execution_count": null,
      "outputs": []
    },
    {
      "cell_type": "code",
      "source": [
        "data.head(5)"
      ],
      "metadata": {
        "colab": {
          "base_uri": "https://localhost:8080/",
          "height": 250
        },
        "id": "nHH-KtneNV0p",
        "outputId": "526b118b-2dc0-4aa6-9b15-6ce5d03ac2f9"
      },
      "execution_count": null,
      "outputs": [
        {
          "output_type": "execute_result",
          "data": {
            "text/plain": [
              "                                       Products_link           Products_Model  \\\n",
              "0  https://www.device-specs.io/categories/smartph...      Apple iPhone Xs Max   \n",
              "1  https://www.device-specs.io/categories/smartph...                Oppo A16s   \n",
              "2  https://www.device-specs.io/categories/smartph...                Huawei Y5   \n",
              "3  https://www.device-specs.io/categories/smartph...  Apple iPhone 11 Pro Max   \n",
              "4  https://www.device-specs.io/categories/smartph...  Apple iPhone 11 Pro Max   \n",
              "\n",
              "                                    Products_details  Price_regular  \\\n",
              "0  2018 - 6 cores - 6.5 inch - 256GB - space grey...         899.00   \n",
              "1  2021 - 8 cores - 6.52 inch - 64GB - Black - 59...         179.38   \n",
              "2  2019 - 4 cores - 5.71 inch - 16GB - black - 51...         144.00   \n",
              "3    6 cores - 6.5 inch - 256GB - Silver - MWHK2ZD/A         536.00   \n",
              "4       6 cores - 6.5 inch - 64GB - Gold - MWHG2ZD/A         486.00   \n",
              "\n",
              "  Price_offers Currency  Known_price  \n",
              "0          799      EUR            1  \n",
              "1          169      EUR            1  \n",
              "2          NaN      NaN            1  \n",
              "3                   NaN            1  \n",
              "4                   NaN            1  "
            ],
            "text/html": [
              "\n",
              "  <div id=\"df-e33bc973-d530-4950-b500-1bc407d3237f\">\n",
              "    <div class=\"colab-df-container\">\n",
              "      <div>\n",
              "<style scoped>\n",
              "    .dataframe tbody tr th:only-of-type {\n",
              "        vertical-align: middle;\n",
              "    }\n",
              "\n",
              "    .dataframe tbody tr th {\n",
              "        vertical-align: top;\n",
              "    }\n",
              "\n",
              "    .dataframe thead th {\n",
              "        text-align: right;\n",
              "    }\n",
              "</style>\n",
              "<table border=\"1\" class=\"dataframe\">\n",
              "  <thead>\n",
              "    <tr style=\"text-align: right;\">\n",
              "      <th></th>\n",
              "      <th>Products_link</th>\n",
              "      <th>Products_Model</th>\n",
              "      <th>Products_details</th>\n",
              "      <th>Price_regular</th>\n",
              "      <th>Price_offers</th>\n",
              "      <th>Currency</th>\n",
              "      <th>Known_price</th>\n",
              "    </tr>\n",
              "  </thead>\n",
              "  <tbody>\n",
              "    <tr>\n",
              "      <th>0</th>\n",
              "      <td>https://www.device-specs.io/categories/smartph...</td>\n",
              "      <td>Apple iPhone Xs Max</td>\n",
              "      <td>2018 - 6 cores - 6.5 inch - 256GB - space grey...</td>\n",
              "      <td>899.00</td>\n",
              "      <td>799</td>\n",
              "      <td>EUR</td>\n",
              "      <td>1</td>\n",
              "    </tr>\n",
              "    <tr>\n",
              "      <th>1</th>\n",
              "      <td>https://www.device-specs.io/categories/smartph...</td>\n",
              "      <td>Oppo A16s</td>\n",
              "      <td>2021 - 8 cores - 6.52 inch - 64GB - Black - 59...</td>\n",
              "      <td>179.38</td>\n",
              "      <td>169</td>\n",
              "      <td>EUR</td>\n",
              "      <td>1</td>\n",
              "    </tr>\n",
              "    <tr>\n",
              "      <th>2</th>\n",
              "      <td>https://www.device-specs.io/categories/smartph...</td>\n",
              "      <td>Huawei Y5</td>\n",
              "      <td>2019 - 4 cores - 5.71 inch - 16GB - black - 51...</td>\n",
              "      <td>144.00</td>\n",
              "      <td>NaN</td>\n",
              "      <td>NaN</td>\n",
              "      <td>1</td>\n",
              "    </tr>\n",
              "    <tr>\n",
              "      <th>3</th>\n",
              "      <td>https://www.device-specs.io/categories/smartph...</td>\n",
              "      <td>Apple iPhone 11 Pro Max</td>\n",
              "      <td>6 cores - 6.5 inch - 256GB - Silver - MWHK2ZD/A</td>\n",
              "      <td>536.00</td>\n",
              "      <td></td>\n",
              "      <td>NaN</td>\n",
              "      <td>1</td>\n",
              "    </tr>\n",
              "    <tr>\n",
              "      <th>4</th>\n",
              "      <td>https://www.device-specs.io/categories/smartph...</td>\n",
              "      <td>Apple iPhone 11 Pro Max</td>\n",
              "      <td>6 cores - 6.5 inch - 64GB - Gold - MWHG2ZD/A</td>\n",
              "      <td>486.00</td>\n",
              "      <td></td>\n",
              "      <td>NaN</td>\n",
              "      <td>1</td>\n",
              "    </tr>\n",
              "  </tbody>\n",
              "</table>\n",
              "</div>\n",
              "      <button class=\"colab-df-convert\" onclick=\"convertToInteractive('df-e33bc973-d530-4950-b500-1bc407d3237f')\"\n",
              "              title=\"Convert this dataframe to an interactive table.\"\n",
              "              style=\"display:none;\">\n",
              "        \n",
              "  <svg xmlns=\"http://www.w3.org/2000/svg\" height=\"24px\"viewBox=\"0 0 24 24\"\n",
              "       width=\"24px\">\n",
              "    <path d=\"M0 0h24v24H0V0z\" fill=\"none\"/>\n",
              "    <path d=\"M18.56 5.44l.94 2.06.94-2.06 2.06-.94-2.06-.94-.94-2.06-.94 2.06-2.06.94zm-11 1L8.5 8.5l.94-2.06 2.06-.94-2.06-.94L8.5 2.5l-.94 2.06-2.06.94zm10 10l.94 2.06.94-2.06 2.06-.94-2.06-.94-.94-2.06-.94 2.06-2.06.94z\"/><path d=\"M17.41 7.96l-1.37-1.37c-.4-.4-.92-.59-1.43-.59-.52 0-1.04.2-1.43.59L10.3 9.45l-7.72 7.72c-.78.78-.78 2.05 0 2.83L4 21.41c.39.39.9.59 1.41.59.51 0 1.02-.2 1.41-.59l7.78-7.78 2.81-2.81c.8-.78.8-2.07 0-2.86zM5.41 20L4 18.59l7.72-7.72 1.47 1.35L5.41 20z\"/>\n",
              "  </svg>\n",
              "      </button>\n",
              "      \n",
              "  <style>\n",
              "    .colab-df-container {\n",
              "      display:flex;\n",
              "      flex-wrap:wrap;\n",
              "      gap: 12px;\n",
              "    }\n",
              "\n",
              "    .colab-df-convert {\n",
              "      background-color: #E8F0FE;\n",
              "      border: none;\n",
              "      border-radius: 50%;\n",
              "      cursor: pointer;\n",
              "      display: none;\n",
              "      fill: #1967D2;\n",
              "      height: 32px;\n",
              "      padding: 0 0 0 0;\n",
              "      width: 32px;\n",
              "    }\n",
              "\n",
              "    .colab-df-convert:hover {\n",
              "      background-color: #E2EBFA;\n",
              "      box-shadow: 0px 1px 2px rgba(60, 64, 67, 0.3), 0px 1px 3px 1px rgba(60, 64, 67, 0.15);\n",
              "      fill: #174EA6;\n",
              "    }\n",
              "\n",
              "    [theme=dark] .colab-df-convert {\n",
              "      background-color: #3B4455;\n",
              "      fill: #D2E3FC;\n",
              "    }\n",
              "\n",
              "    [theme=dark] .colab-df-convert:hover {\n",
              "      background-color: #434B5C;\n",
              "      box-shadow: 0px 1px 3px 1px rgba(0, 0, 0, 0.15);\n",
              "      filter: drop-shadow(0px 1px 2px rgba(0, 0, 0, 0.3));\n",
              "      fill: #FFFFFF;\n",
              "    }\n",
              "  </style>\n",
              "\n",
              "      <script>\n",
              "        const buttonEl =\n",
              "          document.querySelector('#df-e33bc973-d530-4950-b500-1bc407d3237f button.colab-df-convert');\n",
              "        buttonEl.style.display =\n",
              "          google.colab.kernel.accessAllowed ? 'block' : 'none';\n",
              "\n",
              "        async function convertToInteractive(key) {\n",
              "          const element = document.querySelector('#df-e33bc973-d530-4950-b500-1bc407d3237f');\n",
              "          const dataTable =\n",
              "            await google.colab.kernel.invokeFunction('convertToInteractive',\n",
              "                                                     [key], {});\n",
              "          if (!dataTable) return;\n",
              "\n",
              "          const docLinkHtml = 'Like what you see? Visit the ' +\n",
              "            '<a target=\"_blank\" href=https://colab.research.google.com/notebooks/data_table.ipynb>data table notebook</a>'\n",
              "            + ' to learn more about interactive tables.';\n",
              "          element.innerHTML = '';\n",
              "          dataTable['output_type'] = 'display_data';\n",
              "          await google.colab.output.renderOutput(dataTable, element);\n",
              "          const docLink = document.createElement('div');\n",
              "          docLink.innerHTML = docLinkHtml;\n",
              "          element.appendChild(docLink);\n",
              "        }\n",
              "      </script>\n",
              "    </div>\n",
              "  </div>\n",
              "  "
            ]
          },
          "metadata": {},
          "execution_count": 3
        }
      ]
    },
    {
      "cell_type": "code",
      "source": [
        "data=data.drop(columns=['Products_link'])"
      ],
      "metadata": {
        "id": "ZGbXgsFtNYtJ"
      },
      "execution_count": null,
      "outputs": []
    },
    {
      "cell_type": "code",
      "source": [
        "data.head(4)"
      ],
      "metadata": {
        "colab": {
          "base_uri": "https://localhost:8080/",
          "height": 175
        },
        "id": "I3DlIEULQo9q",
        "outputId": "828f46e7-b568-4048-bb8e-db3f6a29ce4f"
      },
      "execution_count": null,
      "outputs": [
        {
          "output_type": "execute_result",
          "data": {
            "text/plain": [
              "            Products_Model                                   Products_details  \\\n",
              "0      Apple iPhone Xs Max  2018 - 6 cores - 6.5 inch - 256GB - space grey...   \n",
              "1                Oppo A16s  2021 - 8 cores - 6.52 inch - 64GB - Black - 59...   \n",
              "2                Huawei Y5  2019 - 4 cores - 5.71 inch - 16GB - black - 51...   \n",
              "3  Apple iPhone 11 Pro Max    6 cores - 6.5 inch - 256GB - Silver - MWHK2ZD/A   \n",
              "\n",
              "   Price_regular Price_offers Currency  Known_price  \n",
              "0         899.00          799      EUR            1  \n",
              "1         179.38          169      EUR            1  \n",
              "2         144.00          NaN      NaN            1  \n",
              "3         536.00                   NaN            1  "
            ],
            "text/html": [
              "\n",
              "  <div id=\"df-c40a57bf-3102-4732-88fc-e186c9d47112\">\n",
              "    <div class=\"colab-df-container\">\n",
              "      <div>\n",
              "<style scoped>\n",
              "    .dataframe tbody tr th:only-of-type {\n",
              "        vertical-align: middle;\n",
              "    }\n",
              "\n",
              "    .dataframe tbody tr th {\n",
              "        vertical-align: top;\n",
              "    }\n",
              "\n",
              "    .dataframe thead th {\n",
              "        text-align: right;\n",
              "    }\n",
              "</style>\n",
              "<table border=\"1\" class=\"dataframe\">\n",
              "  <thead>\n",
              "    <tr style=\"text-align: right;\">\n",
              "      <th></th>\n",
              "      <th>Products_Model</th>\n",
              "      <th>Products_details</th>\n",
              "      <th>Price_regular</th>\n",
              "      <th>Price_offers</th>\n",
              "      <th>Currency</th>\n",
              "      <th>Known_price</th>\n",
              "    </tr>\n",
              "  </thead>\n",
              "  <tbody>\n",
              "    <tr>\n",
              "      <th>0</th>\n",
              "      <td>Apple iPhone Xs Max</td>\n",
              "      <td>2018 - 6 cores - 6.5 inch - 256GB - space grey...</td>\n",
              "      <td>899.00</td>\n",
              "      <td>799</td>\n",
              "      <td>EUR</td>\n",
              "      <td>1</td>\n",
              "    </tr>\n",
              "    <tr>\n",
              "      <th>1</th>\n",
              "      <td>Oppo A16s</td>\n",
              "      <td>2021 - 8 cores - 6.52 inch - 64GB - Black - 59...</td>\n",
              "      <td>179.38</td>\n",
              "      <td>169</td>\n",
              "      <td>EUR</td>\n",
              "      <td>1</td>\n",
              "    </tr>\n",
              "    <tr>\n",
              "      <th>2</th>\n",
              "      <td>Huawei Y5</td>\n",
              "      <td>2019 - 4 cores - 5.71 inch - 16GB - black - 51...</td>\n",
              "      <td>144.00</td>\n",
              "      <td>NaN</td>\n",
              "      <td>NaN</td>\n",
              "      <td>1</td>\n",
              "    </tr>\n",
              "    <tr>\n",
              "      <th>3</th>\n",
              "      <td>Apple iPhone 11 Pro Max</td>\n",
              "      <td>6 cores - 6.5 inch - 256GB - Silver - MWHK2ZD/A</td>\n",
              "      <td>536.00</td>\n",
              "      <td></td>\n",
              "      <td>NaN</td>\n",
              "      <td>1</td>\n",
              "    </tr>\n",
              "  </tbody>\n",
              "</table>\n",
              "</div>\n",
              "      <button class=\"colab-df-convert\" onclick=\"convertToInteractive('df-c40a57bf-3102-4732-88fc-e186c9d47112')\"\n",
              "              title=\"Convert this dataframe to an interactive table.\"\n",
              "              style=\"display:none;\">\n",
              "        \n",
              "  <svg xmlns=\"http://www.w3.org/2000/svg\" height=\"24px\"viewBox=\"0 0 24 24\"\n",
              "       width=\"24px\">\n",
              "    <path d=\"M0 0h24v24H0V0z\" fill=\"none\"/>\n",
              "    <path d=\"M18.56 5.44l.94 2.06.94-2.06 2.06-.94-2.06-.94-.94-2.06-.94 2.06-2.06.94zm-11 1L8.5 8.5l.94-2.06 2.06-.94-2.06-.94L8.5 2.5l-.94 2.06-2.06.94zm10 10l.94 2.06.94-2.06 2.06-.94-2.06-.94-.94-2.06-.94 2.06-2.06.94z\"/><path d=\"M17.41 7.96l-1.37-1.37c-.4-.4-.92-.59-1.43-.59-.52 0-1.04.2-1.43.59L10.3 9.45l-7.72 7.72c-.78.78-.78 2.05 0 2.83L4 21.41c.39.39.9.59 1.41.59.51 0 1.02-.2 1.41-.59l7.78-7.78 2.81-2.81c.8-.78.8-2.07 0-2.86zM5.41 20L4 18.59l7.72-7.72 1.47 1.35L5.41 20z\"/>\n",
              "  </svg>\n",
              "      </button>\n",
              "      \n",
              "  <style>\n",
              "    .colab-df-container {\n",
              "      display:flex;\n",
              "      flex-wrap:wrap;\n",
              "      gap: 12px;\n",
              "    }\n",
              "\n",
              "    .colab-df-convert {\n",
              "      background-color: #E8F0FE;\n",
              "      border: none;\n",
              "      border-radius: 50%;\n",
              "      cursor: pointer;\n",
              "      display: none;\n",
              "      fill: #1967D2;\n",
              "      height: 32px;\n",
              "      padding: 0 0 0 0;\n",
              "      width: 32px;\n",
              "    }\n",
              "\n",
              "    .colab-df-convert:hover {\n",
              "      background-color: #E2EBFA;\n",
              "      box-shadow: 0px 1px 2px rgba(60, 64, 67, 0.3), 0px 1px 3px 1px rgba(60, 64, 67, 0.15);\n",
              "      fill: #174EA6;\n",
              "    }\n",
              "\n",
              "    [theme=dark] .colab-df-convert {\n",
              "      background-color: #3B4455;\n",
              "      fill: #D2E3FC;\n",
              "    }\n",
              "\n",
              "    [theme=dark] .colab-df-convert:hover {\n",
              "      background-color: #434B5C;\n",
              "      box-shadow: 0px 1px 3px 1px rgba(0, 0, 0, 0.15);\n",
              "      filter: drop-shadow(0px 1px 2px rgba(0, 0, 0, 0.3));\n",
              "      fill: #FFFFFF;\n",
              "    }\n",
              "  </style>\n",
              "\n",
              "      <script>\n",
              "        const buttonEl =\n",
              "          document.querySelector('#df-c40a57bf-3102-4732-88fc-e186c9d47112 button.colab-df-convert');\n",
              "        buttonEl.style.display =\n",
              "          google.colab.kernel.accessAllowed ? 'block' : 'none';\n",
              "\n",
              "        async function convertToInteractive(key) {\n",
              "          const element = document.querySelector('#df-c40a57bf-3102-4732-88fc-e186c9d47112');\n",
              "          const dataTable =\n",
              "            await google.colab.kernel.invokeFunction('convertToInteractive',\n",
              "                                                     [key], {});\n",
              "          if (!dataTable) return;\n",
              "\n",
              "          const docLinkHtml = 'Like what you see? Visit the ' +\n",
              "            '<a target=\"_blank\" href=https://colab.research.google.com/notebooks/data_table.ipynb>data table notebook</a>'\n",
              "            + ' to learn more about interactive tables.';\n",
              "          element.innerHTML = '';\n",
              "          dataTable['output_type'] = 'display_data';\n",
              "          await google.colab.output.renderOutput(dataTable, element);\n",
              "          const docLink = document.createElement('div');\n",
              "          docLink.innerHTML = docLinkHtml;\n",
              "          element.appendChild(docLink);\n",
              "        }\n",
              "      </script>\n",
              "    </div>\n",
              "  </div>\n",
              "  "
            ]
          },
          "metadata": {},
          "execution_count": 5
        }
      ]
    },
    {
      "cell_type": "code",
      "source": [
        "data.columns"
      ],
      "metadata": {
        "colab": {
          "base_uri": "https://localhost:8080/"
        },
        "id": "rkc18es2Q4wQ",
        "outputId": "c7cba8c9-b346-4045-e869-ccc07b8de865"
      },
      "execution_count": null,
      "outputs": [
        {
          "output_type": "execute_result",
          "data": {
            "text/plain": [
              "Index(['Products_Model', 'Products_details', 'Price_regular', 'Price_offers',\n",
              "       'Currency', 'Known_price'],\n",
              "      dtype='object')"
            ]
          },
          "metadata": {},
          "execution_count": 6
        }
      ]
    },
    {
      "cell_type": "code",
      "source": [
        "data.isna().sum()"
      ],
      "metadata": {
        "colab": {
          "base_uri": "https://localhost:8080/"
        },
        "id": "-gYxb64MRbqb",
        "outputId": "b5b05e34-2bd9-41a9-c538-edfe79ee7e6b"
      },
      "execution_count": null,
      "outputs": [
        {
          "output_type": "execute_result",
          "data": {
            "text/plain": [
              "Products_Model         0\n",
              "Products_details       0\n",
              "Price_regular         21\n",
              "Price_offers          94\n",
              "Currency            1546\n",
              "Known_price            0\n",
              "dtype: int64"
            ]
          },
          "metadata": {},
          "execution_count": 7
        }
      ]
    },
    {
      "cell_type": "code",
      "source": [
        "data.dtypes"
      ],
      "metadata": {
        "colab": {
          "base_uri": "https://localhost:8080/"
        },
        "id": "e2HtaruPRtE4",
        "outputId": "33324526-eebb-4532-c52f-211f1740e0d7"
      },
      "execution_count": null,
      "outputs": [
        {
          "output_type": "execute_result",
          "data": {
            "text/plain": [
              "Products_Model       object\n",
              "Products_details     object\n",
              "Price_regular       float64\n",
              "Price_offers         object\n",
              "Currency             object\n",
              "Known_price           int64\n",
              "dtype: object"
            ]
          },
          "metadata": {},
          "execution_count": 8
        }
      ]
    },
    {
      "cell_type": "code",
      "source": [
        "len(data)"
      ],
      "metadata": {
        "colab": {
          "base_uri": "https://localhost:8080/"
        },
        "id": "S4Fal9gvSHLv",
        "outputId": "6251aa24-7dcd-4b61-9eb5-93b4316f9828"
      },
      "execution_count": null,
      "outputs": [
        {
          "output_type": "execute_result",
          "data": {
            "text/plain": [
              "2527"
            ]
          },
          "metadata": {},
          "execution_count": 9
        }
      ]
    },
    {
      "cell_type": "code",
      "source": [
        "import missingno as mso"
      ],
      "metadata": {
        "id": "CfB9jEhYSrt3"
      },
      "execution_count": null,
      "outputs": []
    },
    {
      "cell_type": "code",
      "source": [
        "mso.matrix(data)"
      ],
      "metadata": {
        "colab": {
          "base_uri": "https://localhost:8080/",
          "height": 616
        },
        "id": "_DYcgHpcUOgB",
        "outputId": "a1952155-5e5f-4992-e614-16c7c43e342e"
      },
      "execution_count": null,
      "outputs": [
        {
          "output_type": "execute_result",
          "data": {
            "text/plain": [
              "<Axes: >"
            ]
          },
          "metadata": {},
          "execution_count": 11
        },
        {
          "output_type": "display_data",
          "data": {
            "text/plain": [
              "<Figure size 2500x1000 with 2 Axes>"
            ],
            "image/png": "[encoded data removed]"
          },
          "metadata": {}
        }
      ]
    },
    {
      "cell_type": "code",
      "source": [
        "data.nunique()"
      ],
      "metadata": {
        "colab": {
          "base_uri": "https://localhost:8080/"
        },
        "id": "L2lPRKTwUWye",
        "outputId": "66667fd1-90e6-4db2-8823-5df4ec8106b5"
      },
      "execution_count": null,
      "outputs": [
        {
          "output_type": "execute_result",
          "data": {
            "text/plain": [
              "Products_Model       852\n",
              "Products_details    2527\n",
              "Price_regular       1227\n",
              "Price_offers         558\n",
              "Currency               2\n",
              "Known_price           13\n",
              "dtype: int64"
            ]
          },
          "metadata": {},
          "execution_count": 12
        }
      ]
    },
    {
      "cell_type": "code",
      "source": [
        "data[data['Price_regular'].isna()]"
      ],
      "metadata": {
        "colab": {
          "base_uri": "https://localhost:8080/",
          "height": 708
        },
        "id": "Ld5_C6jzVs1O",
        "outputId": "2efdb2c0-03f4-4ada-9584-8ad62cd92b96"
      },
      "execution_count": null,
      "outputs": [
        {
          "output_type": "execute_result",
          "data": {
            "text/plain": [
              "                       Products_Model  \\\n",
              "36           Samsung Galaxy S22 Ultra   \n",
              "109             Motorola Moto G7 Play   \n",
              "277            Sony Xperia XZ Premium   \n",
              "292                Samsung Galaxy A71   \n",
              "293                   Sony Xperia XZ1   \n",
              "406   Blackberry KEY2 Limited Edition   \n",
              "589                   Huawei P40 Lite   \n",
              "624                Samsung Galaxy A52   \n",
              "658                           Lg Leon   \n",
              "729               Samsung Galaxy Fold   \n",
              "992                      Motorola One   \n",
              "995                Motorola moto edge   \n",
              "1002                   Google Pixel 5   \n",
              "1006                  Google Pixel 4a   \n",
              "1007               Google Pixel 6 Pro   \n",
              "1008               Google Pixel 6 Pro   \n",
              "1024                   Google Pixel 6   \n",
              "1466                    Gigaset GS195   \n",
              "1467            Motorola Moto E6 Play   \n",
              "1505           Samsung Galaxy S7 G930   \n",
              "1632                Xiaomi Mi A2 Lite   \n",
              "\n",
              "                                       Products_details  Price_regular  \\\n",
              "36    Qualcomm Snapdragon 8 Gen 1 - 6.8 inch - 1000G...            NaN   \n",
              "109   Snapdragon 632 - 5.7 inch - 32GB - Deep Indigo...            NaN   \n",
              "277   6 cores - 5.5 inch - 64GB - Chrome - XPERIAXZP...            NaN   \n",
              "292   Snapdragon 765G - 6.7 inch - 128GB - Prism Cub...            NaN   \n",
              "293      8 cores - 5.2 inch - 64GB - Silver - 1310-6533            NaN   \n",
              "406   8 cores - 4.5 inch - 64GB - Blue | Gold - PRD-...            NaN   \n",
              "589   2020 - 8 cores - 6.4 inch - 128GB - Green - 51...            NaN   \n",
              "624   2021 - 8 cores - 6.5 inch - 256GB - Awesome Bl...            NaN   \n",
              "658   4 cores - 4.5 inch - 8GB - Black - LGH340N.ANLDKT            NaN   \n",
              "729   Qualcomm Snapdragon 855 - 7.3 inch - 512GB - S...            NaN   \n",
              "992   Qualcomm Snapdragon 765 5G - 6.7 inch - 128GB ...            NaN   \n",
              "995   Snapdragon 765 - 6.7 inch - 256GB - Solar Blac...            NaN   \n",
              "1002  Qualcomm Snapdragon765G, Titan M security modu...            NaN   \n",
              "1006  Qualcomm Snapdragon 765G - 6.2 inch - 128GB - ...            NaN   \n",
              "1007  Google Tensor - 6.7 inch - 256GB - Cloudy Whit...            NaN   \n",
              "1008  Google Tensor - 6.7 inch - 128GB - Cloudy Whit...            NaN   \n",
              "1024  Google Tensor - 6.4 inch - 128GB - Stormy Blac...            NaN   \n",
              "1466  2019 - 8 cores - 6.18 inch - 32GB - Titanium -...            NaN   \n",
              "1467  2019 - 4 cores - 5.5 inch - 32GB - Black - PAH...            NaN   \n",
              "1505  2016 - 8 cores - 5.1 inch - 32GB - White - SAM...            NaN   \n",
              "1632  8 cores - 5.84 inch - 64GB - Black - 821011000...            NaN   \n",
              "\n",
              "     Price_offers Currency  Known_price  \n",
              "36                     NaN            1  \n",
              "109                    NaN            1  \n",
              "277                    NaN            1  \n",
              "292                    NaN            1  \n",
              "293                    NaN            1  \n",
              "406                    NaN            1  \n",
              "589                    NaN            1  \n",
              "624                    NaN            1  \n",
              "658                    NaN            1  \n",
              "729                    NaN            1  \n",
              "992                    NaN            1  \n",
              "995                    NaN            1  \n",
              "1002                   NaN            1  \n",
              "1006                   NaN            1  \n",
              "1007                   NaN            1  \n",
              "1008                   NaN            1  \n",
              "1024                   NaN            1  \n",
              "1466                   NaN            1  \n",
              "1467                   NaN            1  \n",
              "1505                   NaN            1  \n",
              "1632                   NaN            1  "
            ],
            "text/html": [
              "\n",
              "  <div id=\"df-0a2c9159-86f6-472e-a0e6-7c440ffdc48f\">\n",
              "    <div class=\"colab-df-container\">\n",
              "      <div>\n",
              "<style scoped>\n",
              "    .dataframe tbody tr th:only-of-type {\n",
              "        vertical-align: middle;\n",
              "    }\n",
              "\n",
              "    .dataframe tbody tr th {\n",
              "        vertical-align: top;\n",
              "    }\n",
              "\n",
              "    .dataframe thead th {\n",
              "        text-align: right;\n",
              "    }\n",
              "</style>\n",
              "<table border=\"1\" class=\"dataframe\">\n",
              "  <thead>\n",
              "    <tr style=\"text-align: right;\">\n",
              "      <th></th>\n",
              "      <th>Products_Model</th>\n",
              "      <th>Products_details</th>\n",
              "      <th>Price_regular</th>\n",
              "      <th>Price_offers</th>\n",
              "      <th>Currency</th>\n",
              "      <th>Known_price</th>\n",
              "    </tr>\n",
              "  </thead>\n",
              "  <tbody>\n",
              "    <tr>\n",
              "      <th>36</th>\n",
              "      <td>Samsung Galaxy S22 Ultra</td>\n",
              "      <td>Qualcomm Snapdragon 8 Gen 1 - 6.8 inch - 1000G...</td>\n",
              "      <td>NaN</td>\n",
              "      <td></td>\n",
              "      <td>NaN</td>\n",
              "      <td>1</td>\n",
              "    </tr>\n",
              "    <tr>\n",
              "      <th>109</th>\n",
              "      <td>Motorola Moto G7 Play</td>\n",
              "      <td>Snapdragon 632 - 5.7 inch - 32GB - Deep Indigo...</td>\n",
              "      <td>NaN</td>\n",
              "      <td></td>\n",
              "      <td>NaN</td>\n",
              "      <td>1</td>\n",
              "    </tr>\n",
              "    <tr>\n",
              "      <th>277</th>\n",
              "      <td>Sony Xperia XZ Premium</td>\n",
              "      <td>6 cores - 5.5 inch - 64GB - Chrome - XPERIAXZP...</td>\n",
              "      <td>NaN</td>\n",
              "      <td></td>\n",
              "      <td>NaN</td>\n",
              "      <td>1</td>\n",
              "    </tr>\n",
              "    <tr>\n",
              "      <th>292</th>\n",
              "      <td>Samsung Galaxy A71</td>\n",
              "      <td>Snapdragon 765G - 6.7 inch - 128GB - Prism Cub...</td>\n",
              "      <td>NaN</td>\n",
              "      <td></td>\n",
              "      <td>NaN</td>\n",
              "      <td>1</td>\n",
              "    </tr>\n",
              "    <tr>\n",
              "      <th>293</th>\n",
              "      <td>Sony Xperia XZ1</td>\n",
              "      <td>8 cores - 5.2 inch - 64GB - Silver - 1310-6533</td>\n",
              "      <td>NaN</td>\n",
              "      <td></td>\n",
              "      <td>NaN</td>\n",
              "      <td>1</td>\n",
              "    </tr>\n",
              "    <tr>\n",
              "      <th>406</th>\n",
              "      <td>Blackberry KEY2 Limited Edition</td>\n",
              "      <td>8 cores - 4.5 inch - 64GB - Blue | Gold - PRD-...</td>\n",
              "      <td>NaN</td>\n",
              "      <td></td>\n",
              "      <td>NaN</td>\n",
              "      <td>1</td>\n",
              "    </tr>\n",
              "    <tr>\n",
              "      <th>589</th>\n",
              "      <td>Huawei P40 Lite</td>\n",
              "      <td>2020 - 8 cores - 6.4 inch - 128GB - Green - 51...</td>\n",
              "      <td>NaN</td>\n",
              "      <td></td>\n",
              "      <td>NaN</td>\n",
              "      <td>1</td>\n",
              "    </tr>\n",
              "    <tr>\n",
              "      <th>624</th>\n",
              "      <td>Samsung Galaxy A52</td>\n",
              "      <td>2021 - 8 cores - 6.5 inch - 256GB - Awesome Bl...</td>\n",
              "      <td>NaN</td>\n",
              "      <td></td>\n",
              "      <td>NaN</td>\n",
              "      <td>1</td>\n",
              "    </tr>\n",
              "    <tr>\n",
              "      <th>658</th>\n",
              "      <td>Lg Leon</td>\n",
              "      <td>4 cores - 4.5 inch - 8GB - Black - LGH340N.ANLDKT</td>\n",
              "      <td>NaN</td>\n",
              "      <td></td>\n",
              "      <td>NaN</td>\n",
              "      <td>1</td>\n",
              "    </tr>\n",
              "    <tr>\n",
              "      <th>729</th>\n",
              "      <td>Samsung Galaxy Fold</td>\n",
              "      <td>Qualcomm Snapdragon 855 - 7.3 inch - 512GB - S...</td>\n",
              "      <td>NaN</td>\n",
              "      <td></td>\n",
              "      <td>NaN</td>\n",
              "      <td>1</td>\n",
              "    </tr>\n",
              "    <tr>\n",
              "      <th>992</th>\n",
              "      <td>Motorola One</td>\n",
              "      <td>Qualcomm Snapdragon 765 5G - 6.7 inch - 128GB ...</td>\n",
              "      <td>NaN</td>\n",
              "      <td></td>\n",
              "      <td>NaN</td>\n",
              "      <td>1</td>\n",
              "    </tr>\n",
              "    <tr>\n",
              "      <th>995</th>\n",
              "      <td>Motorola moto edge</td>\n",
              "      <td>Snapdragon 765 - 6.7 inch - 256GB - Solar Blac...</td>\n",
              "      <td>NaN</td>\n",
              "      <td></td>\n",
              "      <td>NaN</td>\n",
              "      <td>1</td>\n",
              "    </tr>\n",
              "    <tr>\n",
              "      <th>1002</th>\n",
              "      <td>Google Pixel 5</td>\n",
              "      <td>Qualcomm Snapdragon765G, Titan M security modu...</td>\n",
              "      <td>NaN</td>\n",
              "      <td></td>\n",
              "      <td>NaN</td>\n",
              "      <td>1</td>\n",
              "    </tr>\n",
              "    <tr>\n",
              "      <th>1006</th>\n",
              "      <td>Google Pixel 4a</td>\n",
              "      <td>Qualcomm Snapdragon 765G - 6.2 inch - 128GB - ...</td>\n",
              "      <td>NaN</td>\n",
              "      <td></td>\n",
              "      <td>NaN</td>\n",
              "      <td>1</td>\n",
              "    </tr>\n",
              "    <tr>\n",
              "      <th>1007</th>\n",
              "      <td>Google Pixel 6 Pro</td>\n",
              "      <td>Google Tensor - 6.7 inch - 256GB - Cloudy Whit...</td>\n",
              "      <td>NaN</td>\n",
              "      <td></td>\n",
              "      <td>NaN</td>\n",
              "      <td>1</td>\n",
              "    </tr>\n",
              "    <tr>\n",
              "      <th>1008</th>\n",
              "      <td>Google Pixel 6 Pro</td>\n",
              "      <td>Google Tensor - 6.7 inch - 128GB - Cloudy Whit...</td>\n",
              "      <td>NaN</td>\n",
              "      <td></td>\n",
              "      <td>NaN</td>\n",
              "      <td>1</td>\n",
              "    </tr>\n",
              "    <tr>\n",
              "      <th>1024</th>\n",
              "      <td>Google Pixel 6</td>\n",
              "      <td>Google Tensor - 6.4 inch - 128GB - Stormy Blac...</td>\n",
              "      <td>NaN</td>\n",
              "      <td></td>\n",
              "      <td>NaN</td>\n",
              "      <td>1</td>\n",
              "    </tr>\n",
              "    <tr>\n",
              "      <th>1466</th>\n",
              "      <td>Gigaset GS195</td>\n",
              "      <td>2019 - 8 cores - 6.18 inch - 32GB - Titanium -...</td>\n",
              "      <td>NaN</td>\n",
              "      <td></td>\n",
              "      <td>NaN</td>\n",
              "      <td>1</td>\n",
              "    </tr>\n",
              "    <tr>\n",
              "      <th>1467</th>\n",
              "      <td>Motorola Moto E6 Play</td>\n",
              "      <td>2019 - 4 cores - 5.5 inch - 32GB - Black - PAH...</td>\n",
              "      <td>NaN</td>\n",
              "      <td></td>\n",
              "      <td>NaN</td>\n",
              "      <td>1</td>\n",
              "    </tr>\n",
              "    <tr>\n",
              "      <th>1505</th>\n",
              "      <td>Samsung Galaxy S7 G930</td>\n",
              "      <td>2016 - 8 cores - 5.1 inch - 32GB - White - SAM...</td>\n",
              "      <td>NaN</td>\n",
              "      <td></td>\n",
              "      <td>NaN</td>\n",
              "      <td>1</td>\n",
              "    </tr>\n",
              "    <tr>\n",
              "      <th>1632</th>\n",
              "      <td>Xiaomi Mi A2 Lite</td>\n",
              "      <td>8 cores - 5.84 inch - 64GB - Black - 821011000...</td>\n",
              "      <td>NaN</td>\n",
              "      <td></td>\n",
              "      <td>NaN</td>\n",
              "      <td>1</td>\n",
              "    </tr>\n",
              "  </tbody>\n",
              "</table>\n",
              "</div>\n",
              "      <button class=\"colab-df-convert\" onclick=\"convertToInteractive('df-0a2c9159-86f6-472e-a0e6-7c440ffdc48f')\"\n",
              "              title=\"Convert this dataframe to an interactive table.\"\n",
              "              style=\"display:none;\">\n",
              "        \n",
              "  <svg xmlns=\"http://www.w3.org/2000/svg\" height=\"24px\"viewBox=\"0 0 24 24\"\n",
              "       width=\"24px\">\n",
              "    <path d=\"M0 0h24v24H0V0z\" fill=\"none\"/>\n",
              "    <path d=\"M18.56 5.44l.94 2.06.94-2.06 2.06-.94-2.06-.94-.94-2.06-.94 2.06-2.06.94zm-11 1L8.5 8.5l.94-2.06 2.06-.94-2.06-.94L8.5 2.5l-.94 2.06-2.06.94zm10 10l.94 2.06.94-2.06 2.06-.94-2.06-.94-.94-2.06-.94 2.06-2.06.94z\"/><path d=\"M17.41 7.96l-1.37-1.37c-.4-.4-.92-.59-1.43-.59-.52 0-1.04.2-1.43.59L10.3 9.45l-7.72 7.72c-.78.78-.78 2.05 0 2.83L4 21.41c.39.39.9.59 1.41.59.51 0 1.02-.2 1.41-.59l7.78-7.78 2.81-2.81c.8-.78.8-2.07 0-2.86zM5.41 20L4 18.59l7.72-7.72 1.47 1.35L5.41 20z\"/>\n",
              "  </svg>\n",
              "      </button>\n",
              "      \n",
              "  <style>\n",
              "    .colab-df-container {\n",
              "      display:flex;\n",
              "      flex-wrap:wrap;\n",
              "      gap: 12px;\n",
              "    }\n",
              "\n",
              "    .colab-df-convert {\n",
              "      background-color: #E8F0FE;\n",
              "      border: none;\n",
              "      border-radius: 50%;\n",
              "      cursor: pointer;\n",
              "      display: none;\n",
              "      fill: #1967D2;\n",
              "      height: 32px;\n",
              "      padding: 0 0 0 0;\n",
              "      width: 32px;\n",
              "    }\n",
              "\n",
              "    .colab-df-convert:hover {\n",
              "      background-color: #E2EBFA;\n",
              "      box-shadow: 0px 1px 2px rgba(60, 64, 67, 0.3), 0px 1px 3px 1px rgba(60, 64, 67, 0.15);\n",
              "      fill: #174EA6;\n",
              "    }\n",
              "\n",
              "    [theme=dark] .colab-df-convert {\n",
              "      background-color: #3B4455;\n",
              "      fill: #D2E3FC;\n",
              "    }\n",
              "\n",
              "    [theme=dark] .colab-df-convert:hover {\n",
              "      background-color: #434B5C;\n",
              "      box-shadow: 0px 1px 3px 1px rgba(0, 0, 0, 0.15);\n",
              "      filter: drop-shadow(0px 1px 2px rgba(0, 0, 0, 0.3));\n",
              "      fill: #FFFFFF;\n",
              "    }\n",
              "  </style>\n",
              "\n",
              "      <script>\n",
              "        const buttonEl =\n",
              "          document.querySelector('#df-0a2c9159-86f6-472e-a0e6-7c440ffdc48f button.colab-df-convert');\n",
              "        buttonEl.style.display =\n",
              "          google.colab.kernel.accessAllowed ? 'block' : 'none';\n",
              "\n",
              "        async function convertToInteractive(key) {\n",
              "          const element = document.querySelector('#df-0a2c9159-86f6-472e-a0e6-7c440ffdc48f');\n",
              "          const dataTable =\n",
              "            await google.colab.kernel.invokeFunction('convertToInteractive',\n",
              "                                                     [key], {});\n",
              "          if (!dataTable) return;\n",
              "\n",
              "          const docLinkHtml = 'Like what you see? Visit the ' +\n",
              "            '<a target=\"_blank\" href=https://colab.research.google.com/notebooks/data_table.ipynb>data table notebook</a>'\n",
              "            + ' to learn more about interactive tables.';\n",
              "          element.innerHTML = '';\n",
              "          dataTable['output_type'] = 'display_data';\n",
              "          await google.colab.output.renderOutput(dataTable, element);\n",
              "          const docLink = document.createElement('div');\n",
              "          docLink.innerHTML = docLinkHtml;\n",
              "          element.appendChild(docLink);\n",
              "        }\n",
              "      </script>\n",
              "    </div>\n",
              "  </div>\n",
              "  "
            ]
          },
          "metadata": {},
          "execution_count": 13
        }
      ]
    },
    {
      "cell_type": "code",
      "source": [
        "data[data['Products_Model']=='Samsung Galaxy S22 Ultra']"
      ],
      "metadata": {
        "colab": {
          "base_uri": "https://localhost:8080/",
          "height": 1000
        },
        "id": "OMFCx2S5V0rG",
        "outputId": "357a8273-398b-432a-c5db-71c84b81f3d7"
      },
      "execution_count": null,
      "outputs": [
        {
          "output_type": "execute_result",
          "data": {
            "text/plain": [
              "                Products_Model  \\\n",
              "36    Samsung Galaxy S22 Ultra   \n",
              "37    Samsung Galaxy S22 Ultra   \n",
              "83    Samsung Galaxy S22 Ultra   \n",
              "297   Samsung Galaxy S22 Ultra   \n",
              "314   Samsung Galaxy S22 Ultra   \n",
              "315   Samsung Galaxy S22 Ultra   \n",
              "343   Samsung Galaxy S22 Ultra   \n",
              "570   Samsung Galaxy S22 Ultra   \n",
              "654   Samsung Galaxy S22 Ultra   \n",
              "702   Samsung Galaxy S22 Ultra   \n",
              "784   Samsung Galaxy S22 Ultra   \n",
              "866   Samsung Galaxy S22 Ultra   \n",
              "884   Samsung Galaxy S22 Ultra   \n",
              "892   Samsung Galaxy S22 Ultra   \n",
              "896   Samsung Galaxy S22 Ultra   \n",
              "899   Samsung Galaxy S22 Ultra   \n",
              "905   Samsung Galaxy S22 Ultra   \n",
              "944   Samsung Galaxy S22 Ultra   \n",
              "946   Samsung Galaxy S22 Ultra   \n",
              "997   Samsung Galaxy S22 Ultra   \n",
              "1085  Samsung Galaxy S22 Ultra   \n",
              "1125  Samsung Galaxy S22 Ultra   \n",
              "1131  Samsung Galaxy S22 Ultra   \n",
              "1924  Samsung Galaxy S22 Ultra   \n",
              "2045  Samsung Galaxy S22 Ultra   \n",
              "2049  Samsung Galaxy S22 Ultra   \n",
              "2060  Samsung Galaxy S22 Ultra   \n",
              "2061  Samsung Galaxy S22 Ultra   \n",
              "2069  Samsung Galaxy S22 Ultra   \n",
              "2314  Samsung Galaxy S22 Ultra   \n",
              "2316  Samsung Galaxy S22 Ultra   \n",
              "2317  Samsung Galaxy S22 Ultra   \n",
              "2319  Samsung Galaxy S22 Ultra   \n",
              "2326  Samsung Galaxy S22 Ultra   \n",
              "2445  Samsung Galaxy S22 Ultra   \n",
              "2452  Samsung Galaxy S22 Ultra   \n",
              "\n",
              "                                       Products_details  Price_regular  \\\n",
              "36    Qualcomm Snapdragon 8 Gen 1 - 6.8 inch - 1000G...            NaN   \n",
              "37    2022 - Samsung Exynos 2200 - 8 cores - 6.8 inc...        1419.00   \n",
              "83    Qualcomm Snapdragon 8 Gen 1 - 6.8 inch - 128GB...        1199.99   \n",
              "297   Qualcomm Snapdragon 8 Gen 1 - 6.8 inch - 512GB...        1399.99   \n",
              "314   2022 - 8 cores - 6.8 inch - 256GB - Green - SM...        1159.20   \n",
              "315   2022 - 8 cores - 6.8 inch - 128GB - Black - SM...        1312.00   \n",
              "343   Qualcomm Snapdragon 8 Gen 1 - 6.8 inch - 512GB...        1399.99   \n",
              "570   Qualcomm Snapdragon 8 Gen 1 - 6.8 inch - 256GB...          54.17   \n",
              "654   2022 - [Qualcomm SM8450] - 8 cores - 14.6 inch...        2399.00   \n",
              "702   2022 - [Qualcomm SM8450] - 8 cores - 12.4 inch...        2199.00   \n",
              "784   Qualcomm Snapdragon 8 Gen 1 - 6.8 inch - 512GB...        1399.99   \n",
              "866   Qualcomm Snapdragon 8 Gen 1 - 6.8 inch - 128GB...          33.34   \n",
              "884   Qualcomm Snapdragon 8 Gen 1 - 6.8 inch - 128GB...          33.33   \n",
              "892   Qualcomm Snapdragon 8 Gen 1 - 6.8 inch - 128GB...          50.00   \n",
              "896   Qualcomm Snapdragon 8 Gen 1 - 6.8 inch - 512GB...        1199.99   \n",
              "899   Qualcomm Snapdragon 8 Gen 1 - 6.8 inch - 128GB...        1199.99   \n",
              "905   Qualcomm Snapdragon 8 Gen 1 - 6.8 inch - 256GB...        1299.99   \n",
              "944   Qualcomm Snapdragon 8 Gen 1 - 6.8 inch - 256GB...          54.17   \n",
              "946   Qualcomm Snapdragon 8 Gen 1 - 6.8 inch - 256GB...          36.11   \n",
              "997   Qualcomm Snapdragon 8 Gen 1 - 6.8 inch - 512GB...          58.34   \n",
              "1085  2021 - Samsung Exynos 2200 - 8 cores - 46 inch...        1549.00   \n",
              "1125  2022 - [Qualcomm SM8450] - 8 cores - 11 inch -...        1949.00   \n",
              "1131  2022 - Samsung Exynos 2200 - 8 cores - 6.8 inc...        1249.00   \n",
              "1924  2022 - 8 cores - 6.8 inch - 1GB - black | Phan...         999.00   \n",
              "2045  2022 - Samsung Exynos 2200 - 8 cores - 6.8 inc...        1039.00   \n",
              "2049  2022 - Samsung Exynos 2200 - 8 cores - 6.8 inc...        1183.44   \n",
              "2060  2022 - Samsung Exynos 2200 - 8 cores - 6.8 inc...        1285.36   \n",
              "2061  2022 - Samsung Exynos 2200 - 8 cores - 6.8 inc...        1183.44   \n",
              "2069  2022 - Samsung Exynos 2200 - 8 cores - 6.8 inc...        1080.19   \n",
              "2314  2022 - Samsung Exynos 2200 - 8 cores - 6.8 inc...        1285.36   \n",
              "2316  2022 - Samsung Exynos 2200 - 8 cores - 6.8 inc...        1349.00   \n",
              "2317  2022 - Samsung Exynos 2200 - 8 cores - 6.8 inc...        1449.00   \n",
              "2319  2022 - Samsung Exynos 2200 - 8 cores - 6.8 inc...        1080.19   \n",
              "2326  2022 - Samsung Exynos 2200 - 8 cores - 6.8 inc...        1449.00   \n",
              "2445  Samsung Exynos - 8 cores - 6.8 inch - 128GB - ...        1294.55   \n",
              "2452  2022 - Samsung Exynos 2200 - 8 cores - 6.8 inc...        1183.44   \n",
              "\n",
              "     Price_offers Currency  Known_price  \n",
              "36                     NaN            1  \n",
              "37                     NaN            5  \n",
              "83                     NaN            1  \n",
              "297       1249.99      USD            1  \n",
              "314                    NaN            1  \n",
              "315                    NaN            1  \n",
              "343       1299.99      USD            1  \n",
              "570         45.83      USD            2  \n",
              "654          2349      EUR            1  \n",
              "702          2149      EUR            1  \n",
              "784           NaN      USD            1  \n",
              "866         30.55      USD            1  \n",
              "884         27.77      USD            1  \n",
              "892         41.66      USD            2  \n",
              "896                    NaN            1  \n",
              "899       1099.99      USD            1  \n",
              "905       1199.99      USD            1  \n",
              "944         45.83      USD            2  \n",
              "946         30.55      USD            1  \n",
              "997         49.99      USD            2  \n",
              "1085         1529      EUR            1  \n",
              "1125         1899      EUR            1  \n",
              "1131         1199      EUR            1  \n",
              "1924                   NaN           15  \n",
              "2045                   NaN            2  \n",
              "2049                   NaN            2  \n",
              "2060                   NaN            2  \n",
              "2061                   NaN            2  \n",
              "2069                   NaN            2  \n",
              "2314                   NaN            2  \n",
              "2316                   NaN            2  \n",
              "2317                   NaN            2  \n",
              "2319                   NaN            2  \n",
              "2326                   NaN            2  \n",
              "2445                   NaN            1  \n",
              "2452                   NaN            2  "
            ],
            "text/html": [
              "\n",
              "  <div id=\"df-7b7a5b72-49d3-4538-beb0-0d187175381e\">\n",
              "    <div class=\"colab-df-container\">\n",
              "      <div>\n",
              "<style scoped>\n",
              "    .dataframe tbody tr th:only-of-type {\n",
              "        vertical-align: middle;\n",
              "    }\n",
              "\n",
              "    .dataframe tbody tr th {\n",
              "        vertical-align: top;\n",
              "    }\n",
              "\n",
              "    .dataframe thead th {\n",
              "        text-align: right;\n",
              "    }\n",
              "</style>\n",
              "<table border=\"1\" class=\"dataframe\">\n",
              "  <thead>\n",
              "    <tr style=\"text-align: right;\">\n",
              "      <th></th>\n",
              "      <th>Products_Model</th>\n",
              "      <th>Products_details</th>\n",
              "      <th>Price_regular</th>\n",
              "      <th>Price_offers</th>\n",
              "      <th>Currency</th>\n",
              "      <th>Known_price</th>\n",
              "    </tr>\n",
              "  </thead>\n",
              "  <tbody>\n",
              "    <tr>\n",
              "      <th>36</th>\n",
              "      <td>Samsung Galaxy S22 Ultra</td>\n",
              "      <td>Qualcomm Snapdragon 8 Gen 1 - 6.8 inch - 1000G...</td>\n",
              "      <td>NaN</td>\n",
              "      <td></td>\n",
              "      <td>NaN</td>\n",
              "      <td>1</td>\n",
              "    </tr>\n",
              "    <tr>\n",
              "      <th>37</th>\n",
              "      <td>Samsung Galaxy S22 Ultra</td>\n",
              "      <td>2022 - Samsung Exynos 2200 - 8 cores - 6.8 inc...</td>\n",
              "      <td>1419.00</td>\n",
              "      <td></td>\n",
              "      <td>NaN</td>\n",
              "      <td>5</td>\n",
              "    </tr>\n",
              "    <tr>\n",
              "      <th>83</th>\n",
              "      <td>Samsung Galaxy S22 Ultra</td>\n",
              "      <td>Qualcomm Snapdragon 8 Gen 1 - 6.8 inch - 128GB...</td>\n",
              "      <td>1199.99</td>\n",
              "      <td></td>\n",
              "      <td>NaN</td>\n",
              "      <td>1</td>\n",
              "    </tr>\n",
              "    <tr>\n",
              "      <th>297</th>\n",
              "      <td>Samsung Galaxy S22 Ultra</td>\n",
              "      <td>Qualcomm Snapdragon 8 Gen 1 - 6.8 inch - 512GB...</td>\n",
              "      <td>1399.99</td>\n",
              "      <td>1249.99</td>\n",
              "      <td>USD</td>\n",
              "      <td>1</td>\n",
              "    </tr>\n",
              "    <tr>\n",
              "      <th>314</th>\n",
              "      <td>Samsung Galaxy S22 Ultra</td>\n",
              "      <td>2022 - 8 cores - 6.8 inch - 256GB - Green - SM...</td>\n",
              "      <td>1159.20</td>\n",
              "      <td></td>\n",
              "      <td>NaN</td>\n",
              "      <td>1</td>\n",
              "    </tr>\n",
              "    <tr>\n",
              "      <th>315</th>\n",
              "      <td>Samsung Galaxy S22 Ultra</td>\n",
              "      <td>2022 - 8 cores - 6.8 inch - 128GB - Black - SM...</td>\n",
              "      <td>1312.00</td>\n",
              "      <td></td>\n",
              "      <td>NaN</td>\n",
              "      <td>1</td>\n",
              "    </tr>\n",
              "    <tr>\n",
              "      <th>343</th>\n",
              "      <td>Samsung Galaxy S22 Ultra</td>\n",
              "      <td>Qualcomm Snapdragon 8 Gen 1 - 6.8 inch - 512GB...</td>\n",
              "      <td>1399.99</td>\n",
              "      <td>1299.99</td>\n",
              "      <td>USD</td>\n",
              "      <td>1</td>\n",
              "    </tr>\n",
              "    <tr>\n",
              "      <th>570</th>\n",
              "      <td>Samsung Galaxy S22 Ultra</td>\n",
              "      <td>Qualcomm Snapdragon 8 Gen 1 - 6.8 inch - 256GB...</td>\n",
              "      <td>54.17</td>\n",
              "      <td>45.83</td>\n",
              "      <td>USD</td>\n",
              "      <td>2</td>\n",
              "    </tr>\n",
              "    <tr>\n",
              "      <th>654</th>\n",
              "      <td>Samsung Galaxy S22 Ultra</td>\n",
              "      <td>2022 - [Qualcomm SM8450] - 8 cores - 14.6 inch...</td>\n",
              "      <td>2399.00</td>\n",
              "      <td>2349</td>\n",
              "      <td>EUR</td>\n",
              "      <td>1</td>\n",
              "    </tr>\n",
              "    <tr>\n",
              "      <th>702</th>\n",
              "      <td>Samsung Galaxy S22 Ultra</td>\n",
              "      <td>2022 - [Qualcomm SM8450] - 8 cores - 12.4 inch...</td>\n",
              "      <td>2199.00</td>\n",
              "      <td>2149</td>\n",
              "      <td>EUR</td>\n",
              "      <td>1</td>\n",
              "    </tr>\n",
              "    <tr>\n",
              "      <th>784</th>\n",
              "      <td>Samsung Galaxy S22 Ultra</td>\n",
              "      <td>Qualcomm Snapdragon 8 Gen 1 - 6.8 inch - 512GB...</td>\n",
              "      <td>1399.99</td>\n",
              "      <td>NaN</td>\n",
              "      <td>USD</td>\n",
              "      <td>1</td>\n",
              "    </tr>\n",
              "    <tr>\n",
              "      <th>866</th>\n",
              "      <td>Samsung Galaxy S22 Ultra</td>\n",
              "      <td>Qualcomm Snapdragon 8 Gen 1 - 6.8 inch - 128GB...</td>\n",
              "      <td>33.34</td>\n",
              "      <td>30.55</td>\n",
              "      <td>USD</td>\n",
              "      <td>1</td>\n",
              "    </tr>\n",
              "    <tr>\n",
              "      <th>884</th>\n",
              "      <td>Samsung Galaxy S22 Ultra</td>\n",
              "      <td>Qualcomm Snapdragon 8 Gen 1 - 6.8 inch - 128GB...</td>\n",
              "      <td>33.33</td>\n",
              "      <td>27.77</td>\n",
              "      <td>USD</td>\n",
              "      <td>1</td>\n",
              "    </tr>\n",
              "    <tr>\n",
              "      <th>892</th>\n",
              "      <td>Samsung Galaxy S22 Ultra</td>\n",
              "      <td>Qualcomm Snapdragon 8 Gen 1 - 6.8 inch - 128GB...</td>\n",
              "      <td>50.00</td>\n",
              "      <td>41.66</td>\n",
              "      <td>USD</td>\n",
              "      <td>2</td>\n",
              "    </tr>\n",
              "    <tr>\n",
              "      <th>896</th>\n",
              "      <td>Samsung Galaxy S22 Ultra</td>\n",
              "      <td>Qualcomm Snapdragon 8 Gen 1 - 6.8 inch - 512GB...</td>\n",
              "      <td>1199.99</td>\n",
              "      <td></td>\n",
              "      <td>NaN</td>\n",
              "      <td>1</td>\n",
              "    </tr>\n",
              "    <tr>\n",
              "      <th>899</th>\n",
              "      <td>Samsung Galaxy S22 Ultra</td>\n",
              "      <td>Qualcomm Snapdragon 8 Gen 1 - 6.8 inch - 128GB...</td>\n",
              "      <td>1199.99</td>\n",
              "      <td>1099.99</td>\n",
              "      <td>USD</td>\n",
              "      <td>1</td>\n",
              "    </tr>\n",
              "    <tr>\n",
              "      <th>905</th>\n",
              "      <td>Samsung Galaxy S22 Ultra</td>\n",
              "      <td>Qualcomm Snapdragon 8 Gen 1 - 6.8 inch - 256GB...</td>\n",
              "      <td>1299.99</td>\n",
              "      <td>1199.99</td>\n",
              "      <td>USD</td>\n",
              "      <td>1</td>\n",
              "    </tr>\n",
              "    <tr>\n",
              "      <th>944</th>\n",
              "      <td>Samsung Galaxy S22 Ultra</td>\n",
              "      <td>Qualcomm Snapdragon 8 Gen 1 - 6.8 inch - 256GB...</td>\n",
              "      <td>54.17</td>\n",
              "      <td>45.83</td>\n",
              "      <td>USD</td>\n",
              "      <td>2</td>\n",
              "    </tr>\n",
              "    <tr>\n",
              "      <th>946</th>\n",
              "      <td>Samsung Galaxy S22 Ultra</td>\n",
              "      <td>Qualcomm Snapdragon 8 Gen 1 - 6.8 inch - 256GB...</td>\n",
              "      <td>36.11</td>\n",
              "      <td>30.55</td>\n",
              "      <td>USD</td>\n",
              "      <td>1</td>\n",
              "    </tr>\n",
              "    <tr>\n",
              "      <th>997</th>\n",
              "      <td>Samsung Galaxy S22 Ultra</td>\n",
              "      <td>Qualcomm Snapdragon 8 Gen 1 - 6.8 inch - 512GB...</td>\n",
              "      <td>58.34</td>\n",
              "      <td>49.99</td>\n",
              "      <td>USD</td>\n",
              "      <td>2</td>\n",
              "    </tr>\n",
              "    <tr>\n",
              "      <th>1085</th>\n",
              "      <td>Samsung Galaxy S22 Ultra</td>\n",
              "      <td>2021 - Samsung Exynos 2200 - 8 cores - 46 inch...</td>\n",
              "      <td>1549.00</td>\n",
              "      <td>1529</td>\n",
              "      <td>EUR</td>\n",
              "      <td>1</td>\n",
              "    </tr>\n",
              "    <tr>\n",
              "      <th>1125</th>\n",
              "      <td>Samsung Galaxy S22 Ultra</td>\n",
              "      <td>2022 - [Qualcomm SM8450] - 8 cores - 11 inch -...</td>\n",
              "      <td>1949.00</td>\n",
              "      <td>1899</td>\n",
              "      <td>EUR</td>\n",
              "      <td>1</td>\n",
              "    </tr>\n",
              "    <tr>\n",
              "      <th>1131</th>\n",
              "      <td>Samsung Galaxy S22 Ultra</td>\n",
              "      <td>2022 - Samsung Exynos 2200 - 8 cores - 6.8 inc...</td>\n",
              "      <td>1249.00</td>\n",
              "      <td>1199</td>\n",
              "      <td>EUR</td>\n",
              "      <td>1</td>\n",
              "    </tr>\n",
              "    <tr>\n",
              "      <th>1924</th>\n",
              "      <td>Samsung Galaxy S22 Ultra</td>\n",
              "      <td>2022 - 8 cores - 6.8 inch - 1GB - black | Phan...</td>\n",
              "      <td>999.00</td>\n",
              "      <td></td>\n",
              "      <td>NaN</td>\n",
              "      <td>15</td>\n",
              "    </tr>\n",
              "    <tr>\n",
              "      <th>2045</th>\n",
              "      <td>Samsung Galaxy S22 Ultra</td>\n",
              "      <td>2022 - Samsung Exynos 2200 - 8 cores - 6.8 inc...</td>\n",
              "      <td>1039.00</td>\n",
              "      <td></td>\n",
              "      <td>NaN</td>\n",
              "      <td>2</td>\n",
              "    </tr>\n",
              "    <tr>\n",
              "      <th>2049</th>\n",
              "      <td>Samsung Galaxy S22 Ultra</td>\n",
              "      <td>2022 - Samsung Exynos 2200 - 8 cores - 6.8 inc...</td>\n",
              "      <td>1183.44</td>\n",
              "      <td></td>\n",
              "      <td>NaN</td>\n",
              "      <td>2</td>\n",
              "    </tr>\n",
              "    <tr>\n",
              "      <th>2060</th>\n",
              "      <td>Samsung Galaxy S22 Ultra</td>\n",
              "      <td>2022 - Samsung Exynos 2200 - 8 cores - 6.8 inc...</td>\n",
              "      <td>1285.36</td>\n",
              "      <td></td>\n",
              "      <td>NaN</td>\n",
              "      <td>2</td>\n",
              "    </tr>\n",
              "    <tr>\n",
              "      <th>2061</th>\n",
              "      <td>Samsung Galaxy S22 Ultra</td>\n",
              "      <td>2022 - Samsung Exynos 2200 - 8 cores - 6.8 inc...</td>\n",
              "      <td>1183.44</td>\n",
              "      <td></td>\n",
              "      <td>NaN</td>\n",
              "      <td>2</td>\n",
              "    </tr>\n",
              "    <tr>\n",
              "      <th>2069</th>\n",
              "      <td>Samsung Galaxy S22 Ultra</td>\n",
              "      <td>2022 - Samsung Exynos 2200 - 8 cores - 6.8 inc...</td>\n",
              "      <td>1080.19</td>\n",
              "      <td></td>\n",
              "      <td>NaN</td>\n",
              "      <td>2</td>\n",
              "    </tr>\n",
              "    <tr>\n",
              "      <th>2314</th>\n",
              "      <td>Samsung Galaxy S22 Ultra</td>\n",
              "      <td>2022 - Samsung Exynos 2200 - 8 cores - 6.8 inc...</td>\n",
              "      <td>1285.36</td>\n",
              "      <td></td>\n",
              "      <td>NaN</td>\n",
              "      <td>2</td>\n",
              "    </tr>\n",
              "    <tr>\n",
              "      <th>2316</th>\n",
              "      <td>Samsung Galaxy S22 Ultra</td>\n",
              "      <td>2022 - Samsung Exynos 2200 - 8 cores - 6.8 inc...</td>\n",
              "      <td>1349.00</td>\n",
              "      <td></td>\n",
              "      <td>NaN</td>\n",
              "      <td>2</td>\n",
              "    </tr>\n",
              "    <tr>\n",
              "      <th>2317</th>\n",
              "      <td>Samsung Galaxy S22 Ultra</td>\n",
              "      <td>2022 - Samsung Exynos 2200 - 8 cores - 6.8 inc...</td>\n",
              "      <td>1449.00</td>\n",
              "      <td></td>\n",
              "      <td>NaN</td>\n",
              "      <td>2</td>\n",
              "    </tr>\n",
              "    <tr>\n",
              "      <th>2319</th>\n",
              "      <td>Samsung Galaxy S22 Ultra</td>\n",
              "      <td>2022 - Samsung Exynos 2200 - 8 cores - 6.8 inc...</td>\n",
              "      <td>1080.19</td>\n",
              "      <td></td>\n",
              "      <td>NaN</td>\n",
              "      <td>2</td>\n",
              "    </tr>\n",
              "    <tr>\n",
              "      <th>2326</th>\n",
              "      <td>Samsung Galaxy S22 Ultra</td>\n",
              "      <td>2022 - Samsung Exynos 2200 - 8 cores - 6.8 inc...</td>\n",
              "      <td>1449.00</td>\n",
              "      <td></td>\n",
              "      <td>NaN</td>\n",
              "      <td>2</td>\n",
              "    </tr>\n",
              "    <tr>\n",
              "      <th>2445</th>\n",
              "      <td>Samsung Galaxy S22 Ultra</td>\n",
              "      <td>Samsung Exynos - 8 cores - 6.8 inch - 128GB - ...</td>\n",
              "      <td>1294.55</td>\n",
              "      <td></td>\n",
              "      <td>NaN</td>\n",
              "      <td>1</td>\n",
              "    </tr>\n",
              "    <tr>\n",
              "      <th>2452</th>\n",
              "      <td>Samsung Galaxy S22 Ultra</td>\n",
              "      <td>2022 - Samsung Exynos 2200 - 8 cores - 6.8 inc...</td>\n",
              "      <td>1183.44</td>\n",
              "      <td></td>\n",
              "      <td>NaN</td>\n",
              "      <td>2</td>\n",
              "    </tr>\n",
              "  </tbody>\n",
              "</table>\n",
              "</div>\n",
              "      <button class=\"colab-df-convert\" onclick=\"convertToInteractive('df-7b7a5b72-49d3-4538-beb0-0d187175381e')\"\n",
              "              title=\"Convert this dataframe to an interactive table.\"\n",
              "              style=\"display:none;\">\n",
              "        \n",
              "  <svg xmlns=\"http://www.w3.org/2000/svg\" height=\"24px\"viewBox=\"0 0 24 24\"\n",
              "       width=\"24px\">\n",
              "    <path d=\"M0 0h24v24H0V0z\" fill=\"none\"/>\n",
              "    <path d=\"M18.56 5.44l.94 2.06.94-2.06 2.06-.94-2.06-.94-.94-2.06-.94 2.06-2.06.94zm-11 1L8.5 8.5l.94-2.06 2.06-.94-2.06-.94L8.5 2.5l-.94 2.06-2.06.94zm10 10l.94 2.06.94-2.06 2.06-.94-2.06-.94-.94-2.06-.94 2.06-2.06.94z\"/><path d=\"M17.41 7.96l-1.37-1.37c-.4-.4-.92-.59-1.43-.59-.52 0-1.04.2-1.43.59L10.3 9.45l-7.72 7.72c-.78.78-.78 2.05 0 2.83L4 21.41c.39.39.9.59 1.41.59.51 0 1.02-.2 1.41-.59l7.78-7.78 2.81-2.81c.8-.78.8-2.07 0-2.86zM5.41 20L4 18.59l7.72-7.72 1.47 1.35L5.41 20z\"/>\n",
              "  </svg>\n",
              "      </button>\n",
              "      \n",
              "  <style>\n",
              "    .colab-df-container {\n",
              "      display:flex;\n",
              "      flex-wrap:wrap;\n",
              "      gap: 12px;\n",
              "    }\n",
              "\n",
              "    .colab-df-convert {\n",
              "      background-color: #E8F0FE;\n",
              "      border: none;\n",
              "      border-radius: 50%;\n",
              "      cursor: pointer;\n",
              "      display: none;\n",
              "      fill: #1967D2;\n",
              "      height: 32px;\n",
              "      padding: 0 0 0 0;\n",
              "      width: 32px;\n",
              "    }\n",
              "\n",
              "    .colab-df-convert:hover {\n",
              "      background-color: #E2EBFA;\n",
              "      box-shadow: 0px 1px 2px rgba(60, 64, 67, 0.3), 0px 1px 3px 1px rgba(60, 64, 67, 0.15);\n",
              "      fill: #174EA6;\n",
              "    }\n",
              "\n",
              "    [theme=dark] .colab-df-convert {\n",
              "      background-color: #3B4455;\n",
              "      fill: #D2E3FC;\n",
              "    }\n",
              "\n",
              "    [theme=dark] .colab-df-convert:hover {\n",
              "      background-color: #434B5C;\n",
              "      box-shadow: 0px 1px 3px 1px rgba(0, 0, 0, 0.15);\n",
              "      filter: drop-shadow(0px 1px 2px rgba(0, 0, 0, 0.3));\n",
              "      fill: #FFFFFF;\n",
              "    }\n",
              "  </style>\n",
              "\n",
              "      <script>\n",
              "        const buttonEl =\n",
              "          document.querySelector('#df-7b7a5b72-49d3-4538-beb0-0d187175381e button.colab-df-convert');\n",
              "        buttonEl.style.display =\n",
              "          google.colab.kernel.accessAllowed ? 'block' : 'none';\n",
              "\n",
              "        async function convertToInteractive(key) {\n",
              "          const element = document.querySelector('#df-7b7a5b72-49d3-4538-beb0-0d187175381e');\n",
              "          const dataTable =\n",
              "            await google.colab.kernel.invokeFunction('convertToInteractive',\n",
              "                                                     [key], {});\n",
              "          if (!dataTable) return;\n",
              "\n",
              "          const docLinkHtml = 'Like what you see? Visit the ' +\n",
              "            '<a target=\"_blank\" href=https://colab.research.google.com/notebooks/data_table.ipynb>data table notebook</a>'\n",
              "            + ' to learn more about interactive tables.';\n",
              "          element.innerHTML = '';\n",
              "          dataTable['output_type'] = 'display_data';\n",
              "          await google.colab.output.renderOutput(dataTable, element);\n",
              "          const docLink = document.createElement('div');\n",
              "          docLink.innerHTML = docLinkHtml;\n",
              "          element.appendChild(docLink);\n",
              "        }\n",
              "      </script>\n",
              "    </div>\n",
              "  </div>\n",
              "  "
            ]
          },
          "metadata": {},
          "execution_count": 14
        }
      ]
    },
    {
      "cell_type": "code",
      "source": [
        "data=data[data['Price_regular'].notna()]"
      ],
      "metadata": {
        "id": "Qxqe2I4KW-JR"
      },
      "execution_count": null,
      "outputs": []
    },
    {
      "cell_type": "code",
      "source": [
        "data.isna().sum()"
      ],
      "metadata": {
        "colab": {
          "base_uri": "https://localhost:8080/"
        },
        "id": "mYvbzDBXYy0t",
        "outputId": "09c932d1-2426-454a-8aa6-3b079d7b2e8d"
      },
      "execution_count": null,
      "outputs": [
        {
          "output_type": "execute_result",
          "data": {
            "text/plain": [
              "Products_Model         0\n",
              "Products_details       0\n",
              "Price_regular          0\n",
              "Price_offers          94\n",
              "Currency            1525\n",
              "Known_price            0\n",
              "dtype: int64"
            ]
          },
          "metadata": {},
          "execution_count": 16
        }
      ]
    },
    {
      "cell_type": "code",
      "source": [
        "len(data)"
      ],
      "metadata": {
        "colab": {
          "base_uri": "https://localhost:8080/"
        },
        "id": "7I2JrBR3Y2Xc",
        "outputId": "1ab7b6f6-d41f-4fc2-b5a1-e1f3f0cd9369"
      },
      "execution_count": null,
      "outputs": [
        {
          "output_type": "execute_result",
          "data": {
            "text/plain": [
              "2506"
            ]
          },
          "metadata": {},
          "execution_count": 17
        }
      ]
    },
    {
      "cell_type": "code",
      "source": [
        "data[data['Price_offers'].isna()]"
      ],
      "metadata": {
        "colab": {
          "base_uri": "https://localhost:8080/",
          "height": 424
        },
        "id": "uHggrTPpY5S0",
        "outputId": "0bf8eabe-b4db-456e-8e85-82df447c91c8"
      },
      "execution_count": null,
      "outputs": [
        {
          "output_type": "execute_result",
          "data": {
            "text/plain": [
              "                   Products_Model  \\\n",
              "2                       Huawei Y5   \n",
              "9                 Apple iPhone 12   \n",
              "22          Samsung Galaxy S20 FE   \n",
              "40        Apple iPhone 13 Pro Max   \n",
              "113                Google Pixel 6   \n",
              "...                           ...   \n",
              "1843           Samsung Galaxy A52   \n",
              "1905               Oneplus Nord 2   \n",
              "1912  Samsung Galaxy A6 A600 Duos   \n",
              "1929                 Motorola G51   \n",
              "1958               Huawei Nova 5T   \n",
              "\n",
              "                                       Products_details  Price_regular  \\\n",
              "2     2019 - 4 cores - 5.71 inch - 16GB - black - 51...         144.00   \n",
              "9     2020 - 6 cores - 6.1 inch - 128GB - Black - MG...         773.00   \n",
              "22    2020 - 8 cores - 6.5 inch - 128GB - Orange - S...         487.70   \n",
              "40    2021 - 6 cores - 6.7 inch - 256GB - Blue - MLL...        1611.27   \n",
              "113   Google Tensor - 6.4 inch - 256GB - Sorta Seafo...         419.99   \n",
              "...                                                 ...            ...   \n",
              "1843  2021 - 8 cores - 6.5 inch - 128GB - Awesome Bl...         399.00   \n",
              "1905  2020 - 8 cores - 6.43 inch - 128GB - Blue - 50...         329.00   \n",
              "1912  2017 - 8 cores - 5.6 inch - 32GB - Black - SAM...         199.00   \n",
              "1929   8 cores - 6.8 inch - 64GB - Blue - 8785267259638         189.00   \n",
              "1958  2019 - 4 cores - 6.26 inch - 128GB - Blue - 51...         289.95   \n",
              "\n",
              "     Price_offers Currency  Known_price  \n",
              "2             NaN      NaN            1  \n",
              "9             NaN      EUR            1  \n",
              "22            NaN      EUR            1  \n",
              "40            NaN      EUR            1  \n",
              "113           NaN      USD            1  \n",
              "...           ...      ...          ...  \n",
              "1843          NaN      EUR            1  \n",
              "1905          NaN      EUR            1  \n",
              "1912          NaN      EUR            1  \n",
              "1929          NaN      EUR            1  \n",
              "1958          NaN      EUR            1  \n",
              "\n",
              "[94 rows x 6 columns]"
            ],
            "text/html": [
              "\n",
              "  <div id=\"df-ad3fcea8-c46b-4b16-8b6e-bd8942cd29a0\">\n",
              "    <div class=\"colab-df-container\">\n",
              "      <div>\n",
              "<style scoped>\n",
              "    .dataframe tbody tr th:only-of-type {\n",
              "        vertical-align: middle;\n",
              "    }\n",
              "\n",
              "    .dataframe tbody tr th {\n",
              "        vertical-align: top;\n",
              "    }\n",
              "\n",
              "    .dataframe thead th {\n",
              "        text-align: right;\n",
              "    }\n",
              "</style>\n",
              "<table border=\"1\" class=\"dataframe\">\n",
              "  <thead>\n",
              "    <tr style=\"text-align: right;\">\n",
              "      <th></th>\n",
              "      <th>Products_Model</th>\n",
              "      <th>Products_details</th>\n",
              "      <th>Price_regular</th>\n",
              "      <th>Price_offers</th>\n",
              "      <th>Currency</th>\n",
              "      <th>Known_price</th>\n",
              "    </tr>\n",
              "  </thead>\n",
              "  <tbody>\n",
              "    <tr>\n",
              "      <th>2</th>\n",
              "      <td>Huawei Y5</td>\n",
              "      <td>2019 - 4 cores - 5.71 inch - 16GB - black - 51...</td>\n",
              "      <td>144.00</td>\n",
              "      <td>NaN</td>\n",
              "      <td>NaN</td>\n",
              "      <td>1</td>\n",
              "    </tr>\n",
              "    <tr>\n",
              "      <th>9</th>\n",
              "      <td>Apple iPhone 12</td>\n",
              "      <td>2020 - 6 cores - 6.1 inch - 128GB - Black - MG...</td>\n",
              "      <td>773.00</td>\n",
              "      <td>NaN</td>\n",
              "      <td>EUR</td>\n",
              "      <td>1</td>\n",
              "    </tr>\n",
              "    <tr>\n",
              "      <th>22</th>\n",
              "      <td>Samsung Galaxy S20 FE</td>\n",
              "      <td>2020 - 8 cores - 6.5 inch - 128GB - Orange - S...</td>\n",
              "      <td>487.70</td>\n",
              "      <td>NaN</td>\n",
              "      <td>EUR</td>\n",
              "      <td>1</td>\n",
              "    </tr>\n",
              "    <tr>\n",
              "      <th>40</th>\n",
              "      <td>Apple iPhone 13 Pro Max</td>\n",
              "      <td>2021 - 6 cores - 6.7 inch - 256GB - Blue - MLL...</td>\n",
              "      <td>1611.27</td>\n",
              "      <td>NaN</td>\n",
              "      <td>EUR</td>\n",
              "      <td>1</td>\n",
              "    </tr>\n",
              "    <tr>\n",
              "      <th>113</th>\n",
              "      <td>Google Pixel 6</td>\n",
              "      <td>Google Tensor - 6.4 inch - 256GB - Sorta Seafo...</td>\n",
              "      <td>419.99</td>\n",
              "      <td>NaN</td>\n",
              "      <td>USD</td>\n",
              "      <td>1</td>\n",
              "    </tr>\n",
              "    <tr>\n",
              "      <th>...</th>\n",
              "      <td>...</td>\n",
              "      <td>...</td>\n",
              "      <td>...</td>\n",
              "      <td>...</td>\n",
              "      <td>...</td>\n",
              "      <td>...</td>\n",
              "    </tr>\n",
              "    <tr>\n",
              "      <th>1843</th>\n",
              "      <td>Samsung Galaxy A52</td>\n",
              "      <td>2021 - 8 cores - 6.5 inch - 128GB - Awesome Bl...</td>\n",
              "      <td>399.00</td>\n",
              "      <td>NaN</td>\n",
              "      <td>EUR</td>\n",
              "      <td>1</td>\n",
              "    </tr>\n",
              "    <tr>\n",
              "      <th>1905</th>\n",
              "      <td>Oneplus Nord 2</td>\n",
              "      <td>2020 - 8 cores - 6.43 inch - 128GB - Blue - 50...</td>\n",
              "      <td>329.00</td>\n",
              "      <td>NaN</td>\n",
              "      <td>EUR</td>\n",
              "      <td>1</td>\n",
              "    </tr>\n",
              "    <tr>\n",
              "      <th>1912</th>\n",
              "      <td>Samsung Galaxy A6 A600 Duos</td>\n",
              "      <td>2017 - 8 cores - 5.6 inch - 32GB - Black - SAM...</td>\n",
              "      <td>199.00</td>\n",
              "      <td>NaN</td>\n",
              "      <td>EUR</td>\n",
              "      <td>1</td>\n",
              "    </tr>\n",
              "    <tr>\n",
              "      <th>1929</th>\n",
              "      <td>Motorola G51</td>\n",
              "      <td>8 cores - 6.8 inch - 64GB - Blue - 8785267259638</td>\n",
              "      <td>189.00</td>\n",
              "      <td>NaN</td>\n",
              "      <td>EUR</td>\n",
              "      <td>1</td>\n",
              "    </tr>\n",
              "    <tr>\n",
              "      <th>1958</th>\n",
              "      <td>Huawei Nova 5T</td>\n",
              "      <td>2019 - 4 cores - 6.26 inch - 128GB - Blue - 51...</td>\n",
              "      <td>289.95</td>\n",
              "      <td>NaN</td>\n",
              "      <td>EUR</td>\n",
              "      <td>1</td>\n",
              "    </tr>\n",
              "  </tbody>\n",
              "</table>\n",
              "<p>94 rows × 6 columns</p>\n",
              "</div>\n",
              "      <button class=\"colab-df-convert\" onclick=\"convertToInteractive('df-ad3fcea8-c46b-4b16-8b6e-bd8942cd29a0')\"\n",
              "              title=\"Convert this dataframe to an interactive table.\"\n",
              "              style=\"display:none;\">\n",
              "        \n",
              "  <svg xmlns=\"http://www.w3.org/2000/svg\" height=\"24px\"viewBox=\"0 0 24 24\"\n",
              "       width=\"24px\">\n",
              "    <path d=\"M0 0h24v24H0V0z\" fill=\"none\"/>\n",
              "    <path d=\"M18.56 5.44l.94 2.06.94-2.06 2.06-.94-2.06-.94-.94-2.06-.94 2.06-2.06.94zm-11 1L8.5 8.5l.94-2.06 2.06-.94-2.06-.94L8.5 2.5l-.94 2.06-2.06.94zm10 10l.94 2.06.94-2.06 2.06-.94-2.06-.94-.94-2.06-.94 2.06-2.06.94z\"/><path d=\"M17.41 7.96l-1.37-1.37c-.4-.4-.92-.59-1.43-.59-.52 0-1.04.2-1.43.59L10.3 9.45l-7.72 7.72c-.78.78-.78 2.05 0 2.83L4 21.41c.39.39.9.59 1.41.59.51 0 1.02-.2 1.41-.59l7.78-7.78 2.81-2.81c.8-.78.8-2.07 0-2.86zM5.41 20L4 18.59l7.72-7.72 1.47 1.35L5.41 20z\"/>\n",
              "  </svg>\n",
              "      </button>\n",
              "      \n",
              "  <style>\n",
              "    .colab-df-container {\n",
              "      display:flex;\n",
              "      flex-wrap:wrap;\n",
              "      gap: 12px;\n",
              "    }\n",
              "\n",
              "    .colab-df-convert {\n",
              "      background-color: #E8F0FE;\n",
              "      border: none;\n",
              "      border-radius: 50%;\n",
              "      cursor: pointer;\n",
              "      display: none;\n",
              "      fill: #1967D2;\n",
              "      height: 32px;\n",
              "      padding: 0 0 0 0;\n",
              "      width: 32px;\n",
              "    }\n",
              "\n",
              "    .colab-df-convert:hover {\n",
              "      background-color: #E2EBFA;\n",
              "      box-shadow: 0px 1px 2px rgba(60, 64, 67, 0.3), 0px 1px 3px 1px rgba(60, 64, 67, 0.15);\n",
              "      fill: #174EA6;\n",
              "    }\n",
              "\n",
              "    [theme=dark] .colab-df-convert {\n",
              "      background-color: #3B4455;\n",
              "      fill: #D2E3FC;\n",
              "    }\n",
              "\n",
              "    [theme=dark] .colab-df-convert:hover {\n",
              "      background-color: #434B5C;\n",
              "      box-shadow: 0px 1px 3px 1px rgba(0, 0, 0, 0.15);\n",
              "      filter: drop-shadow(0px 1px 2px rgba(0, 0, 0, 0.3));\n",
              "      fill: #FFFFFF;\n",
              "    }\n",
              "  </style>\n",
              "\n",
              "      <script>\n",
              "        const buttonEl =\n",
              "          document.querySelector('#df-ad3fcea8-c46b-4b16-8b6e-bd8942cd29a0 button.colab-df-convert');\n",
              "        buttonEl.style.display =\n",
              "          google.colab.kernel.accessAllowed ? 'block' : 'none';\n",
              "\n",
              "        async function convertToInteractive(key) {\n",
              "          const element = document.querySelector('#df-ad3fcea8-c46b-4b16-8b6e-bd8942cd29a0');\n",
              "          const dataTable =\n",
              "            await google.colab.kernel.invokeFunction('convertToInteractive',\n",
              "                                                     [key], {});\n",
              "          if (!dataTable) return;\n",
              "\n",
              "          const docLinkHtml = 'Like what you see? Visit the ' +\n",
              "            '<a target=\"_blank\" href=https://colab.research.google.com/notebooks/data_table.ipynb>data table notebook</a>'\n",
              "            + ' to learn more about interactive tables.';\n",
              "          element.innerHTML = '';\n",
              "          dataTable['output_type'] = 'display_data';\n",
              "          await google.colab.output.renderOutput(dataTable, element);\n",
              "          const docLink = document.createElement('div');\n",
              "          docLink.innerHTML = docLinkHtml;\n",
              "          element.appendChild(docLink);\n",
              "        }\n",
              "      </script>\n",
              "    </div>\n",
              "  </div>\n",
              "  "
            ]
          },
          "metadata": {},
          "execution_count": 18
        }
      ]
    },
    {
      "cell_type": "code",
      "source": [
        "data['Price_offers']=data['Price_offers'].fillna(0)"
      ],
      "metadata": {
        "id": "O-iwDK5RbIxk",
        "colab": {
          "base_uri": "https://localhost:8080/"
        },
        "outputId": "f6c354fa-b296-4d89-dcaa-ca5e04b3067d"
      },
      "execution_count": null,
      "outputs": [
        {
          "output_type": "stream",
          "name": "stderr",
          "text": [
            "<ipython-input-19-7eb4fe5c30b9>:1: SettingWithCopyWarning: \n",
            "A value is trying to be set on a copy of a slice from a DataFrame.\n",
            "Try using .loc[row_indexer,col_indexer] = value instead\n",
            "\n",
            "See the caveats in the documentation: https://pandas.pydata.org/pandas-docs/stable/user_guide/indexing.html#returning-a-view-versus-a-copy\n",
            "  data['Price_offers']=data['Price_offers'].fillna(0)\n"
          ]
        }
      ]
    },
    {
      "cell_type": "code",
      "source": [
        "data.isna().sum()"
      ],
      "metadata": {
        "colab": {
          "base_uri": "https://localhost:8080/"
        },
        "id": "uPOp1hVjcT0B",
        "outputId": "0ffc4245-7aab-47d5-a358-f4a75950209c"
      },
      "execution_count": null,
      "outputs": [
        {
          "output_type": "execute_result",
          "data": {
            "text/plain": [
              "Products_Model         0\n",
              "Products_details       0\n",
              "Price_regular          0\n",
              "Price_offers           0\n",
              "Currency            1525\n",
              "Known_price            0\n",
              "dtype: int64"
            ]
          },
          "metadata": {},
          "execution_count": 20
        }
      ]
    },
    {
      "cell_type": "code",
      "source": [
        "data['Currency'].unique()"
      ],
      "metadata": {
        "colab": {
          "base_uri": "https://localhost:8080/"
        },
        "id": "Y0U-8GE9cYPT",
        "outputId": "ec1b163d-62f6-4ea5-a292-5fdf84fd0f37"
      },
      "execution_count": null,
      "outputs": [
        {
          "output_type": "execute_result",
          "data": {
            "text/plain": [
              "array(['EUR', nan, 'USD'], dtype=object)"
            ]
          },
          "metadata": {},
          "execution_count": 21
        }
      ]
    },
    {
      "cell_type": "code",
      "source": [
        "data['Currency']=data['Currency'].fillna('Not_Specified')"
      ],
      "metadata": {
        "id": "yCqqBeajcm4T",
        "colab": {
          "base_uri": "https://localhost:8080/"
        },
        "outputId": "cd38d4b9-0f54-41c2-a573-06ea58b70d10"
      },
      "execution_count": null,
      "outputs": [
        {
          "output_type": "stream",
          "name": "stderr",
          "text": [
            "<ipython-input-22-be8f4e03de2d>:1: SettingWithCopyWarning: \n",
            "A value is trying to be set on a copy of a slice from a DataFrame.\n",
            "Try using .loc[row_indexer,col_indexer] = value instead\n",
            "\n",
            "See the caveats in the documentation: https://pandas.pydata.org/pandas-docs/stable/user_guide/indexing.html#returning-a-view-versus-a-copy\n",
            "  data['Currency']=data['Currency'].fillna('Not_Specified')\n"
          ]
        }
      ]
    },
    {
      "cell_type": "code",
      "source": [
        "data.head(5)"
      ],
      "metadata": {
        "colab": {
          "base_uri": "https://localhost:8080/",
          "height": 206
        },
        "id": "Kw9mW_UzdZEC",
        "outputId": "87d51444-0389-4242-b724-e316ab538481"
      },
      "execution_count": null,
      "outputs": [
        {
          "output_type": "execute_result",
          "data": {
            "text/plain": [
              "            Products_Model                                   Products_details  \\\n",
              "0      Apple iPhone Xs Max  2018 - 6 cores - 6.5 inch - 256GB - space grey...   \n",
              "1                Oppo A16s  2021 - 8 cores - 6.52 inch - 64GB - Black - 59...   \n",
              "2                Huawei Y5  2019 - 4 cores - 5.71 inch - 16GB - black - 51...   \n",
              "3  Apple iPhone 11 Pro Max    6 cores - 6.5 inch - 256GB - Silver - MWHK2ZD/A   \n",
              "4  Apple iPhone 11 Pro Max       6 cores - 6.5 inch - 64GB - Gold - MWHG2ZD/A   \n",
              "\n",
              "   Price_regular Price_offers       Currency  Known_price  \n",
              "0         899.00          799            EUR            1  \n",
              "1         179.38          169            EUR            1  \n",
              "2         144.00            0  Not_Specified            1  \n",
              "3         536.00               Not_Specified            1  \n",
              "4         486.00               Not_Specified            1  "
            ],
            "text/html": [
              "\n",
              "  <div id=\"df-1ef48e50-1a07-4680-a02b-d6bb0614eb26\">\n",
              "    <div class=\"colab-df-container\">\n",
              "      <div>\n",
              "<style scoped>\n",
              "    .dataframe tbody tr th:only-of-type {\n",
              "        vertical-align: middle;\n",
              "    }\n",
              "\n",
              "    .dataframe tbody tr th {\n",
              "        vertical-align: top;\n",
              "    }\n",
              "\n",
              "    .dataframe thead th {\n",
              "        text-align: right;\n",
              "    }\n",
              "</style>\n",
              "<table border=\"1\" class=\"dataframe\">\n",
              "  <thead>\n",
              "    <tr style=\"text-align: right;\">\n",
              "      <th></th>\n",
              "      <th>Products_Model</th>\n",
              "      <th>Products_details</th>\n",
              "      <th>Price_regular</th>\n",
              "      <th>Price_offers</th>\n",
              "      <th>Currency</th>\n",
              "      <th>Known_price</th>\n",
              "    </tr>\n",
              "  </thead>\n",
              "  <tbody>\n",
              "    <tr>\n",
              "      <th>0</th>\n",
              "      <td>Apple iPhone Xs Max</td>\n",
              "      <td>2018 - 6 cores - 6.5 inch - 256GB - space grey...</td>\n",
              "      <td>899.00</td>\n",
              "      <td>799</td>\n",
              "      <td>EUR</td>\n",
              "      <td>1</td>\n",
              "    </tr>\n",
              "    <tr>\n",
              "      <th>1</th>\n",
              "      <td>Oppo A16s</td>\n",
              "      <td>2021 - 8 cores - 6.52 inch - 64GB - Black - 59...</td>\n",
              "      <td>179.38</td>\n",
              "      <td>169</td>\n",
              "      <td>EUR</td>\n",
              "      <td>1</td>\n",
              "    </tr>\n",
              "    <tr>\n",
              "      <th>2</th>\n",
              "      <td>Huawei Y5</td>\n",
              "      <td>2019 - 4 cores - 5.71 inch - 16GB - black - 51...</td>\n",
              "      <td>144.00</td>\n",
              "      <td>0</td>\n",
              "      <td>Not_Specified</td>\n",
              "      <td>1</td>\n",
              "    </tr>\n",
              "    <tr>\n",
              "      <th>3</th>\n",
              "      <td>Apple iPhone 11 Pro Max</td>\n",
              "      <td>6 cores - 6.5 inch - 256GB - Silver - MWHK2ZD/A</td>\n",
              "      <td>536.00</td>\n",
              "      <td></td>\n",
              "      <td>Not_Specified</td>\n",
              "      <td>1</td>\n",
              "    </tr>\n",
              "    <tr>\n",
              "      <th>4</th>\n",
              "      <td>Apple iPhone 11 Pro Max</td>\n",
              "      <td>6 cores - 6.5 inch - 64GB - Gold - MWHG2ZD/A</td>\n",
              "      <td>486.00</td>\n",
              "      <td></td>\n",
              "      <td>Not_Specified</td>\n",
              "      <td>1</td>\n",
              "    </tr>\n",
              "  </tbody>\n",
              "</table>\n",
              "</div>\n",
              "      <button class=\"colab-df-convert\" onclick=\"convertToInteractive('df-1ef48e50-1a07-4680-a02b-d6bb0614eb26')\"\n",
              "              title=\"Convert this dataframe to an interactive table.\"\n",
              "              style=\"display:none;\">\n",
              "        \n",
              "  <svg xmlns=\"http://www.w3.org/2000/svg\" height=\"24px\"viewBox=\"0 0 24 24\"\n",
              "       width=\"24px\">\n",
              "    <path d=\"M0 0h24v24H0V0z\" fill=\"none\"/>\n",
              "    <path d=\"M18.56 5.44l.94 2.06.94-2.06 2.06-.94-2.06-.94-.94-2.06-.94 2.06-2.06.94zm-11 1L8.5 8.5l.94-2.06 2.06-.94-2.06-.94L8.5 2.5l-.94 2.06-2.06.94zm10 10l.94 2.06.94-2.06 2.06-.94-2.06-.94-.94-2.06-.94 2.06-2.06.94z\"/><path d=\"M17.41 7.96l-1.37-1.37c-.4-.4-.92-.59-1.43-.59-.52 0-1.04.2-1.43.59L10.3 9.45l-7.72 7.72c-.78.78-.78 2.05 0 2.83L4 21.41c.39.39.9.59 1.41.59.51 0 1.02-.2 1.41-.59l7.78-7.78 2.81-2.81c.8-.78.8-2.07 0-2.86zM5.41 20L4 18.59l7.72-7.72 1.47 1.35L5.41 20z\"/>\n",
              "  </svg>\n",
              "      </button>\n",
              "      \n",
              "  <style>\n",
              "    .colab-df-container {\n",
              "      display:flex;\n",
              "      flex-wrap:wrap;\n",
              "      gap: 12px;\n",
              "    }\n",
              "\n",
              "    .colab-df-convert {\n",
              "      background-color: #E8F0FE;\n",
              "      border: none;\n",
              "      border-radius: 50%;\n",
              "      cursor: pointer;\n",
              "      display: none;\n",
              "      fill: #1967D2;\n",
              "      height: 32px;\n",
              "      padding: 0 0 0 0;\n",
              "      width: 32px;\n",
              "    }\n",
              "\n",
              "    .colab-df-convert:hover {\n",
              "      background-color: #E2EBFA;\n",
              "      box-shadow: 0px 1px 2px rgba(60, 64, 67, 0.3), 0px 1px 3px 1px rgba(60, 64, 67, 0.15);\n",
              "      fill: #174EA6;\n",
              "    }\n",
              "\n",
              "    [theme=dark] .colab-df-convert {\n",
              "      background-color: #3B4455;\n",
              "      fill: #D2E3FC;\n",
              "    }\n",
              "\n",
              "    [theme=dark] .colab-df-convert:hover {\n",
              "      background-color: #434B5C;\n",
              "      box-shadow: 0px 1px 3px 1px rgba(0, 0, 0, 0.15);\n",
              "      filter: drop-shadow(0px 1px 2px rgba(0, 0, 0, 0.3));\n",
              "      fill: #FFFFFF;\n",
              "    }\n",
              "  </style>\n",
              "\n",
              "      <script>\n",
              "        const buttonEl =\n",
              "          document.querySelector('#df-1ef48e50-1a07-4680-a02b-d6bb0614eb26 button.colab-df-convert');\n",
              "        buttonEl.style.display =\n",
              "          google.colab.kernel.accessAllowed ? 'block' : 'none';\n",
              "\n",
              "        async function convertToInteractive(key) {\n",
              "          const element = document.querySelector('#df-1ef48e50-1a07-4680-a02b-d6bb0614eb26');\n",
              "          const dataTable =\n",
              "            await google.colab.kernel.invokeFunction('convertToInteractive',\n",
              "                                                     [key], {});\n",
              "          if (!dataTable) return;\n",
              "\n",
              "          const docLinkHtml = 'Like what you see? Visit the ' +\n",
              "            '<a target=\"_blank\" href=https://colab.research.google.com/notebooks/data_table.ipynb>data table notebook</a>'\n",
              "            + ' to learn more about interactive tables.';\n",
              "          element.innerHTML = '';\n",
              "          dataTable['output_type'] = 'display_data';\n",
              "          await google.colab.output.renderOutput(dataTable, element);\n",
              "          const docLink = document.createElement('div');\n",
              "          docLink.innerHTML = docLinkHtml;\n",
              "          element.appendChild(docLink);\n",
              "        }\n",
              "      </script>\n",
              "    </div>\n",
              "  </div>\n",
              "  "
            ]
          },
          "metadata": {},
          "execution_count": 23
        }
      ]
    },
    {
      "cell_type": "code",
      "source": [
        "data.isna().sum()"
      ],
      "metadata": {
        "colab": {
          "base_uri": "https://localhost:8080/"
        },
        "id": "0miCwbNndcpy",
        "outputId": "21115dc7-5cf1-4f3d-d643-3d6cecf4aef1"
      },
      "execution_count": null,
      "outputs": [
        {
          "output_type": "execute_result",
          "data": {
            "text/plain": [
              "Products_Model      0\n",
              "Products_details    0\n",
              "Price_regular       0\n",
              "Price_offers        0\n",
              "Currency            0\n",
              "Known_price         0\n",
              "dtype: int64"
            ]
          },
          "metadata": {},
          "execution_count": 24
        }
      ]
    },
    {
      "cell_type": "code",
      "source": [
        "data.dtypes"
      ],
      "metadata": {
        "colab": {
          "base_uri": "https://localhost:8080/"
        },
        "id": "eahwHM7-dmBr",
        "outputId": "95a5cb97-1c16-4c73-9088-05c3a7268c8f"
      },
      "execution_count": null,
      "outputs": [
        {
          "output_type": "execute_result",
          "data": {
            "text/plain": [
              "Products_Model       object\n",
              "Products_details     object\n",
              "Price_regular       float64\n",
              "Price_offers         object\n",
              "Currency             object\n",
              "Known_price           int64\n",
              "dtype: object"
            ]
          },
          "metadata": {},
          "execution_count": 25
        }
      ]
    },
    {
      "cell_type": "code",
      "source": [
        "data=pd.DataFrame(data)"
      ],
      "metadata": {
        "id": "ze5GLhOMeb_7"
      },
      "execution_count": null,
      "outputs": []
    },
    {
      "cell_type": "code",
      "source": [
        "data.head()"
      ],
      "metadata": {
        "colab": {
          "base_uri": "https://localhost:8080/",
          "height": 206
        },
        "id": "0bUk25Mset08",
        "outputId": "f6126ca6-e391-46d4-e753-39209560a351"
      },
      "execution_count": null,
      "outputs": [
        {
          "output_type": "execute_result",
          "data": {
            "text/plain": [
              "            Products_Model                                   Products_details  \\\n",
              "0      Apple iPhone Xs Max  2018 - 6 cores - 6.5 inch - 256GB - space grey...   \n",
              "1                Oppo A16s  2021 - 8 cores - 6.52 inch - 64GB - Black - 59...   \n",
              "2                Huawei Y5  2019 - 4 cores - 5.71 inch - 16GB - black - 51...   \n",
              "3  Apple iPhone 11 Pro Max    6 cores - 6.5 inch - 256GB - Silver - MWHK2ZD/A   \n",
              "4  Apple iPhone 11 Pro Max       6 cores - 6.5 inch - 64GB - Gold - MWHG2ZD/A   \n",
              "\n",
              "   Price_regular Price_offers       Currency  Known_price  \n",
              "0         899.00          799            EUR            1  \n",
              "1         179.38          169            EUR            1  \n",
              "2         144.00            0  Not_Specified            1  \n",
              "3         536.00               Not_Specified            1  \n",
              "4         486.00               Not_Specified            1  "
            ],
            "text/html": [
              "\n",
              "  <div id=\"df-3db9af49-f3ef-4e41-a8ba-f31b94821b13\">\n",
              "    <div class=\"colab-df-container\">\n",
              "      <div>\n",
              "<style scoped>\n",
              "    .dataframe tbody tr th:only-of-type {\n",
              "        vertical-align: middle;\n",
              "    }\n",
              "\n",
              "    .dataframe tbody tr th {\n",
              "        vertical-align: top;\n",
              "    }\n",
              "\n",
              "    .dataframe thead th {\n",
              "        text-align: right;\n",
              "    }\n",
              "</style>\n",
              "<table border=\"1\" class=\"dataframe\">\n",
              "  <thead>\n",
              "    <tr style=\"text-align: right;\">\n",
              "      <th></th>\n",
              "      <th>Products_Model</th>\n",
              "      <th>Products_details</th>\n",
              "      <th>Price_regular</th>\n",
              "      <th>Price_offers</th>\n",
              "      <th>Currency</th>\n",
              "      <th>Known_price</th>\n",
              "    </tr>\n",
              "  </thead>\n",
              "  <tbody>\n",
              "    <tr>\n",
              "      <th>0</th>\n",
              "      <td>Apple iPhone Xs Max</td>\n",
              "      <td>2018 - 6 cores - 6.5 inch - 256GB - space grey...</td>\n",
              "      <td>899.00</td>\n",
              "      <td>799</td>\n",
              "      <td>EUR</td>\n",
              "      <td>1</td>\n",
              "    </tr>\n",
              "    <tr>\n",
              "      <th>1</th>\n",
              "      <td>Oppo A16s</td>\n",
              "      <td>2021 - 8 cores - 6.52 inch - 64GB - Black - 59...</td>\n",
              "      <td>179.38</td>\n",
              "      <td>169</td>\n",
              "      <td>EUR</td>\n",
              "      <td>1</td>\n",
              "    </tr>\n",
              "    <tr>\n",
              "      <th>2</th>\n",
              "      <td>Huawei Y5</td>\n",
              "      <td>2019 - 4 cores - 5.71 inch - 16GB - black - 51...</td>\n",
              "      <td>144.00</td>\n",
              "      <td>0</td>\n",
              "      <td>Not_Specified</td>\n",
              "      <td>1</td>\n",
              "    </tr>\n",
              "    <tr>\n",
              "      <th>3</th>\n",
              "      <td>Apple iPhone 11 Pro Max</td>\n",
              "      <td>6 cores - 6.5 inch - 256GB - Silver - MWHK2ZD/A</td>\n",
              "      <td>536.00</td>\n",
              "      <td></td>\n",
              "      <td>Not_Specified</td>\n",
              "      <td>1</td>\n",
              "    </tr>\n",
              "    <tr>\n",
              "      <th>4</th>\n",
              "      <td>Apple iPhone 11 Pro Max</td>\n",
              "      <td>6 cores - 6.5 inch - 64GB - Gold - MWHG2ZD/A</td>\n",
              "      <td>486.00</td>\n",
              "      <td></td>\n",
              "      <td>Not_Specified</td>\n",
              "      <td>1</td>\n",
              "    </tr>\n",
              "  </tbody>\n",
              "</table>\n",
              "</div>\n",
              "      <button class=\"colab-df-convert\" onclick=\"convertToInteractive('df-3db9af49-f3ef-4e41-a8ba-f31b94821b13')\"\n",
              "              title=\"Convert this dataframe to an interactive table.\"\n",
              "              style=\"display:none;\">\n",
              "        \n",
              "  <svg xmlns=\"http://www.w3.org/2000/svg\" height=\"24px\"viewBox=\"0 0 24 24\"\n",
              "       width=\"24px\">\n",
              "    <path d=\"M0 0h24v24H0V0z\" fill=\"none\"/>\n",
              "    <path d=\"M18.56 5.44l.94 2.06.94-2.06 2.06-.94-2.06-.94-.94-2.06-.94 2.06-2.06.94zm-11 1L8.5 8.5l.94-2.06 2.06-.94-2.06-.94L8.5 2.5l-.94 2.06-2.06.94zm10 10l.94 2.06.94-2.06 2.06-.94-2.06-.94-.94-2.06-.94 2.06-2.06.94z\"/><path d=\"M17.41 7.96l-1.37-1.37c-.4-.4-.92-.59-1.43-.59-.52 0-1.04.2-1.43.59L10.3 9.45l-7.72 7.72c-.78.78-.78 2.05 0 2.83L4 21.41c.39.39.9.59 1.41.59.51 0 1.02-.2 1.41-.59l7.78-7.78 2.81-2.81c.8-.78.8-2.07 0-2.86zM5.41 20L4 18.59l7.72-7.72 1.47 1.35L5.41 20z\"/>\n",
              "  </svg>\n",
              "      </button>\n",
              "      \n",
              "  <style>\n",
              "    .colab-df-container {\n",
              "      display:flex;\n",
              "      flex-wrap:wrap;\n",
              "      gap: 12px;\n",
              "    }\n",
              "\n",
              "    .colab-df-convert {\n",
              "      background-color: #E8F0FE;\n",
              "      border: none;\n",
              "      border-radius: 50%;\n",
              "      cursor: pointer;\n",
              "      display: none;\n",
              "      fill: #1967D2;\n",
              "      height: 32px;\n",
              "      padding: 0 0 0 0;\n",
              "      width: 32px;\n",
              "    }\n",
              "\n",
              "    .colab-df-convert:hover {\n",
              "      background-color: #E2EBFA;\n",
              "      box-shadow: 0px 1px 2px rgba(60, 64, 67, 0.3), 0px 1px 3px 1px rgba(60, 64, 67, 0.15);\n",
              "      fill: #174EA6;\n",
              "    }\n",
              "\n",
              "    [theme=dark] .colab-df-convert {\n",
              "      background-color: #3B4455;\n",
              "      fill: #D2E3FC;\n",
              "    }\n",
              "\n",
              "    [theme=dark] .colab-df-convert:hover {\n",
              "      background-color: #434B5C;\n",
              "      box-shadow: 0px 1px 3px 1px rgba(0, 0, 0, 0.15);\n",
              "      filter: drop-shadow(0px 1px 2px rgba(0, 0, 0, 0.3));\n",
              "      fill: #FFFFFF;\n",
              "    }\n",
              "  </style>\n",
              "\n",
              "      <script>\n",
              "        const buttonEl =\n",
              "          document.querySelector('#df-3db9af49-f3ef-4e41-a8ba-f31b94821b13 button.colab-df-convert');\n",
              "        buttonEl.style.display =\n",
              "          google.colab.kernel.accessAllowed ? 'block' : 'none';\n",
              "\n",
              "        async function convertToInteractive(key) {\n",
              "          const element = document.querySelector('#df-3db9af49-f3ef-4e41-a8ba-f31b94821b13');\n",
              "          const dataTable =\n",
              "            await google.colab.kernel.invokeFunction('convertToInteractive',\n",
              "                                                     [key], {});\n",
              "          if (!dataTable) return;\n",
              "\n",
              "          const docLinkHtml = 'Like what you see? Visit the ' +\n",
              "            '<a target=\"_blank\" href=https://colab.research.google.com/notebooks/data_table.ipynb>data table notebook</a>'\n",
              "            + ' to learn more about interactive tables.';\n",
              "          element.innerHTML = '';\n",
              "          dataTable['output_type'] = 'display_data';\n",
              "          await google.colab.output.renderOutput(dataTable, element);\n",
              "          const docLink = document.createElement('div');\n",
              "          docLink.innerHTML = docLinkHtml;\n",
              "          element.appendChild(docLink);\n",
              "        }\n",
              "      </script>\n",
              "    </div>\n",
              "  </div>\n",
              "  "
            ]
          },
          "metadata": {},
          "execution_count": 27
        }
      ]
    },
    {
      "cell_type": "code",
      "source": [
        "len(data['Price_offers'])"
      ],
      "metadata": {
        "colab": {
          "base_uri": "https://localhost:8080/"
        },
        "id": "4ubJkrWrfhMx",
        "outputId": "1160fb6d-55a7-44ec-c084-21d594b7d587"
      },
      "execution_count": null,
      "outputs": [
        {
          "output_type": "execute_result",
          "data": {
            "text/plain": [
              "2506"
            ]
          },
          "metadata": {},
          "execution_count": 28
        }
      ]
    },
    {
      "cell_type": "code",
      "source": [
        "data['Price_offers'].replace(r'^\\s*$', np.nan, regex=True)"
      ],
      "metadata": {
        "colab": {
          "base_uri": "https://localhost:8080/"
        },
        "id": "g0Xe4H6ci2H5",
        "outputId": "34d3fa34-1f29-48a0-e901-c4995785e376"
      },
      "execution_count": null,
      "outputs": [
        {
          "output_type": "execute_result",
          "data": {
            "text/plain": [
              "0          799\n",
              "1          169\n",
              "2            0\n",
              "3          NaN\n",
              "4          NaN\n",
              "         ...  \n",
              "2522       NaN\n",
              "2523       NaN\n",
              "2524       NaN\n",
              "2525       NaN\n",
              "2526    263.99\n",
              "Name: Price_offers, Length: 2506, dtype: object"
            ]
          },
          "metadata": {},
          "execution_count": 29
        }
      ]
    },
    {
      "cell_type": "code",
      "source": [
        "data['Price_offers']=data['Price_offers'].replace(r'^\\s*$', np.nan, regex=True)"
      ],
      "metadata": {
        "id": "gMnCJpCri8N5"
      },
      "execution_count": null,
      "outputs": []
    },
    {
      "cell_type": "code",
      "source": [
        "data['Price_offers']=data['Price_offers'].fillna(0)"
      ],
      "metadata": {
        "id": "QOrLtOBli9hR"
      },
      "execution_count": null,
      "outputs": []
    },
    {
      "cell_type": "code",
      "source": [
        "data.head()"
      ],
      "metadata": {
        "colab": {
          "base_uri": "https://localhost:8080/",
          "height": 206
        },
        "id": "b4_9ip3ynVW2",
        "outputId": "9d2ebd67-4cf8-4ad6-92dc-c6345d749185"
      },
      "execution_count": null,
      "outputs": [
        {
          "output_type": "execute_result",
          "data": {
            "text/plain": [
              "            Products_Model                                   Products_details  \\\n",
              "0      Apple iPhone Xs Max  2018 - 6 cores - 6.5 inch - 256GB - space grey...   \n",
              "1                Oppo A16s  2021 - 8 cores - 6.52 inch - 64GB - Black - 59...   \n",
              "2                Huawei Y5  2019 - 4 cores - 5.71 inch - 16GB - black - 51...   \n",
              "3  Apple iPhone 11 Pro Max    6 cores - 6.5 inch - 256GB - Silver - MWHK2ZD/A   \n",
              "4  Apple iPhone 11 Pro Max       6 cores - 6.5 inch - 64GB - Gold - MWHG2ZD/A   \n",
              "\n",
              "   Price_regular Price_offers       Currency  Known_price  \n",
              "0         899.00          799            EUR            1  \n",
              "1         179.38          169            EUR            1  \n",
              "2         144.00            0  Not_Specified            1  \n",
              "3         536.00            0  Not_Specified            1  \n",
              "4         486.00            0  Not_Specified            1  "
            ],
            "text/html": [
              "\n",
              "  <div id=\"df-1d763daa-28b2-4871-b679-06a94a583230\">\n",
              "    <div class=\"colab-df-container\">\n",
              "      <div>\n",
              "<style scoped>\n",
              "    .dataframe tbody tr th:only-of-type {\n",
              "        vertical-align: middle;\n",
              "    }\n",
              "\n",
              "    .dataframe tbody tr th {\n",
              "        vertical-align: top;\n",
              "    }\n",
              "\n",
              "    .dataframe thead th {\n",
              "        text-align: right;\n",
              "    }\n",
              "</style>\n",
              "<table border=\"1\" class=\"dataframe\">\n",
              "  <thead>\n",
              "    <tr style=\"text-align: right;\">\n",
              "      <th></th>\n",
              "      <th>Products_Model</th>\n",
              "      <th>Products_details</th>\n",
              "      <th>Price_regular</th>\n",
              "      <th>Price_offers</th>\n",
              "      <th>Currency</th>\n",
              "      <th>Known_price</th>\n",
              "    </tr>\n",
              "  </thead>\n",
              "  <tbody>\n",
              "    <tr>\n",
              "      <th>0</th>\n",
              "      <td>Apple iPhone Xs Max</td>\n",
              "      <td>2018 - 6 cores - 6.5 inch - 256GB - space grey...</td>\n",
              "      <td>899.00</td>\n",
              "      <td>799</td>\n",
              "      <td>EUR</td>\n",
              "      <td>1</td>\n",
              "    </tr>\n",
              "    <tr>\n",
              "      <th>1</th>\n",
              "      <td>Oppo A16s</td>\n",
              "      <td>2021 - 8 cores - 6.52 inch - 64GB - Black - 59...</td>\n",
              "      <td>179.38</td>\n",
              "      <td>169</td>\n",
              "      <td>EUR</td>\n",
              "      <td>1</td>\n",
              "    </tr>\n",
              "    <tr>\n",
              "      <th>2</th>\n",
              "      <td>Huawei Y5</td>\n",
              "      <td>2019 - 4 cores - 5.71 inch - 16GB - black - 51...</td>\n",
              "      <td>144.00</td>\n",
              "      <td>0</td>\n",
              "      <td>Not_Specified</td>\n",
              "      <td>1</td>\n",
              "    </tr>\n",
              "    <tr>\n",
              "      <th>3</th>\n",
              "      <td>Apple iPhone 11 Pro Max</td>\n",
              "      <td>6 cores - 6.5 inch - 256GB - Silver - MWHK2ZD/A</td>\n",
              "      <td>536.00</td>\n",
              "      <td>0</td>\n",
              "      <td>Not_Specified</td>\n",
              "      <td>1</td>\n",
              "    </tr>\n",
              "    <tr>\n",
              "      <th>4</th>\n",
              "      <td>Apple iPhone 11 Pro Max</td>\n",
              "      <td>6 cores - 6.5 inch - 64GB - Gold - MWHG2ZD/A</td>\n",
              "      <td>486.00</td>\n",
              "      <td>0</td>\n",
              "      <td>Not_Specified</td>\n",
              "      <td>1</td>\n",
              "    </tr>\n",
              "  </tbody>\n",
              "</table>\n",
              "</div>\n",
              "      <button class=\"colab-df-convert\" onclick=\"convertToInteractive('df-1d763daa-28b2-4871-b679-06a94a583230')\"\n",
              "              title=\"Convert this dataframe to an interactive table.\"\n",
              "              style=\"display:none;\">\n",
              "        \n",
              "  <svg xmlns=\"http://www.w3.org/2000/svg\" height=\"24px\"viewBox=\"0 0 24 24\"\n",
              "       width=\"24px\">\n",
              "    <path d=\"M0 0h24v24H0V0z\" fill=\"none\"/>\n",
              "    <path d=\"M18.56 5.44l.94 2.06.94-2.06 2.06-.94-2.06-.94-.94-2.06-.94 2.06-2.06.94zm-11 1L8.5 8.5l.94-2.06 2.06-.94-2.06-.94L8.5 2.5l-.94 2.06-2.06.94zm10 10l.94 2.06.94-2.06 2.06-.94-2.06-.94-.94-2.06-.94 2.06-2.06.94z\"/><path d=\"M17.41 7.96l-1.37-1.37c-.4-.4-.92-.59-1.43-.59-.52 0-1.04.2-1.43.59L10.3 9.45l-7.72 7.72c-.78.78-.78 2.05 0 2.83L4 21.41c.39.39.9.59 1.41.59.51 0 1.02-.2 1.41-.59l7.78-7.78 2.81-2.81c.8-.78.8-2.07 0-2.86zM5.41 20L4 18.59l7.72-7.72 1.47 1.35L5.41 20z\"/>\n",
              "  </svg>\n",
              "      </button>\n",
              "      \n",
              "  <style>\n",
              "    .colab-df-container {\n",
              "      display:flex;\n",
              "      flex-wrap:wrap;\n",
              "      gap: 12px;\n",
              "    }\n",
              "\n",
              "    .colab-df-convert {\n",
              "      background-color: #E8F0FE;\n",
              "      border: none;\n",
              "      border-radius: 50%;\n",
              "      cursor: pointer;\n",
              "      display: none;\n",
              "      fill: #1967D2;\n",
              "      height: 32px;\n",
              "      padding: 0 0 0 0;\n",
              "      width: 32px;\n",
              "    }\n",
              "\n",
              "    .colab-df-convert:hover {\n",
              "      background-color: #E2EBFA;\n",
              "      box-shadow: 0px 1px 2px rgba(60, 64, 67, 0.3), 0px 1px 3px 1px rgba(60, 64, 67, 0.15);\n",
              "      fill: #174EA6;\n",
              "    }\n",
              "\n",
              "    [theme=dark] .colab-df-convert {\n",
              "      background-color: #3B4455;\n",
              "      fill: #D2E3FC;\n",
              "    }\n",
              "\n",
              "    [theme=dark] .colab-df-convert:hover {\n",
              "      background-color: #434B5C;\n",
              "      box-shadow: 0px 1px 3px 1px rgba(0, 0, 0, 0.15);\n",
              "      filter: drop-shadow(0px 1px 2px rgba(0, 0, 0, 0.3));\n",
              "      fill: #FFFFFF;\n",
              "    }\n",
              "  </style>\n",
              "\n",
              "      <script>\n",
              "        const buttonEl =\n",
              "          document.querySelector('#df-1d763daa-28b2-4871-b679-06a94a583230 button.colab-df-convert');\n",
              "        buttonEl.style.display =\n",
              "          google.colab.kernel.accessAllowed ? 'block' : 'none';\n",
              "\n",
              "        async function convertToInteractive(key) {\n",
              "          const element = document.querySelector('#df-1d763daa-28b2-4871-b679-06a94a583230');\n",
              "          const dataTable =\n",
              "            await google.colab.kernel.invokeFunction('convertToInteractive',\n",
              "                                                     [key], {});\n",
              "          if (!dataTable) return;\n",
              "\n",
              "          const docLinkHtml = 'Like what you see? Visit the ' +\n",
              "            '<a target=\"_blank\" href=https://colab.research.google.com/notebooks/data_table.ipynb>data table notebook</a>'\n",
              "            + ' to learn more about interactive tables.';\n",
              "          element.innerHTML = '';\n",
              "          dataTable['output_type'] = 'display_data';\n",
              "          await google.colab.output.renderOutput(dataTable, element);\n",
              "          const docLink = document.createElement('div');\n",
              "          docLink.innerHTML = docLinkHtml;\n",
              "          element.appendChild(docLink);\n",
              "        }\n",
              "      </script>\n",
              "    </div>\n",
              "  </div>\n",
              "  "
            ]
          },
          "metadata": {},
          "execution_count": 32
        }
      ]
    },
    {
      "cell_type": "code",
      "source": [
        "data['Price_offers']=data['Price_offers'].astype(float)"
      ],
      "metadata": {
        "id": "XKEhs_S1nXDR"
      },
      "execution_count": null,
      "outputs": []
    },
    {
      "cell_type": "code",
      "source": [
        "data.head()"
      ],
      "metadata": {
        "colab": {
          "base_uri": "https://localhost:8080/",
          "height": 206
        },
        "id": "iBmPnJXJnhO2",
        "outputId": "51b6e662-72af-4065-e391-fab825d07e32"
      },
      "execution_count": null,
      "outputs": [
        {
          "output_type": "execute_result",
          "data": {
            "text/plain": [
              "            Products_Model                                   Products_details  \\\n",
              "0      Apple iPhone Xs Max  2018 - 6 cores - 6.5 inch - 256GB - space grey...   \n",
              "1                Oppo A16s  2021 - 8 cores - 6.52 inch - 64GB - Black - 59...   \n",
              "2                Huawei Y5  2019 - 4 cores - 5.71 inch - 16GB - black - 51...   \n",
              "3  Apple iPhone 11 Pro Max    6 cores - 6.5 inch - 256GB - Silver - MWHK2ZD/A   \n",
              "4  Apple iPhone 11 Pro Max       6 cores - 6.5 inch - 64GB - Gold - MWHG2ZD/A   \n",
              "\n",
              "   Price_regular  Price_offers       Currency  Known_price  \n",
              "0         899.00         799.0            EUR            1  \n",
              "1         179.38         169.0            EUR            1  \n",
              "2         144.00           0.0  Not_Specified            1  \n",
              "3         536.00           0.0  Not_Specified            1  \n",
              "4         486.00           0.0  Not_Specified            1  "
            ],
            "text/html": [
              "\n",
              "  <div id=\"df-aeee5207-2840-4314-a894-aaab730682bf\">\n",
              "    <div class=\"colab-df-container\">\n",
              "      <div>\n",
              "<style scoped>\n",
              "    .dataframe tbody tr th:only-of-type {\n",
              "        vertical-align: middle;\n",
              "    }\n",
              "\n",
              "    .dataframe tbody tr th {\n",
              "        vertical-align: top;\n",
              "    }\n",
              "\n",
              "    .dataframe thead th {\n",
              "        text-align: right;\n",
              "    }\n",
              "</style>\n",
              "<table border=\"1\" class=\"dataframe\">\n",
              "  <thead>\n",
              "    <tr style=\"text-align: right;\">\n",
              "      <th></th>\n",
              "      <th>Products_Model</th>\n",
              "      <th>Products_details</th>\n",
              "      <th>Price_regular</th>\n",
              "      <th>Price_offers</th>\n",
              "      <th>Currency</th>\n",
              "      <th>Known_price</th>\n",
              "    </tr>\n",
              "  </thead>\n",
              "  <tbody>\n",
              "    <tr>\n",
              "      <th>0</th>\n",
              "      <td>Apple iPhone Xs Max</td>\n",
              "      <td>2018 - 6 cores - 6.5 inch - 256GB - space grey...</td>\n",
              "      <td>899.00</td>\n",
              "      <td>799.0</td>\n",
              "      <td>EUR</td>\n",
              "      <td>1</td>\n",
              "    </tr>\n",
              "    <tr>\n",
              "      <th>1</th>\n",
              "      <td>Oppo A16s</td>\n",
              "      <td>2021 - 8 cores - 6.52 inch - 64GB - Black - 59...</td>\n",
              "      <td>179.38</td>\n",
              "      <td>169.0</td>\n",
              "      <td>EUR</td>\n",
              "      <td>1</td>\n",
              "    </tr>\n",
              "    <tr>\n",
              "      <th>2</th>\n",
              "      <td>Huawei Y5</td>\n",
              "      <td>2019 - 4 cores - 5.71 inch - 16GB - black - 51...</td>\n",
              "      <td>144.00</td>\n",
              "      <td>0.0</td>\n",
              "      <td>Not_Specified</td>\n",
              "      <td>1</td>\n",
              "    </tr>\n",
              "    <tr>\n",
              "      <th>3</th>\n",
              "      <td>Apple iPhone 11 Pro Max</td>\n",
              "      <td>6 cores - 6.5 inch - 256GB - Silver - MWHK2ZD/A</td>\n",
              "      <td>536.00</td>\n",
              "      <td>0.0</td>\n",
              "      <td>Not_Specified</td>\n",
              "      <td>1</td>\n",
              "    </tr>\n",
              "    <tr>\n",
              "      <th>4</th>\n",
              "      <td>Apple iPhone 11 Pro Max</td>\n",
              "      <td>6 cores - 6.5 inch - 64GB - Gold - MWHG2ZD/A</td>\n",
              "      <td>486.00</td>\n",
              "      <td>0.0</td>\n",
              "      <td>Not_Specified</td>\n",
              "      <td>1</td>\n",
              "    </tr>\n",
              "  </tbody>\n",
              "</table>\n",
              "</div>\n",
              "      <button class=\"colab-df-convert\" onclick=\"convertToInteractive('df-aeee5207-2840-4314-a894-aaab730682bf')\"\n",
              "              title=\"Convert this dataframe to an interactive table.\"\n",
              "              style=\"display:none;\">\n",
              "        \n",
              "  <svg xmlns=\"http://www.w3.org/2000/svg\" height=\"24px\"viewBox=\"0 0 24 24\"\n",
              "       width=\"24px\">\n",
              "    <path d=\"M0 0h24v24H0V0z\" fill=\"none\"/>\n",
              "    <path d=\"M18.56 5.44l.94 2.06.94-2.06 2.06-.94-2.06-.94-.94-2.06-.94 2.06-2.06.94zm-11 1L8.5 8.5l.94-2.06 2.06-.94-2.06-.94L8.5 2.5l-.94 2.06-2.06.94zm10 10l.94 2.06.94-2.06 2.06-.94-2.06-.94-.94-2.06-.94 2.06-2.06.94z\"/><path d=\"M17.41 7.96l-1.37-1.37c-.4-.4-.92-.59-1.43-.59-.52 0-1.04.2-1.43.59L10.3 9.45l-7.72 7.72c-.78.78-.78 2.05 0 2.83L4 21.41c.39.39.9.59 1.41.59.51 0 1.02-.2 1.41-.59l7.78-7.78 2.81-2.81c.8-.78.8-2.07 0-2.86zM5.41 20L4 18.59l7.72-7.72 1.47 1.35L5.41 20z\"/>\n",
              "  </svg>\n",
              "      </button>\n",
              "      \n",
              "  <style>\n",
              "    .colab-df-container {\n",
              "      display:flex;\n",
              "      flex-wrap:wrap;\n",
              "      gap: 12px;\n",
              "    }\n",
              "\n",
              "    .colab-df-convert {\n",
              "      background-color: #E8F0FE;\n",
              "      border: none;\n",
              "      border-radius: 50%;\n",
              "      cursor: pointer;\n",
              "      display: none;\n",
              "      fill: #1967D2;\n",
              "      height: 32px;\n",
              "      padding: 0 0 0 0;\n",
              "      width: 32px;\n",
              "    }\n",
              "\n",
              "    .colab-df-convert:hover {\n",
              "      background-color: #E2EBFA;\n",
              "      box-shadow: 0px 1px 2px rgba(60, 64, 67, 0.3), 0px 1px 3px 1px rgba(60, 64, 67, 0.15);\n",
              "      fill: #174EA6;\n",
              "    }\n",
              "\n",
              "    [theme=dark] .colab-df-convert {\n",
              "      background-color: #3B4455;\n",
              "      fill: #D2E3FC;\n",
              "    }\n",
              "\n",
              "    [theme=dark] .colab-df-convert:hover {\n",
              "      background-color: #434B5C;\n",
              "      box-shadow: 0px 1px 3px 1px rgba(0, 0, 0, 0.15);\n",
              "      filter: drop-shadow(0px 1px 2px rgba(0, 0, 0, 0.3));\n",
              "      fill: #FFFFFF;\n",
              "    }\n",
              "  </style>\n",
              "\n",
              "      <script>\n",
              "        const buttonEl =\n",
              "          document.querySelector('#df-aeee5207-2840-4314-a894-aaab730682bf button.colab-df-convert');\n",
              "        buttonEl.style.display =\n",
              "          google.colab.kernel.accessAllowed ? 'block' : 'none';\n",
              "\n",
              "        async function convertToInteractive(key) {\n",
              "          const element = document.querySelector('#df-aeee5207-2840-4314-a894-aaab730682bf');\n",
              "          const dataTable =\n",
              "            await google.colab.kernel.invokeFunction('convertToInteractive',\n",
              "                                                     [key], {});\n",
              "          if (!dataTable) return;\n",
              "\n",
              "          const docLinkHtml = 'Like what you see? Visit the ' +\n",
              "            '<a target=\"_blank\" href=https://colab.research.google.com/notebooks/data_table.ipynb>data table notebook</a>'\n",
              "            + ' to learn more about interactive tables.';\n",
              "          element.innerHTML = '';\n",
              "          dataTable['output_type'] = 'display_data';\n",
              "          await google.colab.output.renderOutput(dataTable, element);\n",
              "          const docLink = document.createElement('div');\n",
              "          docLink.innerHTML = docLinkHtml;\n",
              "          element.appendChild(docLink);\n",
              "        }\n",
              "      </script>\n",
              "    </div>\n",
              "  </div>\n",
              "  "
            ]
          },
          "metadata": {},
          "execution_count": 34
        }
      ]
    },
    {
      "cell_type": "code",
      "source": [
        "data.dtypes"
      ],
      "metadata": {
        "colab": {
          "base_uri": "https://localhost:8080/"
        },
        "id": "vqFgw3Zenj4X",
        "outputId": "732935ab-f504-44c0-ad90-93a3f8c5ce7c"
      },
      "execution_count": null,
      "outputs": [
        {
          "output_type": "execute_result",
          "data": {
            "text/plain": [
              "Products_Model       object\n",
              "Products_details     object\n",
              "Price_regular       float64\n",
              "Price_offers        float64\n",
              "Currency             object\n",
              "Known_price           int64\n",
              "dtype: object"
            ]
          },
          "metadata": {},
          "execution_count": 35
        }
      ]
    },
    {
      "cell_type": "code",
      "source": [
        "data['Products_Model']=data['Products_Model'].astype(str)\n",
        "data['Products_details']=data['Products_details'].astype(str)\n",
        "data['Currency']=data['Currency'].astype(str)"
      ],
      "metadata": {
        "id": "NIeb5i6CnpOf"
      },
      "execution_count": null,
      "outputs": []
    },
    {
      "cell_type": "code",
      "source": [
        "data.dtypes"
      ],
      "metadata": {
        "colab": {
          "base_uri": "https://localhost:8080/"
        },
        "id": "4X3g39HupN8I",
        "outputId": "c9ed8329-cd9a-416c-ca7d-b25606750f6c"
      },
      "execution_count": null,
      "outputs": [
        {
          "output_type": "execute_result",
          "data": {
            "text/plain": [
              "Products_Model       object\n",
              "Products_details     object\n",
              "Price_regular       float64\n",
              "Price_offers        float64\n",
              "Currency             object\n",
              "Known_price           int64\n",
              "dtype: object"
            ]
          },
          "metadata": {},
          "execution_count": 37
        }
      ]
    },
    {
      "cell_type": "code",
      "source": [
        "data.isna().sum()"
      ],
      "metadata": {
        "id": "3BYoNSicpag9",
        "colab": {
          "base_uri": "https://localhost:8080/"
        },
        "outputId": "003bc30d-ead6-4de7-dec4-b843baa54e41"
      },
      "execution_count": null,
      "outputs": [
        {
          "output_type": "execute_result",
          "data": {
            "text/plain": [
              "Products_Model      0\n",
              "Products_details    0\n",
              "Price_regular       0\n",
              "Price_offers        0\n",
              "Currency            0\n",
              "Known_price         0\n",
              "dtype: int64"
            ]
          },
          "metadata": {},
          "execution_count": 38
        }
      ]
    },
    {
      "cell_type": "code",
      "source": [
        "data['Products_Model'].apply(lambda x:x.split(' ')[0])"
      ],
      "metadata": {
        "colab": {
          "base_uri": "https://localhost:8080/"
        },
        "id": "sk8PLIVMQiRP",
        "outputId": "3506272d-ca1b-4434-c886-ce246cc007bc"
      },
      "execution_count": null,
      "outputs": [
        {
          "output_type": "execute_result",
          "data": {
            "text/plain": [
              "0         Apple\n",
              "1          Oppo\n",
              "2        Huawei\n",
              "3         Apple\n",
              "4         Apple\n",
              "         ...   \n",
              "2522      Apple\n",
              "2523    Samsung\n",
              "2524    Samsung\n",
              "2525    Samsung\n",
              "2526    Samsung\n",
              "Name: Products_Model, Length: 2506, dtype: object"
            ]
          },
          "metadata": {},
          "execution_count": 39
        }
      ]
    },
    {
      "cell_type": "code",
      "source": [
        "data['Brand']=data['Products_Model'].apply(lambda x:x.split(' ')[0])"
      ],
      "metadata": {
        "id": "qPko3MdlSBRv"
      },
      "execution_count": null,
      "outputs": []
    },
    {
      "cell_type": "code",
      "source": [
        "data.head(5)"
      ],
      "metadata": {
        "colab": {
          "base_uri": "https://localhost:8080/",
          "height": 206
        },
        "id": "cJJdSXx7SbTl",
        "outputId": "c9c7479a-ca1b-43c4-d9bf-51a215392132"
      },
      "execution_count": null,
      "outputs": [
        {
          "output_type": "execute_result",
          "data": {
            "text/plain": [
              "            Products_Model                                   Products_details  \\\n",
              "0      Apple iPhone Xs Max  2018 - 6 cores - 6.5 inch - 256GB - space grey...   \n",
              "1                Oppo A16s  2021 - 8 cores - 6.52 inch - 64GB - Black - 59...   \n",
              "2                Huawei Y5  2019 - 4 cores - 5.71 inch - 16GB - black - 51...   \n",
              "3  Apple iPhone 11 Pro Max    6 cores - 6.5 inch - 256GB - Silver - MWHK2ZD/A   \n",
              "4  Apple iPhone 11 Pro Max       6 cores - 6.5 inch - 64GB - Gold - MWHG2ZD/A   \n",
              "\n",
              "   Price_regular  Price_offers       Currency  Known_price   Brand  \n",
              "0         899.00         799.0            EUR            1   Apple  \n",
              "1         179.38         169.0            EUR            1    Oppo  \n",
              "2         144.00           0.0  Not_Specified            1  Huawei  \n",
              "3         536.00           0.0  Not_Specified            1   Apple  \n",
              "4         486.00           0.0  Not_Specified            1   Apple  "
            ],
            "text/html": [
              "\n",
              "  <div id=\"df-c32ebced-2a42-4803-b275-5105400a4be2\">\n",
              "    <div class=\"colab-df-container\">\n",
              "      <div>\n",
              "<style scoped>\n",
              "    .dataframe tbody tr th:only-of-type {\n",
              "        vertical-align: middle;\n",
              "    }\n",
              "\n",
              "    .dataframe tbody tr th {\n",
              "        vertical-align: top;\n",
              "    }\n",
              "\n",
              "    .dataframe thead th {\n",
              "        text-align: right;\n",
              "    }\n",
              "</style>\n",
              "<table border=\"1\" class=\"dataframe\">\n",
              "  <thead>\n",
              "    <tr style=\"text-align: right;\">\n",
              "      <th></th>\n",
              "      <th>Products_Model</th>\n",
              "      <th>Products_details</th>\n",
              "      <th>Price_regular</th>\n",
              "      <th>Price_offers</th>\n",
              "      <th>Currency</th>\n",
              "      <th>Known_price</th>\n",
              "      <th>Brand</th>\n",
              "    </tr>\n",
              "  </thead>\n",
              "  <tbody>\n",
              "    <tr>\n",
              "      <th>0</th>\n",
              "      <td>Apple iPhone Xs Max</td>\n",
              "      <td>2018 - 6 cores - 6.5 inch - 256GB - space grey...</td>\n",
              "      <td>899.00</td>\n",
              "      <td>799.0</td>\n",
              "      <td>EUR</td>\n",
              "      <td>1</td>\n",
              "      <td>Apple</td>\n",
              "    </tr>\n",
              "    <tr>\n",
              "      <th>1</th>\n",
              "      <td>Oppo A16s</td>\n",
              "      <td>2021 - 8 cores - 6.52 inch - 64GB - Black - 59...</td>\n",
              "      <td>179.38</td>\n",
              "      <td>169.0</td>\n",
              "      <td>EUR</td>\n",
              "      <td>1</td>\n",
              "      <td>Oppo</td>\n",
              "    </tr>\n",
              "    <tr>\n",
              "      <th>2</th>\n",
              "      <td>Huawei Y5</td>\n",
              "      <td>2019 - 4 cores - 5.71 inch - 16GB - black - 51...</td>\n",
              "      <td>144.00</td>\n",
              "      <td>0.0</td>\n",
              "      <td>Not_Specified</td>\n",
              "      <td>1</td>\n",
              "      <td>Huawei</td>\n",
              "    </tr>\n",
              "    <tr>\n",
              "      <th>3</th>\n",
              "      <td>Apple iPhone 11 Pro Max</td>\n",
              "      <td>6 cores - 6.5 inch - 256GB - Silver - MWHK2ZD/A</td>\n",
              "      <td>536.00</td>\n",
              "      <td>0.0</td>\n",
              "      <td>Not_Specified</td>\n",
              "      <td>1</td>\n",
              "      <td>Apple</td>\n",
              "    </tr>\n",
              "    <tr>\n",
              "      <th>4</th>\n",
              "      <td>Apple iPhone 11 Pro Max</td>\n",
              "      <td>6 cores - 6.5 inch - 64GB - Gold - MWHG2ZD/A</td>\n",
              "      <td>486.00</td>\n",
              "      <td>0.0</td>\n",
              "      <td>Not_Specified</td>\n",
              "      <td>1</td>\n",
              "      <td>Apple</td>\n",
              "    </tr>\n",
              "  </tbody>\n",
              "</table>\n",
              "</div>\n",
              "      <button class=\"colab-df-convert\" onclick=\"convertToInteractive('df-c32ebced-2a42-4803-b275-5105400a4be2')\"\n",
              "              title=\"Convert this dataframe to an interactive table.\"\n",
              "              style=\"display:none;\">\n",
              "        \n",
              "  <svg xmlns=\"http://www.w3.org/2000/svg\" height=\"24px\"viewBox=\"0 0 24 24\"\n",
              "       width=\"24px\">\n",
              "    <path d=\"M0 0h24v24H0V0z\" fill=\"none\"/>\n",
              "    <path d=\"M18.56 5.44l.94 2.06.94-2.06 2.06-.94-2.06-.94-.94-2.06-.94 2.06-2.06.94zm-11 1L8.5 8.5l.94-2.06 2.06-.94-2.06-.94L8.5 2.5l-.94 2.06-2.06.94zm10 10l.94 2.06.94-2.06 2.06-.94-2.06-.94-.94-2.06-.94 2.06-2.06.94z\"/><path d=\"M17.41 7.96l-1.37-1.37c-.4-.4-.92-.59-1.43-.59-.52 0-1.04.2-1.43.59L10.3 9.45l-7.72 7.72c-.78.78-.78 2.05 0 2.83L4 21.41c.39.39.9.59 1.41.59.51 0 1.02-.2 1.41-.59l7.78-7.78 2.81-2.81c.8-.78.8-2.07 0-2.86zM5.41 20L4 18.59l7.72-7.72 1.47 1.35L5.41 20z\"/>\n",
              "  </svg>\n",
              "      </button>\n",
              "      \n",
              "  <style>\n",
              "    .colab-df-container {\n",
              "      display:flex;\n",
              "      flex-wrap:wrap;\n",
              "      gap: 12px;\n",
              "    }\n",
              "\n",
              "    .colab-df-convert {\n",
              "      background-color: #E8F0FE;\n",
              "      border: none;\n",
              "      border-radius: 50%;\n",
              "      cursor: pointer;\n",
              "      display: none;\n",
              "      fill: #1967D2;\n",
              "      height: 32px;\n",
              "      padding: 0 0 0 0;\n",
              "      width: 32px;\n",
              "    }\n",
              "\n",
              "    .colab-df-convert:hover {\n",
              "      background-color: #E2EBFA;\n",
              "      box-shadow: 0px 1px 2px rgba(60, 64, 67, 0.3), 0px 1px 3px 1px rgba(60, 64, 67, 0.15);\n",
              "      fill: #174EA6;\n",
              "    }\n",
              "\n",
              "    [theme=dark] .colab-df-convert {\n",
              "      background-color: #3B4455;\n",
              "      fill: #D2E3FC;\n",
              "    }\n",
              "\n",
              "    [theme=dark] .colab-df-convert:hover {\n",
              "      background-color: #434B5C;\n",
              "      box-shadow: 0px 1px 3px 1px rgba(0, 0, 0, 0.15);\n",
              "      filter: drop-shadow(0px 1px 2px rgba(0, 0, 0, 0.3));\n",
              "      fill: #FFFFFF;\n",
              "    }\n",
              "  </style>\n",
              "\n",
              "      <script>\n",
              "        const buttonEl =\n",
              "          document.querySelector('#df-c32ebced-2a42-4803-b275-5105400a4be2 button.colab-df-convert');\n",
              "        buttonEl.style.display =\n",
              "          google.colab.kernel.accessAllowed ? 'block' : 'none';\n",
              "\n",
              "        async function convertToInteractive(key) {\n",
              "          const element = document.querySelector('#df-c32ebced-2a42-4803-b275-5105400a4be2');\n",
              "          const dataTable =\n",
              "            await google.colab.kernel.invokeFunction('convertToInteractive',\n",
              "                                                     [key], {});\n",
              "          if (!dataTable) return;\n",
              "\n",
              "          const docLinkHtml = 'Like what you see? Visit the ' +\n",
              "            '<a target=\"_blank\" href=https://colab.research.google.com/notebooks/data_table.ipynb>data table notebook</a>'\n",
              "            + ' to learn more about interactive tables.';\n",
              "          element.innerHTML = '';\n",
              "          dataTable['output_type'] = 'display_data';\n",
              "          await google.colab.output.renderOutput(dataTable, element);\n",
              "          const docLink = document.createElement('div');\n",
              "          docLink.innerHTML = docLinkHtml;\n",
              "          element.appendChild(docLink);\n",
              "        }\n",
              "      </script>\n",
              "    </div>\n",
              "  </div>\n",
              "  "
            ]
          },
          "metadata": {},
          "execution_count": 41
        }
      ]
    },
    {
      "cell_type": "code",
      "source": [
        "data['Brand'].unique()"
      ],
      "metadata": {
        "colab": {
          "base_uri": "https://localhost:8080/"
        },
        "id": "kQnlw3WxSdhm",
        "outputId": "3ef0693d-f904-4342-c90c-2b1082b5bc32"
      },
      "execution_count": null,
      "outputs": [
        {
          "output_type": "execute_result",
          "data": {
            "text/plain": [
              "array(['Apple', 'Oppo', 'Huawei', 'Samsung', 'Xiaomi', 'Motorola',\n",
              "       'Google', 'Oneplus', 'Realme', 'Emporia', 'Vivo', 'Crosscall',\n",
              "       'Ulefone', 'Blackview', 'Simple', 'Iphone', 'Sony', 'Blabloo',\n",
              "       'Lg', 'Poco', 'Nokia', 'Doro', 'Unihertz', 'Telekom', 'Gigaset',\n",
              "       'Oukitel', 'Honor', 'Doogee', 'Tcl', 'Tim', 'Myphone', 'Asus',\n",
              "       'Blackberry', 'Cat', 'Fysic', 'Blaupunkt', 'Cubot', 'Lenovo',\n",
              "       'Microsoft', 'Fairphone', 'Alcatel', 'Syco', 'Redmi', 'Hammer',\n",
              "       'Panasonic', 'Boost', 'Tracfone', 'Senifone', 'Bea-fon', 'Vertu',\n",
              "       'Thymos', 'Wileyfox', 'i.safe', 'General', 'Zte', 'Beafon', 'Hama',\n",
              "       'Umidigi', 'Simpc', 'Cyrus', 'HP', 'Yealink', 'Nvt', 'Olympia',\n",
              "       'Ruggear', 'Archos', 'Ordissimo'], dtype=object)"
            ]
          },
          "metadata": {},
          "execution_count": 42
        }
      ]
    },
    {
      "cell_type": "code",
      "source": [
        "data['Brand']=data['Brand'].replace('Iphone','Apple',regex=True)"
      ],
      "metadata": {
        "id": "ggZzeFFESmaO"
      },
      "execution_count": null,
      "outputs": []
    },
    {
      "cell_type": "code",
      "source": [
        "data['Brand'].unique()"
      ],
      "metadata": {
        "colab": {
          "base_uri": "https://localhost:8080/"
        },
        "id": "9B3QXasRTX6S",
        "outputId": "be9ac095-1de4-4e3c-f1df-f6ceba1ed916"
      },
      "execution_count": null,
      "outputs": [
        {
          "output_type": "execute_result",
          "data": {
            "text/plain": [
              "array(['Apple', 'Oppo', 'Huawei', 'Samsung', 'Xiaomi', 'Motorola',\n",
              "       'Google', 'Oneplus', 'Realme', 'Emporia', 'Vivo', 'Crosscall',\n",
              "       'Ulefone', 'Blackview', 'Simple', 'Sony', 'Blabloo', 'Lg', 'Poco',\n",
              "       'Nokia', 'Doro', 'Unihertz', 'Telekom', 'Gigaset', 'Oukitel',\n",
              "       'Honor', 'Doogee', 'Tcl', 'Tim', 'Myphone', 'Asus', 'Blackberry',\n",
              "       'Cat', 'Fysic', 'Blaupunkt', 'Cubot', 'Lenovo', 'Microsoft',\n",
              "       'Fairphone', 'Alcatel', 'Syco', 'Redmi', 'Hammer', 'Panasonic',\n",
              "       'Boost', 'Tracfone', 'Senifone', 'Bea-fon', 'Vertu', 'Thymos',\n",
              "       'Wileyfox', 'i.safe', 'General', 'Zte', 'Beafon', 'Hama',\n",
              "       'Umidigi', 'Simpc', 'Cyrus', 'HP', 'Yealink', 'Nvt', 'Olympia',\n",
              "       'Ruggear', 'Archos', 'Ordissimo'], dtype=object)"
            ]
          },
          "metadata": {},
          "execution_count": 44
        }
      ]
    },
    {
      "cell_type": "code",
      "source": [
        "data['Brand'].value_counts()"
      ],
      "metadata": {
        "colab": {
          "base_uri": "https://localhost:8080/"
        },
        "id": "X6vMlxmoTjRm",
        "outputId": "41957eb1-c841-45e7-8f8e-8619c89c41f1"
      },
      "execution_count": null,
      "outputs": [
        {
          "output_type": "execute_result",
          "data": {
            "text/plain": [
              "Samsung      725\n",
              "Apple        538\n",
              "Xiaomi       262\n",
              "Huawei       129\n",
              "Motorola     108\n",
              "            ... \n",
              "Thymos         1\n",
              "Cubot          1\n",
              "Bea-fon        1\n",
              "Senifone       1\n",
              "Ordissimo      1\n",
              "Name: Brand, Length: 66, dtype: int64"
            ]
          },
          "metadata": {},
          "execution_count": 45
        }
      ]
    },
    {
      "cell_type": "code",
      "source": [
        "data['Price_regular'].describe()"
      ],
      "metadata": {
        "colab": {
          "base_uri": "https://localhost:8080/"
        },
        "id": "zEhjlaPjTqv-",
        "outputId": "f89aa818-9864-4a28-f667-ee7d2a3491c4"
      },
      "execution_count": null,
      "outputs": [
        {
          "output_type": "execute_result",
          "data": {
            "text/plain": [
              "count    2506.000000\n",
              "mean      576.748136\n",
              "std       607.953585\n",
              "min        10.420000\n",
              "25%       216.225000\n",
              "50%       387.190000\n",
              "75%       799.990000\n",
              "max      8950.000000\n",
              "Name: Price_regular, dtype: float64"
            ]
          },
          "metadata": {},
          "execution_count": 46
        }
      ]
    },
    {
      "cell_type": "code",
      "source": [
        "data['Products_details'].head()"
      ],
      "metadata": {
        "colab": {
          "base_uri": "https://localhost:8080/"
        },
        "id": "N4EKJ4ASU1ke",
        "outputId": "6ca8a13d-b332-47ec-e348-3c77737d24b9"
      },
      "execution_count": null,
      "outputs": [
        {
          "output_type": "execute_result",
          "data": {
            "text/plain": [
              "0    2018 - 6 cores - 6.5 inch - 256GB - space grey...\n",
              "1    2021 - 8 cores - 6.52 inch - 64GB - Black - 59...\n",
              "2    2019 - 4 cores - 5.71 inch - 16GB - black - 51...\n",
              "3      6 cores - 6.5 inch - 256GB - Silver - MWHK2ZD/A\n",
              "4         6 cores - 6.5 inch - 64GB - Gold - MWHG2ZD/A\n",
              "Name: Products_details, dtype: object"
            ]
          },
          "metadata": {},
          "execution_count": 47
        }
      ]
    },
    {
      "cell_type": "code",
      "source": [
        "data['Currency'].value_counts()"
      ],
      "metadata": {
        "colab": {
          "base_uri": "https://localhost:8080/"
        },
        "id": "rxxFjPbwY2Wp",
        "outputId": "0d6019e3-82be-4815-d9eb-e07f96aed9e5"
      },
      "execution_count": null,
      "outputs": [
        {
          "output_type": "execute_result",
          "data": {
            "text/plain": [
              "Not_Specified    1525\n",
              "EUR               746\n",
              "USD               235\n",
              "Name: Currency, dtype: int64"
            ]
          },
          "metadata": {},
          "execution_count": 48
        }
      ]
    },
    {
      "cell_type": "code",
      "source": [
        "data['Products_details'].iloc[2500]"
      ],
      "metadata": {
        "id": "Sf3nGc1hZfMY",
        "colab": {
          "base_uri": "https://localhost:8080/",
          "height": 35
        },
        "outputId": "dd97396b-fd8d-4338-8580-24e2aced7644"
      },
      "execution_count": null,
      "outputs": [
        {
          "output_type": "execute_result",
          "data": {
            "text/plain": [
              "'2020 - A14 Bionic Chip - 6 cores - 6.1 inch - 64GB - Black - MGJ53ZD/A'"
            ],
            "application/vnd.google.colaboratory.intrinsic+json": {
              "type": "string"
            }
          },
          "metadata": {},
          "execution_count": 49
        }
      ]
    },
    {
      "cell_type": "code",
      "source": [
        "data_2=data['Products_details'].apply(lambda x:x.split('-'))"
      ],
      "metadata": {
        "id": "IA0eHZzba6W5"
      },
      "execution_count": null,
      "outputs": []
    },
    {
      "cell_type": "code",
      "source": [
        "data_2.loc[1]"
      ],
      "metadata": {
        "colab": {
          "base_uri": "https://localhost:8080/"
        },
        "id": "4hWTye9mcRjU",
        "outputId": "5b7ab7e6-3a09-4bd5-8d42-6303ec23b6dd"
      },
      "execution_count": null,
      "outputs": [
        {
          "output_type": "execute_result",
          "data": {
            "text/plain": [
              "['2021 ', ' 8 cores ', ' 6.52 inch ', ' 64GB ', ' Black ', ' 5996496']"
            ]
          },
          "metadata": {},
          "execution_count": 51
        }
      ]
    },
    {
      "cell_type": "code",
      "source": [
        "len(data_2)"
      ],
      "metadata": {
        "colab": {
          "base_uri": "https://localhost:8080/"
        },
        "id": "GULztfTdcchN",
        "outputId": "ceb327fb-3405-4670-f498-99780b471813"
      },
      "execution_count": null,
      "outputs": [
        {
          "output_type": "execute_result",
          "data": {
            "text/plain": [
              "2506"
            ]
          },
          "metadata": {},
          "execution_count": 52
        }
      ]
    },
    {
      "cell_type": "code",
      "source": [
        "len(data)"
      ],
      "metadata": {
        "colab": {
          "base_uri": "https://localhost:8080/"
        },
        "id": "Pc72_W6AdL7N",
        "outputId": "6d02dfbc-c9e8-4df1-8a70-686b1bf9ee4c"
      },
      "execution_count": null,
      "outputs": [
        {
          "output_type": "execute_result",
          "data": {
            "text/plain": [
              "2506"
            ]
          },
          "metadata": {},
          "execution_count": 53
        }
      ]
    },
    {
      "cell_type": "code",
      "source": [
        "if 'core' in data_2.loc[1][1]:\n",
        "  print('True')\n"
      ],
      "metadata": {
        "colab": {
          "base_uri": "https://localhost:8080/"
        },
        "id": "vBtRJfmOdOS7",
        "outputId": "6511c1b9-2b51-4db9-ba19-0d6a22532f40"
      },
      "execution_count": null,
      "outputs": [
        {
          "output_type": "stream",
          "name": "stdout",
          "text": [
            "True\n"
          ]
        }
      ]
    },
    {
      "cell_type": "code",
      "source": [
        "elist=[]\n",
        "count=0\n",
        "count_2=0\n",
        "data_2=list(data_2)\n",
        "for i in range(len(data_2)):\n",
        "  for j in range(len(data_2[i])):\n",
        "    if 'cores' in data_2[i][j]:\n",
        "      elist.append(data_2[i][j])\n",
        "      count+=1\n",
        "  if count==count_2:\n",
        "    elist.append('Not available')\n",
        "  else:\n",
        "    count_2=count\n",
        "\n",
        "\n",
        "\n"
      ],
      "metadata": {
        "id": "z4e1S_J2fOdH"
      },
      "execution_count": null,
      "outputs": []
    },
    {
      "cell_type": "code",
      "source": [
        "len(elist)"
      ],
      "metadata": {
        "colab": {
          "base_uri": "https://localhost:8080/"
        },
        "id": "_ixJvq80fquy",
        "outputId": "effabea4-38fa-4949-ee96-cc60c9229ce4"
      },
      "execution_count": null,
      "outputs": [
        {
          "output_type": "execute_result",
          "data": {
            "text/plain": [
              "2506"
            ]
          },
          "metadata": {},
          "execution_count": 56
        }
      ]
    },
    {
      "cell_type": "code",
      "source": [
        "data['Cores']=elist"
      ],
      "metadata": {
        "id": "wCOLdEzim3oc"
      },
      "execution_count": null,
      "outputs": []
    },
    {
      "cell_type": "code",
      "source": [
        "data.head()"
      ],
      "metadata": {
        "colab": {
          "base_uri": "https://localhost:8080/",
          "height": 206
        },
        "id": "zT2PLTdIn_zz",
        "outputId": "52188310-1828-43e5-9ecf-63a53bcc3fb8"
      },
      "execution_count": null,
      "outputs": [
        {
          "output_type": "execute_result",
          "data": {
            "text/plain": [
              "            Products_Model                                   Products_details  \\\n",
              "0      Apple iPhone Xs Max  2018 - 6 cores - 6.5 inch - 256GB - space grey...   \n",
              "1                Oppo A16s  2021 - 8 cores - 6.52 inch - 64GB - Black - 59...   \n",
              "2                Huawei Y5  2019 - 4 cores - 5.71 inch - 16GB - black - 51...   \n",
              "3  Apple iPhone 11 Pro Max    6 cores - 6.5 inch - 256GB - Silver - MWHK2ZD/A   \n",
              "4  Apple iPhone 11 Pro Max       6 cores - 6.5 inch - 64GB - Gold - MWHG2ZD/A   \n",
              "\n",
              "   Price_regular  Price_offers       Currency  Known_price   Brand      Cores  \n",
              "0         899.00         799.0            EUR            1   Apple   6 cores   \n",
              "1         179.38         169.0            EUR            1    Oppo   8 cores   \n",
              "2         144.00           0.0  Not_Specified            1  Huawei   4 cores   \n",
              "3         536.00           0.0  Not_Specified            1   Apple   6 cores   \n",
              "4         486.00           0.0  Not_Specified            1   Apple   6 cores   "
            ],
            "text/html": [
              "\n",
              "  <div id=\"df-520f8315-c26a-44f8-a227-8d678bc7e17e\">\n",
              "    <div class=\"colab-df-container\">\n",
              "      <div>\n",
              "<style scoped>\n",
              "    .dataframe tbody tr th:only-of-type {\n",
              "        vertical-align: middle;\n",
              "    }\n",
              "\n",
              "    .dataframe tbody tr th {\n",
              "        vertical-align: top;\n",
              "    }\n",
              "\n",
              "    .dataframe thead th {\n",
              "        text-align: right;\n",
              "    }\n",
              "</style>\n",
              "<table border=\"1\" class=\"dataframe\">\n",
              "  <thead>\n",
              "    <tr style=\"text-align: right;\">\n",
              "      <th></th>\n",
              "      <th>Products_Model</th>\n",
              "      <th>Products_details</th>\n",
              "      <th>Price_regular</th>\n",
              "      <th>Price_offers</th>\n",
              "      <th>Currency</th>\n",
              "      <th>Known_price</th>\n",
              "      <th>Brand</th>\n",
              "      <th>Cores</th>\n",
              "    </tr>\n",
              "  </thead>\n",
              "  <tbody>\n",
              "    <tr>\n",
              "      <th>0</th>\n",
              "      <td>Apple iPhone Xs Max</td>\n",
              "      <td>2018 - 6 cores - 6.5 inch - 256GB - space grey...</td>\n",
              "      <td>899.00</td>\n",
              "      <td>799.0</td>\n",
              "      <td>EUR</td>\n",
              "      <td>1</td>\n",
              "      <td>Apple</td>\n",
              "      <td>6 cores</td>\n",
              "    </tr>\n",
              "    <tr>\n",
              "      <th>1</th>\n",
              "      <td>Oppo A16s</td>\n",
              "      <td>2021 - 8 cores - 6.52 inch - 64GB - Black - 59...</td>\n",
              "      <td>179.38</td>\n",
              "      <td>169.0</td>\n",
              "      <td>EUR</td>\n",
              "      <td>1</td>\n",
              "      <td>Oppo</td>\n",
              "      <td>8 cores</td>\n",
              "    </tr>\n",
              "    <tr>\n",
              "      <th>2</th>\n",
              "      <td>Huawei Y5</td>\n",
              "      <td>2019 - 4 cores - 5.71 inch - 16GB - black - 51...</td>\n",
              "      <td>144.00</td>\n",
              "      <td>0.0</td>\n",
              "      <td>Not_Specified</td>\n",
              "      <td>1</td>\n",
              "      <td>Huawei</td>\n",
              "      <td>4 cores</td>\n",
              "    </tr>\n",
              "    <tr>\n",
              "      <th>3</th>\n",
              "      <td>Apple iPhone 11 Pro Max</td>\n",
              "      <td>6 cores - 6.5 inch - 256GB - Silver - MWHK2ZD/A</td>\n",
              "      <td>536.00</td>\n",
              "      <td>0.0</td>\n",
              "      <td>Not_Specified</td>\n",
              "      <td>1</td>\n",
              "      <td>Apple</td>\n",
              "      <td>6 cores</td>\n",
              "    </tr>\n",
              "    <tr>\n",
              "      <th>4</th>\n",
              "      <td>Apple iPhone 11 Pro Max</td>\n",
              "      <td>6 cores - 6.5 inch - 64GB - Gold - MWHG2ZD/A</td>\n",
              "      <td>486.00</td>\n",
              "      <td>0.0</td>\n",
              "      <td>Not_Specified</td>\n",
              "      <td>1</td>\n",
              "      <td>Apple</td>\n",
              "      <td>6 cores</td>\n",
              "    </tr>\n",
              "  </tbody>\n",
              "</table>\n",
              "</div>\n",
              "      <button class=\"colab-df-convert\" onclick=\"convertToInteractive('df-520f8315-c26a-44f8-a227-8d678bc7e17e')\"\n",
              "              title=\"Convert this dataframe to an interactive table.\"\n",
              "              style=\"display:none;\">\n",
              "        \n",
              "  <svg xmlns=\"http://www.w3.org/2000/svg\" height=\"24px\"viewBox=\"0 0 24 24\"\n",
              "       width=\"24px\">\n",
              "    <path d=\"M0 0h24v24H0V0z\" fill=\"none\"/>\n",
              "    <path d=\"M18.56 5.44l.94 2.06.94-2.06 2.06-.94-2.06-.94-.94-2.06-.94 2.06-2.06.94zm-11 1L8.5 8.5l.94-2.06 2.06-.94-2.06-.94L8.5 2.5l-.94 2.06-2.06.94zm10 10l.94 2.06.94-2.06 2.06-.94-2.06-.94-.94-2.06-.94 2.06-2.06.94z\"/><path d=\"M17.41 7.96l-1.37-1.37c-.4-.4-.92-.59-1.43-.59-.52 0-1.04.2-1.43.59L10.3 9.45l-7.72 7.72c-.78.78-.78 2.05 0 2.83L4 21.41c.39.39.9.59 1.41.59.51 0 1.02-.2 1.41-.59l7.78-7.78 2.81-2.81c.8-.78.8-2.07 0-2.86zM5.41 20L4 18.59l7.72-7.72 1.47 1.35L5.41 20z\"/>\n",
              "  </svg>\n",
              "      </button>\n",
              "      \n",
              "  <style>\n",
              "    .colab-df-container {\n",
              "      display:flex;\n",
              "      flex-wrap:wrap;\n",
              "      gap: 12px;\n",
              "    }\n",
              "\n",
              "    .colab-df-convert {\n",
              "      background-color: #E8F0FE;\n",
              "      border: none;\n",
              "      border-radius: 50%;\n",
              "      cursor: pointer;\n",
              "      display: none;\n",
              "      fill: #1967D2;\n",
              "      height: 32px;\n",
              "      padding: 0 0 0 0;\n",
              "      width: 32px;\n",
              "    }\n",
              "\n",
              "    .colab-df-convert:hover {\n",
              "      background-color: #E2EBFA;\n",
              "      box-shadow: 0px 1px 2px rgba(60, 64, 67, 0.3), 0px 1px 3px 1px rgba(60, 64, 67, 0.15);\n",
              "      fill: #174EA6;\n",
              "    }\n",
              "\n",
              "    [theme=dark] .colab-df-convert {\n",
              "      background-color: #3B4455;\n",
              "      fill: #D2E3FC;\n",
              "    }\n",
              "\n",
              "    [theme=dark] .colab-df-convert:hover {\n",
              "      background-color: #434B5C;\n",
              "      box-shadow: 0px 1px 3px 1px rgba(0, 0, 0, 0.15);\n",
              "      filter: drop-shadow(0px 1px 2px rgba(0, 0, 0, 0.3));\n",
              "      fill: #FFFFFF;\n",
              "    }\n",
              "  </style>\n",
              "\n",
              "      <script>\n",
              "        const buttonEl =\n",
              "          document.querySelector('#df-520f8315-c26a-44f8-a227-8d678bc7e17e button.colab-df-convert');\n",
              "        buttonEl.style.display =\n",
              "          google.colab.kernel.accessAllowed ? 'block' : 'none';\n",
              "\n",
              "        async function convertToInteractive(key) {\n",
              "          const element = document.querySelector('#df-520f8315-c26a-44f8-a227-8d678bc7e17e');\n",
              "          const dataTable =\n",
              "            await google.colab.kernel.invokeFunction('convertToInteractive',\n",
              "                                                     [key], {});\n",
              "          if (!dataTable) return;\n",
              "\n",
              "          const docLinkHtml = 'Like what you see? Visit the ' +\n",
              "            '<a target=\"_blank\" href=https://colab.research.google.com/notebooks/data_table.ipynb>data table notebook</a>'\n",
              "            + ' to learn more about interactive tables.';\n",
              "          element.innerHTML = '';\n",
              "          dataTable['output_type'] = 'display_data';\n",
              "          await google.colab.output.renderOutput(dataTable, element);\n",
              "          const docLink = document.createElement('div');\n",
              "          docLink.innerHTML = docLinkHtml;\n",
              "          element.appendChild(docLink);\n",
              "        }\n",
              "      </script>\n",
              "    </div>\n",
              "  </div>\n",
              "  "
            ]
          },
          "metadata": {},
          "execution_count": 58
        }
      ]
    },
    {
      "cell_type": "code",
      "source": [
        "data['Cores'].value_counts()"
      ],
      "metadata": {
        "colab": {
          "base_uri": "https://localhost:8080/"
        },
        "id": "Xj_F--N1urXK",
        "outputId": "79c99b71-03e7-4502-be89-88e0d1c49b03"
      },
      "execution_count": null,
      "outputs": [
        {
          "output_type": "execute_result",
          "data": {
            "text/plain": [
              " 8 cores                                                 1195\n",
              "Not available                                             368\n",
              " 6 cores                                                  319\n",
              "8 cores                                                   278\n",
              " 4 cores                                                  128\n",
              "4 cores                                                    81\n",
              "core CPU with 2 performance and 4 efficiency cores, 5      59\n",
              " 2 cores                                                   33\n",
              "6 cores                                                    25\n",
              "2 cores                                                    11\n",
              " 1 cores                                                    6\n",
              "1 cores                                                     3\n",
              "Name: Cores, dtype: int64"
            ]
          },
          "metadata": {},
          "execution_count": 59
        }
      ]
    },
    {
      "cell_type": "code",
      "source": [],
      "metadata": {
        "id": "O5kvcd8avDqq"
      },
      "execution_count": null,
      "outputs": []
    },
    {
      "cell_type": "markdown",
      "source": [
        "**Data Cleaning**\n",
        "1. Breaking 'Product Details' in more details\n",
        "**Visualization**\n",
        "1. All sorts of charts\n",
        "2. In depth analysis"
      ],
      "metadata": {
        "id": "fftgssdpJB5n"
      }
    },
    {
      "cell_type": "code",
      "source": [
        "data.head(2)"
      ],
      "metadata": {
        "id": "XO90xj9dKNKy",
        "colab": {
          "base_uri": "https://localhost:8080/",
          "height": 112
        },
        "outputId": "7f140410-d357-40f2-bdd5-acc784f39912"
      },
      "execution_count": null,
      "outputs": [
        {
          "output_type": "execute_result",
          "data": {
            "text/plain": [
              "        Products_Model                                   Products_details  \\\n",
              "0  Apple iPhone Xs Max  2018 - 6 cores - 6.5 inch - 256GB - space grey...   \n",
              "1            Oppo A16s  2021 - 8 cores - 6.52 inch - 64GB - Black - 59...   \n",
              "\n",
              "   Price_regular  Price_offers Currency  Known_price  Brand      Cores  \n",
              "0         899.00         799.0      EUR            1  Apple   6 cores   \n",
              "1         179.38         169.0      EUR            1   Oppo   8 cores   "
            ],
            "text/html": [
              "\n",
              "  <div id=\"df-cb6f2145-4072-473d-9c62-19c848dc24d7\">\n",
              "    <div class=\"colab-df-container\">\n",
              "      <div>\n",
              "<style scoped>\n",
              "    .dataframe tbody tr th:only-of-type {\n",
              "        vertical-align: middle;\n",
              "    }\n",
              "\n",
              "    .dataframe tbody tr th {\n",
              "        vertical-align: top;\n",
              "    }\n",
              "\n",
              "    .dataframe thead th {\n",
              "        text-align: right;\n",
              "    }\n",
              "</style>\n",
              "<table border=\"1\" class=\"dataframe\">\n",
              "  <thead>\n",
              "    <tr style=\"text-align: right;\">\n",
              "      <th></th>\n",
              "      <th>Products_Model</th>\n",
              "      <th>Products_details</th>\n",
              "      <th>Price_regular</th>\n",
              "      <th>Price_offers</th>\n",
              "      <th>Currency</th>\n",
              "      <th>Known_price</th>\n",
              "      <th>Brand</th>\n",
              "      <th>Cores</th>\n",
              "    </tr>\n",
              "  </thead>\n",
              "  <tbody>\n",
              "    <tr>\n",
              "      <th>0</th>\n",
              "      <td>Apple iPhone Xs Max</td>\n",
              "      <td>2018 - 6 cores - 6.5 inch - 256GB - space grey...</td>\n",
              "      <td>899.00</td>\n",
              "      <td>799.0</td>\n",
              "      <td>EUR</td>\n",
              "      <td>1</td>\n",
              "      <td>Apple</td>\n",
              "      <td>6 cores</td>\n",
              "    </tr>\n",
              "    <tr>\n",
              "      <th>1</th>\n",
              "      <td>Oppo A16s</td>\n",
              "      <td>2021 - 8 cores - 6.52 inch - 64GB - Black - 59...</td>\n",
              "      <td>179.38</td>\n",
              "      <td>169.0</td>\n",
              "      <td>EUR</td>\n",
              "      <td>1</td>\n",
              "      <td>Oppo</td>\n",
              "      <td>8 cores</td>\n",
              "    </tr>\n",
              "  </tbody>\n",
              "</table>\n",
              "</div>\n",
              "      <button class=\"colab-df-convert\" onclick=\"convertToInteractive('df-cb6f2145-4072-473d-9c62-19c848dc24d7')\"\n",
              "              title=\"Convert this dataframe to an interactive table.\"\n",
              "              style=\"display:none;\">\n",
              "        \n",
              "  <svg xmlns=\"http://www.w3.org/2000/svg\" height=\"24px\"viewBox=\"0 0 24 24\"\n",
              "       width=\"24px\">\n",
              "    <path d=\"M0 0h24v24H0V0z\" fill=\"none\"/>\n",
              "    <path d=\"M18.56 5.44l.94 2.06.94-2.06 2.06-.94-2.06-.94-.94-2.06-.94 2.06-2.06.94zm-11 1L8.5 8.5l.94-2.06 2.06-.94-2.06-.94L8.5 2.5l-.94 2.06-2.06.94zm10 10l.94 2.06.94-2.06 2.06-.94-2.06-.94-.94-2.06-.94 2.06-2.06.94z\"/><path d=\"M17.41 7.96l-1.37-1.37c-.4-.4-.92-.59-1.43-.59-.52 0-1.04.2-1.43.59L10.3 9.45l-7.72 7.72c-.78.78-.78 2.05 0 2.83L4 21.41c.39.39.9.59 1.41.59.51 0 1.02-.2 1.41-.59l7.78-7.78 2.81-2.81c.8-.78.8-2.07 0-2.86zM5.41 20L4 18.59l7.72-7.72 1.47 1.35L5.41 20z\"/>\n",
              "  </svg>\n",
              "      </button>\n",
              "      \n",
              "  <style>\n",
              "    .colab-df-container {\n",
              "      display:flex;\n",
              "      flex-wrap:wrap;\n",
              "      gap: 12px;\n",
              "    }\n",
              "\n",
              "    .colab-df-convert {\n",
              "      background-color: #E8F0FE;\n",
              "      border: none;\n",
              "      border-radius: 50%;\n",
              "      cursor: pointer;\n",
              "      display: none;\n",
              "      fill: #1967D2;\n",
              "      height: 32px;\n",
              "      padding: 0 0 0 0;\n",
              "      width: 32px;\n",
              "    }\n",
              "\n",
              "    .colab-df-convert:hover {\n",
              "      background-color: #E2EBFA;\n",
              "      box-shadow: 0px 1px 2px rgba(60, 64, 67, 0.3), 0px 1px 3px 1px rgba(60, 64, 67, 0.15);\n",
              "      fill: #174EA6;\n",
              "    }\n",
              "\n",
              "    [theme=dark] .colab-df-convert {\n",
              "      background-color: #3B4455;\n",
              "      fill: #D2E3FC;\n",
              "    }\n",
              "\n",
              "    [theme=dark] .colab-df-convert:hover {\n",
              "      background-color: #434B5C;\n",
              "      box-shadow: 0px 1px 3px 1px rgba(0, 0, 0, 0.15);\n",
              "      filter: drop-shadow(0px 1px 2px rgba(0, 0, 0, 0.3));\n",
              "      fill: #FFFFFF;\n",
              "    }\n",
              "  </style>\n",
              "\n",
              "      <script>\n",
              "        const buttonEl =\n",
              "          document.querySelector('#df-cb6f2145-4072-473d-9c62-19c848dc24d7 button.colab-df-convert');\n",
              "        buttonEl.style.display =\n",
              "          google.colab.kernel.accessAllowed ? 'block' : 'none';\n",
              "\n",
              "        async function convertToInteractive(key) {\n",
              "          const element = document.querySelector('#df-cb6f2145-4072-473d-9c62-19c848dc24d7');\n",
              "          const dataTable =\n",
              "            await google.colab.kernel.invokeFunction('convertToInteractive',\n",
              "                                                     [key], {});\n",
              "          if (!dataTable) return;\n",
              "\n",
              "          const docLinkHtml = 'Like what you see? Visit the ' +\n",
              "            '<a target=\"_blank\" href=https://colab.research.google.com/notebooks/data_table.ipynb>data table notebook</a>'\n",
              "            + ' to learn more about interactive tables.';\n",
              "          element.innerHTML = '';\n",
              "          dataTable['output_type'] = 'display_data';\n",
              "          await google.colab.output.renderOutput(dataTable, element);\n",
              "          const docLink = document.createElement('div');\n",
              "          docLink.innerHTML = docLinkHtml;\n",
              "          element.appendChild(docLink);\n",
              "        }\n",
              "      </script>\n",
              "    </div>\n",
              "  </div>\n",
              "  "
            ]
          },
          "metadata": {},
          "execution_count": 60
        }
      ]
    },
    {
      "cell_type": "code",
      "source": [
        "plist=[]\n",
        "count=0\n",
        "count_2=0\n",
        "data_2=list(data_2)\n",
        "for i in range(len(data_2)):\n",
        "  for j in range(len(data_2[i])):\n",
        "    if 'Snapdragon' in data_2[i][j]:\n",
        "      plist.append(data_2[i][j])\n",
        "      count+=1\n",
        "  if count==count_2:\n",
        "    plist.append('other')\n",
        "  else:\n",
        "    count_2=count"
      ],
      "metadata": {
        "id": "UpnOJPNHUHig"
      },
      "execution_count": null,
      "outputs": []
    },
    {
      "cell_type": "code",
      "source": [
        "len(plist)"
      ],
      "metadata": {
        "colab": {
          "base_uri": "https://localhost:8080/"
        },
        "id": "Wjzgf2F7U6yu",
        "outputId": "64ca785c-de13-4be9-e392-8be691aa24e2"
      },
      "execution_count": null,
      "outputs": [
        {
          "output_type": "execute_result",
          "data": {
            "text/plain": [
              "2506"
            ]
          },
          "metadata": {},
          "execution_count": 62
        }
      ]
    },
    {
      "cell_type": "code",
      "source": [
        "data.head(5)"
      ],
      "metadata": {
        "colab": {
          "base_uri": "https://localhost:8080/",
          "height": 206
        },
        "id": "hkuBHMt2WKSO",
        "outputId": "587e1c33-bf5a-433f-b7f0-e0a1fa1d995c"
      },
      "execution_count": null,
      "outputs": [
        {
          "output_type": "execute_result",
          "data": {
            "text/plain": [
              "            Products_Model                                   Products_details  \\\n",
              "0      Apple iPhone Xs Max  2018 - 6 cores - 6.5 inch - 256GB - space grey...   \n",
              "1                Oppo A16s  2021 - 8 cores - 6.52 inch - 64GB - Black - 59...   \n",
              "2                Huawei Y5  2019 - 4 cores - 5.71 inch - 16GB - black - 51...   \n",
              "3  Apple iPhone 11 Pro Max    6 cores - 6.5 inch - 256GB - Silver - MWHK2ZD/A   \n",
              "4  Apple iPhone 11 Pro Max       6 cores - 6.5 inch - 64GB - Gold - MWHG2ZD/A   \n",
              "\n",
              "   Price_regular  Price_offers       Currency  Known_price   Brand      Cores  \n",
              "0         899.00         799.0            EUR            1   Apple   6 cores   \n",
              "1         179.38         169.0            EUR            1    Oppo   8 cores   \n",
              "2         144.00           0.0  Not_Specified            1  Huawei   4 cores   \n",
              "3         536.00           0.0  Not_Specified            1   Apple   6 cores   \n",
              "4         486.00           0.0  Not_Specified            1   Apple   6 cores   "
            ],
            "text/html": [
              "\n",
              "  <div id=\"df-4c1dcae8-ce41-4c90-a338-a0e4a3b296de\">\n",
              "    <div class=\"colab-df-container\">\n",
              "      <div>\n",
              "<style scoped>\n",
              "    .dataframe tbody tr th:only-of-type {\n",
              "        vertical-align: middle;\n",
              "    }\n",
              "\n",
              "    .dataframe tbody tr th {\n",
              "        vertical-align: top;\n",
              "    }\n",
              "\n",
              "    .dataframe thead th {\n",
              "        text-align: right;\n",
              "    }\n",
              "</style>\n",
              "<table border=\"1\" class=\"dataframe\">\n",
              "  <thead>\n",
              "    <tr style=\"text-align: right;\">\n",
              "      <th></th>\n",
              "      <th>Products_Model</th>\n",
              "      <th>Products_details</th>\n",
              "      <th>Price_regular</th>\n",
              "      <th>Price_offers</th>\n",
              "      <th>Currency</th>\n",
              "      <th>Known_price</th>\n",
              "      <th>Brand</th>\n",
              "      <th>Cores</th>\n",
              "    </tr>\n",
              "  </thead>\n",
              "  <tbody>\n",
              "    <tr>\n",
              "      <th>0</th>\n",
              "      <td>Apple iPhone Xs Max</td>\n",
              "      <td>2018 - 6 cores - 6.5 inch - 256GB - space grey...</td>\n",
              "      <td>899.00</td>\n",
              "      <td>799.0</td>\n",
              "      <td>EUR</td>\n",
              "      <td>1</td>\n",
              "      <td>Apple</td>\n",
              "      <td>6 cores</td>\n",
              "    </tr>\n",
              "    <tr>\n",
              "      <th>1</th>\n",
              "      <td>Oppo A16s</td>\n",
              "      <td>2021 - 8 cores - 6.52 inch - 64GB - Black - 59...</td>\n",
              "      <td>179.38</td>\n",
              "      <td>169.0</td>\n",
              "      <td>EUR</td>\n",
              "      <td>1</td>\n",
              "      <td>Oppo</td>\n",
              "      <td>8 cores</td>\n",
              "    </tr>\n",
              "    <tr>\n",
              "      <th>2</th>\n",
              "      <td>Huawei Y5</td>\n",
              "      <td>2019 - 4 cores - 5.71 inch - 16GB - black - 51...</td>\n",
              "      <td>144.00</td>\n",
              "      <td>0.0</td>\n",
              "      <td>Not_Specified</td>\n",
              "      <td>1</td>\n",
              "      <td>Huawei</td>\n",
              "      <td>4 cores</td>\n",
              "    </tr>\n",
              "    <tr>\n",
              "      <th>3</th>\n",
              "      <td>Apple iPhone 11 Pro Max</td>\n",
              "      <td>6 cores - 6.5 inch - 256GB - Silver - MWHK2ZD/A</td>\n",
              "      <td>536.00</td>\n",
              "      <td>0.0</td>\n",
              "      <td>Not_Specified</td>\n",
              "      <td>1</td>\n",
              "      <td>Apple</td>\n",
              "      <td>6 cores</td>\n",
              "    </tr>\n",
              "    <tr>\n",
              "      <th>4</th>\n",
              "      <td>Apple iPhone 11 Pro Max</td>\n",
              "      <td>6 cores - 6.5 inch - 64GB - Gold - MWHG2ZD/A</td>\n",
              "      <td>486.00</td>\n",
              "      <td>0.0</td>\n",
              "      <td>Not_Specified</td>\n",
              "      <td>1</td>\n",
              "      <td>Apple</td>\n",
              "      <td>6 cores</td>\n",
              "    </tr>\n",
              "  </tbody>\n",
              "</table>\n",
              "</div>\n",
              "      <button class=\"colab-df-convert\" onclick=\"convertToInteractive('df-4c1dcae8-ce41-4c90-a338-a0e4a3b296de')\"\n",
              "              title=\"Convert this dataframe to an interactive table.\"\n",
              "              style=\"display:none;\">\n",
              "        \n",
              "  <svg xmlns=\"http://www.w3.org/2000/svg\" height=\"24px\"viewBox=\"0 0 24 24\"\n",
              "       width=\"24px\">\n",
              "    <path d=\"M0 0h24v24H0V0z\" fill=\"none\"/>\n",
              "    <path d=\"M18.56 5.44l.94 2.06.94-2.06 2.06-.94-2.06-.94-.94-2.06-.94 2.06-2.06.94zm-11 1L8.5 8.5l.94-2.06 2.06-.94-2.06-.94L8.5 2.5l-.94 2.06-2.06.94zm10 10l.94 2.06.94-2.06 2.06-.94-2.06-.94-.94-2.06-.94 2.06-2.06.94z\"/><path d=\"M17.41 7.96l-1.37-1.37c-.4-.4-.92-.59-1.43-.59-.52 0-1.04.2-1.43.59L10.3 9.45l-7.72 7.72c-.78.78-.78 2.05 0 2.83L4 21.41c.39.39.9.59 1.41.59.51 0 1.02-.2 1.41-.59l7.78-7.78 2.81-2.81c.8-.78.8-2.07 0-2.86zM5.41 20L4 18.59l7.72-7.72 1.47 1.35L5.41 20z\"/>\n",
              "  </svg>\n",
              "      </button>\n",
              "      \n",
              "  <style>\n",
              "    .colab-df-container {\n",
              "      display:flex;\n",
              "      flex-wrap:wrap;\n",
              "      gap: 12px;\n",
              "    }\n",
              "\n",
              "    .colab-df-convert {\n",
              "      background-color: #E8F0FE;\n",
              "      border: none;\n",
              "      border-radius: 50%;\n",
              "      cursor: pointer;\n",
              "      display: none;\n",
              "      fill: #1967D2;\n",
              "      height: 32px;\n",
              "      padding: 0 0 0 0;\n",
              "      width: 32px;\n",
              "    }\n",
              "\n",
              "    .colab-df-convert:hover {\n",
              "      background-color: #E2EBFA;\n",
              "      box-shadow: 0px 1px 2px rgba(60, 64, 67, 0.3), 0px 1px 3px 1px rgba(60, 64, 67, 0.15);\n",
              "      fill: #174EA6;\n",
              "    }\n",
              "\n",
              "    [theme=dark] .colab-df-convert {\n",
              "      background-color: #3B4455;\n",
              "      fill: #D2E3FC;\n",
              "    }\n",
              "\n",
              "    [theme=dark] .colab-df-convert:hover {\n",
              "      background-color: #434B5C;\n",
              "      box-shadow: 0px 1px 3px 1px rgba(0, 0, 0, 0.15);\n",
              "      filter: drop-shadow(0px 1px 2px rgba(0, 0, 0, 0.3));\n",
              "      fill: #FFFFFF;\n",
              "    }\n",
              "  </style>\n",
              "\n",
              "      <script>\n",
              "        const buttonEl =\n",
              "          document.querySelector('#df-4c1dcae8-ce41-4c90-a338-a0e4a3b296de button.colab-df-convert');\n",
              "        buttonEl.style.display =\n",
              "          google.colab.kernel.accessAllowed ? 'block' : 'none';\n",
              "\n",
              "        async function convertToInteractive(key) {\n",
              "          const element = document.querySelector('#df-4c1dcae8-ce41-4c90-a338-a0e4a3b296de');\n",
              "          const dataTable =\n",
              "            await google.colab.kernel.invokeFunction('convertToInteractive',\n",
              "                                                     [key], {});\n",
              "          if (!dataTable) return;\n",
              "\n",
              "          const docLinkHtml = 'Like what you see? Visit the ' +\n",
              "            '<a target=\"_blank\" href=https://colab.research.google.com/notebooks/data_table.ipynb>data table notebook</a>'\n",
              "            + ' to learn more about interactive tables.';\n",
              "          element.innerHTML = '';\n",
              "          dataTable['output_type'] = 'display_data';\n",
              "          await google.colab.output.renderOutput(dataTable, element);\n",
              "          const docLink = document.createElement('div');\n",
              "          docLink.innerHTML = docLinkHtml;\n",
              "          element.appendChild(docLink);\n",
              "        }\n",
              "      </script>\n",
              "    </div>\n",
              "  </div>\n",
              "  "
            ]
          },
          "metadata": {},
          "execution_count": 63
        }
      ]
    },
    {
      "cell_type": "code",
      "source": [
        "data=data.reset_index(drop=True)"
      ],
      "metadata": {
        "id": "e3Gcm6C9j_Sb"
      },
      "execution_count": null,
      "outputs": []
    },
    {
      "cell_type": "code",
      "source": [
        "data['Brand'][36]"
      ],
      "metadata": {
        "colab": {
          "base_uri": "https://localhost:8080/",
          "height": 35
        },
        "id": "B0APOC-3kbKi",
        "outputId": "18f01437-16e3-4d3c-8d0b-5081aa83453d"
      },
      "execution_count": null,
      "outputs": [
        {
          "output_type": "execute_result",
          "data": {
            "text/plain": [
              "'Samsung'"
            ],
            "application/vnd.google.colaboratory.intrinsic+json": {
              "type": "string"
            }
          },
          "metadata": {},
          "execution_count": 65
        }
      ]
    },
    {
      "cell_type": "code",
      "source": [
        "len(data)"
      ],
      "metadata": {
        "colab": {
          "base_uri": "https://localhost:8080/"
        },
        "id": "UmqH41RtmAhr",
        "outputId": "d832b6d1-e3e9-4b5a-c4f4-be4b5fbd90cf"
      },
      "execution_count": null,
      "outputs": [
        {
          "output_type": "execute_result",
          "data": {
            "text/plain": [
              "2506"
            ]
          },
          "metadata": {},
          "execution_count": 66
        }
      ]
    },
    {
      "cell_type": "code",
      "source": [
        "for i in range(len(data['Brand'])):\n",
        "  if data['Brand'][i]=='Apple':\n",
        "    plist[i]='Bionic chip'"
      ],
      "metadata": {
        "id": "DV1uaJ8JmIxi"
      },
      "execution_count": null,
      "outputs": []
    },
    {
      "cell_type": "code",
      "source": [
        "data['Brand'].value_counts().head(20)"
      ],
      "metadata": {
        "colab": {
          "base_uri": "https://localhost:8080/"
        },
        "id": "38qSzTPXnSmS",
        "outputId": "90ee95b0-bbd5-446d-b6bd-3f3d06a4cd23"
      },
      "execution_count": null,
      "outputs": [
        {
          "output_type": "execute_result",
          "data": {
            "text/plain": [
              "Samsung      725\n",
              "Apple        538\n",
              "Xiaomi       262\n",
              "Huawei       129\n",
              "Motorola     108\n",
              "Realme        86\n",
              "Sony          76\n",
              "Oppo          76\n",
              "Google        57\n",
              "Oneplus       56\n",
              "Nokia         45\n",
              "Ulefone       42\n",
              "Doogee        28\n",
              "Blackview     28\n",
              "Vertu         21\n",
              "Poco          19\n",
              "Tcl           19\n",
              "Oukitel       18\n",
              "Lg            12\n",
              "Microsoft     10\n",
              "Name: Brand, dtype: int64"
            ]
          },
          "metadata": {},
          "execution_count": 68
        }
      ]
    },
    {
      "cell_type": "code",
      "source": [
        "for i in range(len(data['Brand'])):\n",
        "  if data['Brand'][i]=='Google':\n",
        "    plist[i]='Google Tensor'"
      ],
      "metadata": {
        "id": "YG4yc2lwne3K"
      },
      "execution_count": null,
      "outputs": []
    },
    {
      "cell_type": "code",
      "source": [
        "data['Processor']=plist"
      ],
      "metadata": {
        "id": "5etJF-jhpRlm"
      },
      "execution_count": null,
      "outputs": []
    },
    {
      "cell_type": "code",
      "source": [
        "len(plist)"
      ],
      "metadata": {
        "colab": {
          "base_uri": "https://localhost:8080/"
        },
        "id": "CQyr3-jLpyOa",
        "outputId": "16be794b-15b3-46c8-bf53-3177c8375c0c"
      },
      "execution_count": null,
      "outputs": [
        {
          "output_type": "execute_result",
          "data": {
            "text/plain": [
              "2506"
            ]
          },
          "metadata": {},
          "execution_count": 71
        }
      ]
    },
    {
      "cell_type": "code",
      "source": [
        "data.head(5)"
      ],
      "metadata": {
        "colab": {
          "base_uri": "https://localhost:8080/",
          "height": 206
        },
        "id": "SnVV9B22p1Gp",
        "outputId": "c74ade60-1a0e-4ab3-d1c0-15352ae9d3b4"
      },
      "execution_count": null,
      "outputs": [
        {
          "output_type": "execute_result",
          "data": {
            "text/plain": [
              "            Products_Model                                   Products_details  \\\n",
              "0      Apple iPhone Xs Max  2018 - 6 cores - 6.5 inch - 256GB - space grey...   \n",
              "1                Oppo A16s  2021 - 8 cores - 6.52 inch - 64GB - Black - 59...   \n",
              "2                Huawei Y5  2019 - 4 cores - 5.71 inch - 16GB - black - 51...   \n",
              "3  Apple iPhone 11 Pro Max    6 cores - 6.5 inch - 256GB - Silver - MWHK2ZD/A   \n",
              "4  Apple iPhone 11 Pro Max       6 cores - 6.5 inch - 64GB - Gold - MWHG2ZD/A   \n",
              "\n",
              "   Price_regular  Price_offers       Currency  Known_price   Brand      Cores  \\\n",
              "0         899.00         799.0            EUR            1   Apple   6 cores    \n",
              "1         179.38         169.0            EUR            1    Oppo   8 cores    \n",
              "2         144.00           0.0  Not_Specified            1  Huawei   4 cores    \n",
              "3         536.00           0.0  Not_Specified            1   Apple   6 cores    \n",
              "4         486.00           0.0  Not_Specified            1   Apple   6 cores    \n",
              "\n",
              "     Processor  \n",
              "0  Bionic chip  \n",
              "1        other  \n",
              "2        other  \n",
              "3  Bionic chip  \n",
              "4  Bionic chip  "
            ],
            "text/html": [
              "\n",
              "  <div id=\"df-1e7e6ce5-ca44-4564-9e07-683d8bcbaf82\">\n",
              "    <div class=\"colab-df-container\">\n",
              "      <div>\n",
              "<style scoped>\n",
              "    .dataframe tbody tr th:only-of-type {\n",
              "        vertical-align: middle;\n",
              "    }\n",
              "\n",
              "    .dataframe tbody tr th {\n",
              "        vertical-align: top;\n",
              "    }\n",
              "\n",
              "    .dataframe thead th {\n",
              "        text-align: right;\n",
              "    }\n",
              "</style>\n",
              "<table border=\"1\" class=\"dataframe\">\n",
              "  <thead>\n",
              "    <tr style=\"text-align: right;\">\n",
              "      <th></th>\n",
              "      <th>Products_Model</th>\n",
              "      <th>Products_details</th>\n",
              "      <th>Price_regular</th>\n",
              "      <th>Price_offers</th>\n",
              "      <th>Currency</th>\n",
              "      <th>Known_price</th>\n",
              "      <th>Brand</th>\n",
              "      <th>Cores</th>\n",
              "      <th>Processor</th>\n",
              "    </tr>\n",
              "  </thead>\n",
              "  <tbody>\n",
              "    <tr>\n",
              "      <th>0</th>\n",
              "      <td>Apple iPhone Xs Max</td>\n",
              "      <td>2018 - 6 cores - 6.5 inch - 256GB - space grey...</td>\n",
              "      <td>899.00</td>\n",
              "      <td>799.0</td>\n",
              "      <td>EUR</td>\n",
              "      <td>1</td>\n",
              "      <td>Apple</td>\n",
              "      <td>6 cores</td>\n",
              "      <td>Bionic chip</td>\n",
              "    </tr>\n",
              "    <tr>\n",
              "      <th>1</th>\n",
              "      <td>Oppo A16s</td>\n",
              "      <td>2021 - 8 cores - 6.52 inch - 64GB - Black - 59...</td>\n",
              "      <td>179.38</td>\n",
              "      <td>169.0</td>\n",
              "      <td>EUR</td>\n",
              "      <td>1</td>\n",
              "      <td>Oppo</td>\n",
              "      <td>8 cores</td>\n",
              "      <td>other</td>\n",
              "    </tr>\n",
              "    <tr>\n",
              "      <th>2</th>\n",
              "      <td>Huawei Y5</td>\n",
              "      <td>2019 - 4 cores - 5.71 inch - 16GB - black - 51...</td>\n",
              "      <td>144.00</td>\n",
              "      <td>0.0</td>\n",
              "      <td>Not_Specified</td>\n",
              "      <td>1</td>\n",
              "      <td>Huawei</td>\n",
              "      <td>4 cores</td>\n",
              "      <td>other</td>\n",
              "    </tr>\n",
              "    <tr>\n",
              "      <th>3</th>\n",
              "      <td>Apple iPhone 11 Pro Max</td>\n",
              "      <td>6 cores - 6.5 inch - 256GB - Silver - MWHK2ZD/A</td>\n",
              "      <td>536.00</td>\n",
              "      <td>0.0</td>\n",
              "      <td>Not_Specified</td>\n",
              "      <td>1</td>\n",
              "      <td>Apple</td>\n",
              "      <td>6 cores</td>\n",
              "      <td>Bionic chip</td>\n",
              "    </tr>\n",
              "    <tr>\n",
              "      <th>4</th>\n",
              "      <td>Apple iPhone 11 Pro Max</td>\n",
              "      <td>6 cores - 6.5 inch - 64GB - Gold - MWHG2ZD/A</td>\n",
              "      <td>486.00</td>\n",
              "      <td>0.0</td>\n",
              "      <td>Not_Specified</td>\n",
              "      <td>1</td>\n",
              "      <td>Apple</td>\n",
              "      <td>6 cores</td>\n",
              "      <td>Bionic chip</td>\n",
              "    </tr>\n",
              "  </tbody>\n",
              "</table>\n",
              "</div>\n",
              "      <button class=\"colab-df-convert\" onclick=\"convertToInteractive('df-1e7e6ce5-ca44-4564-9e07-683d8bcbaf82')\"\n",
              "              title=\"Convert this dataframe to an interactive table.\"\n",
              "              style=\"display:none;\">\n",
              "        \n",
              "  <svg xmlns=\"http://www.w3.org/2000/svg\" height=\"24px\"viewBox=\"0 0 24 24\"\n",
              "       width=\"24px\">\n",
              "    <path d=\"M0 0h24v24H0V0z\" fill=\"none\"/>\n",
              "    <path d=\"M18.56 5.44l.94 2.06.94-2.06 2.06-.94-2.06-.94-.94-2.06-.94 2.06-2.06.94zm-11 1L8.5 8.5l.94-2.06 2.06-.94-2.06-.94L8.5 2.5l-.94 2.06-2.06.94zm10 10l.94 2.06.94-2.06 2.06-.94-2.06-.94-.94-2.06-.94 2.06-2.06.94z\"/><path d=\"M17.41 7.96l-1.37-1.37c-.4-.4-.92-.59-1.43-.59-.52 0-1.04.2-1.43.59L10.3 9.45l-7.72 7.72c-.78.78-.78 2.05 0 2.83L4 21.41c.39.39.9.59 1.41.59.51 0 1.02-.2 1.41-.59l7.78-7.78 2.81-2.81c.8-.78.8-2.07 0-2.86zM5.41 20L4 18.59l7.72-7.72 1.47 1.35L5.41 20z\"/>\n",
              "  </svg>\n",
              "      </button>\n",
              "      \n",
              "  <style>\n",
              "    .colab-df-container {\n",
              "      display:flex;\n",
              "      flex-wrap:wrap;\n",
              "      gap: 12px;\n",
              "    }\n",
              "\n",
              "    .colab-df-convert {\n",
              "      background-color: #E8F0FE;\n",
              "      border: none;\n",
              "      border-radius: 50%;\n",
              "      cursor: pointer;\n",
              "      display: none;\n",
              "      fill: #1967D2;\n",
              "      height: 32px;\n",
              "      padding: 0 0 0 0;\n",
              "      width: 32px;\n",
              "    }\n",
              "\n",
              "    .colab-df-convert:hover {\n",
              "      background-color: #E2EBFA;\n",
              "      box-shadow: 0px 1px 2px rgba(60, 64, 67, 0.3), 0px 1px 3px 1px rgba(60, 64, 67, 0.15);\n",
              "      fill: #174EA6;\n",
              "    }\n",
              "\n",
              "    [theme=dark] .colab-df-convert {\n",
              "      background-color: #3B4455;\n",
              "      fill: #D2E3FC;\n",
              "    }\n",
              "\n",
              "    [theme=dark] .colab-df-convert:hover {\n",
              "      background-color: #434B5C;\n",
              "      box-shadow: 0px 1px 3px 1px rgba(0, 0, 0, 0.15);\n",
              "      filter: drop-shadow(0px 1px 2px rgba(0, 0, 0, 0.3));\n",
              "      fill: #FFFFFF;\n",
              "    }\n",
              "  </style>\n",
              "\n",
              "      <script>\n",
              "        const buttonEl =\n",
              "          document.querySelector('#df-1e7e6ce5-ca44-4564-9e07-683d8bcbaf82 button.colab-df-convert');\n",
              "        buttonEl.style.display =\n",
              "          google.colab.kernel.accessAllowed ? 'block' : 'none';\n",
              "\n",
              "        async function convertToInteractive(key) {\n",
              "          const element = document.querySelector('#df-1e7e6ce5-ca44-4564-9e07-683d8bcbaf82');\n",
              "          const dataTable =\n",
              "            await google.colab.kernel.invokeFunction('convertToInteractive',\n",
              "                                                     [key], {});\n",
              "          if (!dataTable) return;\n",
              "\n",
              "          const docLinkHtml = 'Like what you see? Visit the ' +\n",
              "            '<a target=\"_blank\" href=https://colab.research.google.com/notebooks/data_table.ipynb>data table notebook</a>'\n",
              "            + ' to learn more about interactive tables.';\n",
              "          element.innerHTML = '';\n",
              "          dataTable['output_type'] = 'display_data';\n",
              "          await google.colab.output.renderOutput(dataTable, element);\n",
              "          const docLink = document.createElement('div');\n",
              "          docLink.innerHTML = docLinkHtml;\n",
              "          element.appendChild(docLink);\n",
              "        }\n",
              "      </script>\n",
              "    </div>\n",
              "  </div>\n",
              "  "
            ]
          },
          "metadata": {},
          "execution_count": 72
        }
      ]
    },
    {
      "cell_type": "code",
      "source": [
        "data['Processor'].value_counts()"
      ],
      "metadata": {
        "id": "FHWpbdEFp4Cy",
        "colab": {
          "base_uri": "https://localhost:8080/"
        },
        "outputId": "695e3093-7112-4cb2-8a7f-8050e00cc891"
      },
      "execution_count": null,
      "outputs": [
        {
          "output_type": "execute_result",
          "data": {
            "text/plain": [
              "other                                          1424\n",
              "Bionic chip                                     538\n",
              "Qualcomm Snapdragon                              96\n",
              "Google Tensor                                    57\n",
              " Qualcomm Snapdragon                             50\n",
              " Qualcomm Snapdragon 8 Gen2                      47\n",
              "Snapdragon® 8 Gen 2                              47\n",
              "Qualcomm Snapdragon 8 Gen 1                      42\n",
              " Qualcomm Snapdragon 8+ Gen1                     35\n",
              "Snapdragon 8+ Gen 1                              28\n",
              " Qualcomm Snapdragon 888                         18\n",
              " Qualcomm Snapdragon 8 Gen1                      13\n",
              " Qualcomm Snapdragon 695 5G                      12\n",
              "Snapdragon 888                                   11\n",
              " Qualcomm Snapdragon 680                         10\n",
              "Qualcomm Snapdragon 888                           9\n",
              " [Quallcomm Snapdragon 695]                       5\n",
              " Qualcomm Snapdragon 778G                         5\n",
              " Qualcomm Snapdragon 870                          4\n",
              "Qualcomm Snapdragon 888 5G Mobile Platform        4\n",
              "Snapdragon 865+                                   4\n",
              "Qualcomm Snapdragon 662 Mobile Processor          4\n",
              " Qualcomm Snapdragon 865                          4\n",
              " Qualcomm Snapdragon 750G                         4\n",
              " Qualcomm Snapdragon 480 5G                       4\n",
              "Snapdragon 855                                    3\n",
              " Qualcomm Snapdragon 662                          3\n",
              "Qualcomm Snapdragon 888 5G                        2\n",
              "Qualcomm Snapdragon 765                           2\n",
              " Qualcomm Snapdragon 888+                         2\n",
              " Qualcomm Snapdragon 732G                         2\n",
              "Qualcomm Snapdragon 675 Mobile Processor          2\n",
              "Snapdragon 365                                    1\n",
              " Qualcomm Snapdragon 665                          1\n",
              " Qualcomm Snapdragon 480+                         1\n",
              "Qualcomm Snapdragon 855                           1\n",
              " Qualcomm Snapdragon 450                          1\n",
              "Snapdragon 765G                                   1\n",
              "Snapdragon 8 Gen 1 Mobile Platform                1\n",
              "Qualcomm Snapdragon 750G                          1\n",
              "Qualcomm Snapdragon 460                           1\n",
              "Qualcomm Snapdragon 8Gen 1 Mobile Patform         1\n",
              "Qualcomm Snapdragon 6375                          1\n",
              "Qualcomm Snapdragon 480 5G processor              1\n",
              "Qualcomm® Snapdragon™ 778G                        1\n",
              "Qualcomm Snapdragon 750G 5G                       1\n",
              " Qualcomm Snapdragon 660                          1\n",
              "Name: Processor, dtype: int64"
            ]
          },
          "metadata": {},
          "execution_count": 73
        }
      ]
    },
    {
      "cell_type": "code",
      "source": [
        "vlist=[]\n",
        "count=0\n",
        "count_2=0\n",
        "data_2=list(data_2)\n",
        "for i in range(len(data_2)):\n",
        "  for j in range(len(data_2[i])):\n",
        "    if 'inch' in data_2[i][j]   :\n",
        "      vlist.append(data_2[i][j])\n",
        "      count+=1\n",
        "  if count==count_2:\n",
        "    vlist.append('not_available')\n",
        "  else:\n",
        "    count_2=count"
      ],
      "metadata": {
        "id": "CqwdXcASvrB8"
      },
      "execution_count": null,
      "outputs": []
    },
    {
      "cell_type": "code",
      "source": [
        "len(vlist)"
      ],
      "metadata": {
        "colab": {
          "base_uri": "https://localhost:8080/"
        },
        "id": "AteapCZ-xcwP",
        "outputId": "a9226cc9-6346-4f7d-b468-741e3a28d912"
      },
      "execution_count": null,
      "outputs": [
        {
          "output_type": "execute_result",
          "data": {
            "text/plain": [
              "2506"
            ]
          },
          "metadata": {},
          "execution_count": 75
        }
      ]
    },
    {
      "cell_type": "code",
      "source": [
        "data['Display']=vlist"
      ],
      "metadata": {
        "id": "VdDA88QpxeQZ"
      },
      "execution_count": null,
      "outputs": []
    },
    {
      "cell_type": "code",
      "source": [
        "data.head()"
      ],
      "metadata": {
        "colab": {
          "base_uri": "https://localhost:8080/",
          "height": 250
        },
        "id": "dGreT2mrxw5Z",
        "outputId": "b5ce9d2e-3b2f-496a-e6d9-11facb1a85dd"
      },
      "execution_count": null,
      "outputs": [
        {
          "output_type": "execute_result",
          "data": {
            "text/plain": [
              "            Products_Model                                   Products_details  \\\n",
              "0      Apple iPhone Xs Max  2018 - 6 cores - 6.5 inch - 256GB - space grey...   \n",
              "1                Oppo A16s  2021 - 8 cores - 6.52 inch - 64GB - Black - 59...   \n",
              "2                Huawei Y5  2019 - 4 cores - 5.71 inch - 16GB - black - 51...   \n",
              "3  Apple iPhone 11 Pro Max    6 cores - 6.5 inch - 256GB - Silver - MWHK2ZD/A   \n",
              "4  Apple iPhone 11 Pro Max       6 cores - 6.5 inch - 64GB - Gold - MWHG2ZD/A   \n",
              "\n",
              "   Price_regular  Price_offers       Currency  Known_price   Brand      Cores  \\\n",
              "0         899.00         799.0            EUR            1   Apple   6 cores    \n",
              "1         179.38         169.0            EUR            1    Oppo   8 cores    \n",
              "2         144.00           0.0  Not_Specified            1  Huawei   4 cores    \n",
              "3         536.00           0.0  Not_Specified            1   Apple   6 cores    \n",
              "4         486.00           0.0  Not_Specified            1   Apple   6 cores    \n",
              "\n",
              "     Processor      Display  \n",
              "0  Bionic chip    6.5 inch   \n",
              "1        other   6.52 inch   \n",
              "2        other   5.71 inch   \n",
              "3  Bionic chip    6.5 inch   \n",
              "4  Bionic chip    6.5 inch   "
            ],
            "text/html": [
              "\n",
              "  <div id=\"df-c151ca40-c5ba-4f56-b858-ced9216cd5f3\">\n",
              "    <div class=\"colab-df-container\">\n",
              "      <div>\n",
              "<style scoped>\n",
              "    .dataframe tbody tr th:only-of-type {\n",
              "        vertical-align: middle;\n",
              "    }\n",
              "\n",
              "    .dataframe tbody tr th {\n",
              "        vertical-align: top;\n",
              "    }\n",
              "\n",
              "    .dataframe thead th {\n",
              "        text-align: right;\n",
              "    }\n",
              "</style>\n",
              "<table border=\"1\" class=\"dataframe\">\n",
              "  <thead>\n",
              "    <tr style=\"text-align: right;\">\n",
              "      <th></th>\n",
              "      <th>Products_Model</th>\n",
              "      <th>Products_details</th>\n",
              "      <th>Price_regular</th>\n",
              "      <th>Price_offers</th>\n",
              "      <th>Currency</th>\n",
              "      <th>Known_price</th>\n",
              "      <th>Brand</th>\n",
              "      <th>Cores</th>\n",
              "      <th>Processor</th>\n",
              "      <th>Display</th>\n",
              "    </tr>\n",
              "  </thead>\n",
              "  <tbody>\n",
              "    <tr>\n",
              "      <th>0</th>\n",
              "      <td>Apple iPhone Xs Max</td>\n",
              "      <td>2018 - 6 cores - 6.5 inch - 256GB - space grey...</td>\n",
              "      <td>899.00</td>\n",
              "      <td>799.0</td>\n",
              "      <td>EUR</td>\n",
              "      <td>1</td>\n",
              "      <td>Apple</td>\n",
              "      <td>6 cores</td>\n",
              "      <td>Bionic chip</td>\n",
              "      <td>6.5 inch</td>\n",
              "    </tr>\n",
              "    <tr>\n",
              "      <th>1</th>\n",
              "      <td>Oppo A16s</td>\n",
              "      <td>2021 - 8 cores - 6.52 inch - 64GB - Black - 59...</td>\n",
              "      <td>179.38</td>\n",
              "      <td>169.0</td>\n",
              "      <td>EUR</td>\n",
              "      <td>1</td>\n",
              "      <td>Oppo</td>\n",
              "      <td>8 cores</td>\n",
              "      <td>other</td>\n",
              "      <td>6.52 inch</td>\n",
              "    </tr>\n",
              "    <tr>\n",
              "      <th>2</th>\n",
              "      <td>Huawei Y5</td>\n",
              "      <td>2019 - 4 cores - 5.71 inch - 16GB - black - 51...</td>\n",
              "      <td>144.00</td>\n",
              "      <td>0.0</td>\n",
              "      <td>Not_Specified</td>\n",
              "      <td>1</td>\n",
              "      <td>Huawei</td>\n",
              "      <td>4 cores</td>\n",
              "      <td>other</td>\n",
              "      <td>5.71 inch</td>\n",
              "    </tr>\n",
              "    <tr>\n",
              "      <th>3</th>\n",
              "      <td>Apple iPhone 11 Pro Max</td>\n",
              "      <td>6 cores - 6.5 inch - 256GB - Silver - MWHK2ZD/A</td>\n",
              "      <td>536.00</td>\n",
              "      <td>0.0</td>\n",
              "      <td>Not_Specified</td>\n",
              "      <td>1</td>\n",
              "      <td>Apple</td>\n",
              "      <td>6 cores</td>\n",
              "      <td>Bionic chip</td>\n",
              "      <td>6.5 inch</td>\n",
              "    </tr>\n",
              "    <tr>\n",
              "      <th>4</th>\n",
              "      <td>Apple iPhone 11 Pro Max</td>\n",
              "      <td>6 cores - 6.5 inch - 64GB - Gold - MWHG2ZD/A</td>\n",
              "      <td>486.00</td>\n",
              "      <td>0.0</td>\n",
              "      <td>Not_Specified</td>\n",
              "      <td>1</td>\n",
              "      <td>Apple</td>\n",
              "      <td>6 cores</td>\n",
              "      <td>Bionic chip</td>\n",
              "      <td>6.5 inch</td>\n",
              "    </tr>\n",
              "  </tbody>\n",
              "</table>\n",
              "</div>\n",
              "      <button class=\"colab-df-convert\" onclick=\"convertToInteractive('df-c151ca40-c5ba-4f56-b858-ced9216cd5f3')\"\n",
              "              title=\"Convert this dataframe to an interactive table.\"\n",
              "              style=\"display:none;\">\n",
              "        \n",
              "  <svg xmlns=\"http://www.w3.org/2000/svg\" height=\"24px\"viewBox=\"0 0 24 24\"\n",
              "       width=\"24px\">\n",
              "    <path d=\"M0 0h24v24H0V0z\" fill=\"none\"/>\n",
              "    <path d=\"M18.56 5.44l.94 2.06.94-2.06 2.06-.94-2.06-.94-.94-2.06-.94 2.06-2.06.94zm-11 1L8.5 8.5l.94-2.06 2.06-.94-2.06-.94L8.5 2.5l-.94 2.06-2.06.94zm10 10l.94 2.06.94-2.06 2.06-.94-2.06-.94-.94-2.06-.94 2.06-2.06.94z\"/><path d=\"M17.41 7.96l-1.37-1.37c-.4-.4-.92-.59-1.43-.59-.52 0-1.04.2-1.43.59L10.3 9.45l-7.72 7.72c-.78.78-.78 2.05 0 2.83L4 21.41c.39.39.9.59 1.41.59.51 0 1.02-.2 1.41-.59l7.78-7.78 2.81-2.81c.8-.78.8-2.07 0-2.86zM5.41 20L4 18.59l7.72-7.72 1.47 1.35L5.41 20z\"/>\n",
              "  </svg>\n",
              "      </button>\n",
              "      \n",
              "  <style>\n",
              "    .colab-df-container {\n",
              "      display:flex;\n",
              "      flex-wrap:wrap;\n",
              "      gap: 12px;\n",
              "    }\n",
              "\n",
              "    .colab-df-convert {\n",
              "      background-color: #E8F0FE;\n",
              "      border: none;\n",
              "      border-radius: 50%;\n",
              "      cursor: pointer;\n",
              "      display: none;\n",
              "      fill: #1967D2;\n",
              "      height: 32px;\n",
              "      padding: 0 0 0 0;\n",
              "      width: 32px;\n",
              "    }\n",
              "\n",
              "    .colab-df-convert:hover {\n",
              "      background-color: #E2EBFA;\n",
              "      box-shadow: 0px 1px 2px rgba(60, 64, 67, 0.3), 0px 1px 3px 1px rgba(60, 64, 67, 0.15);\n",
              "      fill: #174EA6;\n",
              "    }\n",
              "\n",
              "    [theme=dark] .colab-df-convert {\n",
              "      background-color: #3B4455;\n",
              "      fill: #D2E3FC;\n",
              "    }\n",
              "\n",
              "    [theme=dark] .colab-df-convert:hover {\n",
              "      background-color: #434B5C;\n",
              "      box-shadow: 0px 1px 3px 1px rgba(0, 0, 0, 0.15);\n",
              "      filter: drop-shadow(0px 1px 2px rgba(0, 0, 0, 0.3));\n",
              "      fill: #FFFFFF;\n",
              "    }\n",
              "  </style>\n",
              "\n",
              "      <script>\n",
              "        const buttonEl =\n",
              "          document.querySelector('#df-c151ca40-c5ba-4f56-b858-ced9216cd5f3 button.colab-df-convert');\n",
              "        buttonEl.style.display =\n",
              "          google.colab.kernel.accessAllowed ? 'block' : 'none';\n",
              "\n",
              "        async function convertToInteractive(key) {\n",
              "          const element = document.querySelector('#df-c151ca40-c5ba-4f56-b858-ced9216cd5f3');\n",
              "          const dataTable =\n",
              "            await google.colab.kernel.invokeFunction('convertToInteractive',\n",
              "                                                     [key], {});\n",
              "          if (!dataTable) return;\n",
              "\n",
              "          const docLinkHtml = 'Like what you see? Visit the ' +\n",
              "            '<a target=\"_blank\" href=https://colab.research.google.com/notebooks/data_table.ipynb>data table notebook</a>'\n",
              "            + ' to learn more about interactive tables.';\n",
              "          element.innerHTML = '';\n",
              "          dataTable['output_type'] = 'display_data';\n",
              "          await google.colab.output.renderOutput(dataTable, element);\n",
              "          const docLink = document.createElement('div');\n",
              "          docLink.innerHTML = docLinkHtml;\n",
              "          element.appendChild(docLink);\n",
              "        }\n",
              "      </script>\n",
              "    </div>\n",
              "  </div>\n",
              "  "
            ]
          },
          "metadata": {},
          "execution_count": 77
        }
      ]
    },
    {
      "cell_type": "code",
      "source": [
        "data['Display'].value_counts()"
      ],
      "metadata": {
        "colab": {
          "base_uri": "https://localhost:8080/"
        },
        "id": "mUqusKlu0Otv",
        "outputId": "6bc0701d-e90e-455a-e8f5-ea1671bf3e1e"
      },
      "execution_count": null,
      "outputs": [
        {
          "output_type": "execute_result",
          "data": {
            "text/plain": [
              " 6.1 inch      347\n",
              " 6.7 inch      264\n",
              " 6.5 inch      263\n",
              " 6.6 inch      165\n",
              " 6.67 inch     146\n",
              "              ... \n",
              " 5.15 inch       1\n",
              " 32 inch         1\n",
              " 1.8 inch        1\n",
              " 4.95 inch       1\n",
              "6.3 inch         1\n",
              "Name: Display, Length: 99, dtype: int64"
            ]
          },
          "metadata": {},
          "execution_count": 78
        }
      ]
    },
    {
      "cell_type": "code",
      "source": [
        "mlist=[]\n",
        "for i in range(len(data_2)):\n",
        "  mlist.append(data_2[i][-1])"
      ],
      "metadata": {
        "id": "NWE3GqWT111-"
      },
      "execution_count": null,
      "outputs": []
    },
    {
      "cell_type": "code",
      "source": [
        "len(mlist)"
      ],
      "metadata": {
        "colab": {
          "base_uri": "https://localhost:8080/"
        },
        "id": "HPs19TAc2-3l",
        "outputId": "1c81c0b4-c0ba-43df-e4d5-9058899aef41"
      },
      "execution_count": null,
      "outputs": [
        {
          "output_type": "execute_result",
          "data": {
            "text/plain": [
              "2506"
            ]
          },
          "metadata": {},
          "execution_count": 80
        }
      ]
    },
    {
      "cell_type": "code",
      "source": [
        "mlist[:10]"
      ],
      "metadata": {
        "colab": {
          "base_uri": "https://localhost:8080/"
        },
        "id": "1A0z2Dea3ATF",
        "outputId": "f1039e77-f974-4be2-9a39-b15113ff94e1"
      },
      "execution_count": null,
      "outputs": [
        {
          "output_type": "execute_result",
          "data": {
            "text/plain": [
              "['XSM256GR3',\n",
              " ' 5996496',\n",
              " ' 51093SHG',\n",
              " ' MWHK2ZD/A',\n",
              " ' MWHG2ZD/A',\n",
              " ' MWHR2ZD/A',\n",
              " 'G975FZBDPHN',\n",
              " ' 37997',\n",
              " ' PAVG0013SE',\n",
              " ' MGJA3F/A']"
            ]
          },
          "metadata": {},
          "execution_count": 81
        }
      ]
    },
    {
      "cell_type": "code",
      "source": [
        "data['Model']=mlist"
      ],
      "metadata": {
        "id": "glYBDiM85o1u"
      },
      "execution_count": null,
      "outputs": []
    },
    {
      "cell_type": "code",
      "source": [
        "data.head()"
      ],
      "metadata": {
        "colab": {
          "base_uri": "https://localhost:8080/",
          "height": 337
        },
        "id": "uJCvkxCl6rfO",
        "outputId": "6642ab23-3320-499b-fd05-9198252e9ea2"
      },
      "execution_count": null,
      "outputs": [
        {
          "output_type": "execute_result",
          "data": {
            "text/plain": [
              "            Products_Model                                   Products_details  \\\n",
              "0      Apple iPhone Xs Max  2018 - 6 cores - 6.5 inch - 256GB - space grey...   \n",
              "1                Oppo A16s  2021 - 8 cores - 6.52 inch - 64GB - Black - 59...   \n",
              "2                Huawei Y5  2019 - 4 cores - 5.71 inch - 16GB - black - 51...   \n",
              "3  Apple iPhone 11 Pro Max    6 cores - 6.5 inch - 256GB - Silver - MWHK2ZD/A   \n",
              "4  Apple iPhone 11 Pro Max       6 cores - 6.5 inch - 64GB - Gold - MWHG2ZD/A   \n",
              "\n",
              "   Price_regular  Price_offers       Currency  Known_price   Brand      Cores  \\\n",
              "0         899.00         799.0            EUR            1   Apple   6 cores    \n",
              "1         179.38         169.0            EUR            1    Oppo   8 cores    \n",
              "2         144.00           0.0  Not_Specified            1  Huawei   4 cores    \n",
              "3         536.00           0.0  Not_Specified            1   Apple   6 cores    \n",
              "4         486.00           0.0  Not_Specified            1   Apple   6 cores    \n",
              "\n",
              "     Processor      Display       Model  \n",
              "0  Bionic chip    6.5 inch    XSM256GR3  \n",
              "1        other   6.52 inch      5996496  \n",
              "2        other   5.71 inch     51093SHG  \n",
              "3  Bionic chip    6.5 inch    MWHK2ZD/A  \n",
              "4  Bionic chip    6.5 inch    MWHG2ZD/A  "
            ],
            "text/html": [
              "\n",
              "  <div id=\"df-ad7e3c5f-ce7f-482d-9950-fb48295e71a2\">\n",
              "    <div class=\"colab-df-container\">\n",
              "      <div>\n",
              "<style scoped>\n",
              "    .dataframe tbody tr th:only-of-type {\n",
              "        vertical-align: middle;\n",
              "    }\n",
              "\n",
              "    .dataframe tbody tr th {\n",
              "        vertical-align: top;\n",
              "    }\n",
              "\n",
              "    .dataframe thead th {\n",
              "        text-align: right;\n",
              "    }\n",
              "</style>\n",
              "<table border=\"1\" class=\"dataframe\">\n",
              "  <thead>\n",
              "    <tr style=\"text-align: right;\">\n",
              "      <th></th>\n",
              "      <th>Products_Model</th>\n",
              "      <th>Products_details</th>\n",
              "      <th>Price_regular</th>\n",
              "      <th>Price_offers</th>\n",
              "      <th>Currency</th>\n",
              "      <th>Known_price</th>\n",
              "      <th>Brand</th>\n",
              "      <th>Cores</th>\n",
              "      <th>Processor</th>\n",
              "      <th>Display</th>\n",
              "      <th>Model</th>\n",
              "    </tr>\n",
              "  </thead>\n",
              "  <tbody>\n",
              "    <tr>\n",
              "      <th>0</th>\n",
              "      <td>Apple iPhone Xs Max</td>\n",
              "      <td>2018 - 6 cores - 6.5 inch - 256GB - space grey...</td>\n",
              "      <td>899.00</td>\n",
              "      <td>799.0</td>\n",
              "      <td>EUR</td>\n",
              "      <td>1</td>\n",
              "      <td>Apple</td>\n",
              "      <td>6 cores</td>\n",
              "      <td>Bionic chip</td>\n",
              "      <td>6.5 inch</td>\n",
              "      <td>XSM256GR3</td>\n",
              "    </tr>\n",
              "    <tr>\n",
              "      <th>1</th>\n",
              "      <td>Oppo A16s</td>\n",
              "      <td>2021 - 8 cores - 6.52 inch - 64GB - Black - 59...</td>\n",
              "      <td>179.38</td>\n",
              "      <td>169.0</td>\n",
              "      <td>EUR</td>\n",
              "      <td>1</td>\n",
              "      <td>Oppo</td>\n",
              "      <td>8 cores</td>\n",
              "      <td>other</td>\n",
              "      <td>6.52 inch</td>\n",
              "      <td>5996496</td>\n",
              "    </tr>\n",
              "    <tr>\n",
              "      <th>2</th>\n",
              "      <td>Huawei Y5</td>\n",
              "      <td>2019 - 4 cores - 5.71 inch - 16GB - black - 51...</td>\n",
              "      <td>144.00</td>\n",
              "      <td>0.0</td>\n",
              "      <td>Not_Specified</td>\n",
              "      <td>1</td>\n",
              "      <td>Huawei</td>\n",
              "      <td>4 cores</td>\n",
              "      <td>other</td>\n",
              "      <td>5.71 inch</td>\n",
              "      <td>51093SHG</td>\n",
              "    </tr>\n",
              "    <tr>\n",
              "      <th>3</th>\n",
              "      <td>Apple iPhone 11 Pro Max</td>\n",
              "      <td>6 cores - 6.5 inch - 256GB - Silver - MWHK2ZD/A</td>\n",
              "      <td>536.00</td>\n",
              "      <td>0.0</td>\n",
              "      <td>Not_Specified</td>\n",
              "      <td>1</td>\n",
              "      <td>Apple</td>\n",
              "      <td>6 cores</td>\n",
              "      <td>Bionic chip</td>\n",
              "      <td>6.5 inch</td>\n",
              "      <td>MWHK2ZD/A</td>\n",
              "    </tr>\n",
              "    <tr>\n",
              "      <th>4</th>\n",
              "      <td>Apple iPhone 11 Pro Max</td>\n",
              "      <td>6 cores - 6.5 inch - 64GB - Gold - MWHG2ZD/A</td>\n",
              "      <td>486.00</td>\n",
              "      <td>0.0</td>\n",
              "      <td>Not_Specified</td>\n",
              "      <td>1</td>\n",
              "      <td>Apple</td>\n",
              "      <td>6 cores</td>\n",
              "      <td>Bionic chip</td>\n",
              "      <td>6.5 inch</td>\n",
              "      <td>MWHG2ZD/A</td>\n",
              "    </tr>\n",
              "  </tbody>\n",
              "</table>\n",
              "</div>\n",
              "      <button class=\"colab-df-convert\" onclick=\"convertToInteractive('df-ad7e3c5f-ce7f-482d-9950-fb48295e71a2')\"\n",
              "              title=\"Convert this dataframe to an interactive table.\"\n",
              "              style=\"display:none;\">\n",
              "        \n",
              "  <svg xmlns=\"http://www.w3.org/2000/svg\" height=\"24px\"viewBox=\"0 0 24 24\"\n",
              "       width=\"24px\">\n",
              "    <path d=\"M0 0h24v24H0V0z\" fill=\"none\"/>\n",
              "    <path d=\"M18.56 5.44l.94 2.06.94-2.06 2.06-.94-2.06-.94-.94-2.06-.94 2.06-2.06.94zm-11 1L8.5 8.5l.94-2.06 2.06-.94-2.06-.94L8.5 2.5l-.94 2.06-2.06.94zm10 10l.94 2.06.94-2.06 2.06-.94-2.06-.94-.94-2.06-.94 2.06-2.06.94z\"/><path d=\"M17.41 7.96l-1.37-1.37c-.4-.4-.92-.59-1.43-.59-.52 0-1.04.2-1.43.59L10.3 9.45l-7.72 7.72c-.78.78-.78 2.05 0 2.83L4 21.41c.39.39.9.59 1.41.59.51 0 1.02-.2 1.41-.59l7.78-7.78 2.81-2.81c.8-.78.8-2.07 0-2.86zM5.41 20L4 18.59l7.72-7.72 1.47 1.35L5.41 20z\"/>\n",
              "  </svg>\n",
              "      </button>\n",
              "      \n",
              "  <style>\n",
              "    .colab-df-container {\n",
              "      display:flex;\n",
              "      flex-wrap:wrap;\n",
              "      gap: 12px;\n",
              "    }\n",
              "\n",
              "    .colab-df-convert {\n",
              "      background-color: #E8F0FE;\n",
              "      border: none;\n",
              "      border-radius: 50%;\n",
              "      cursor: pointer;\n",
              "      display: none;\n",
              "      fill: #1967D2;\n",
              "      height: 32px;\n",
              "      padding: 0 0 0 0;\n",
              "      width: 32px;\n",
              "    }\n",
              "\n",
              "    .colab-df-convert:hover {\n",
              "      background-color: #E2EBFA;\n",
              "      box-shadow: 0px 1px 2px rgba(60, 64, 67, 0.3), 0px 1px 3px 1px rgba(60, 64, 67, 0.15);\n",
              "      fill: #174EA6;\n",
              "    }\n",
              "\n",
              "    [theme=dark] .colab-df-convert {\n",
              "      background-color: #3B4455;\n",
              "      fill: #D2E3FC;\n",
              "    }\n",
              "\n",
              "    [theme=dark] .colab-df-convert:hover {\n",
              "      background-color: #434B5C;\n",
              "      box-shadow: 0px 1px 3px 1px rgba(0, 0, 0, 0.15);\n",
              "      filter: drop-shadow(0px 1px 2px rgba(0, 0, 0, 0.3));\n",
              "      fill: #FFFFFF;\n",
              "    }\n",
              "  </style>\n",
              "\n",
              "      <script>\n",
              "        const buttonEl =\n",
              "          document.querySelector('#df-ad7e3c5f-ce7f-482d-9950-fb48295e71a2 button.colab-df-convert');\n",
              "        buttonEl.style.display =\n",
              "          google.colab.kernel.accessAllowed ? 'block' : 'none';\n",
              "\n",
              "        async function convertToInteractive(key) {\n",
              "          const element = document.querySelector('#df-ad7e3c5f-ce7f-482d-9950-fb48295e71a2');\n",
              "          const dataTable =\n",
              "            await google.colab.kernel.invokeFunction('convertToInteractive',\n",
              "                                                     [key], {});\n",
              "          if (!dataTable) return;\n",
              "\n",
              "          const docLinkHtml = 'Like what you see? Visit the ' +\n",
              "            '<a target=\"_blank\" href=https://colab.research.google.com/notebooks/data_table.ipynb>data table notebook</a>'\n",
              "            + ' to learn more about interactive tables.';\n",
              "          element.innerHTML = '';\n",
              "          dataTable['output_type'] = 'display_data';\n",
              "          await google.colab.output.renderOutput(dataTable, element);\n",
              "          const docLink = document.createElement('div');\n",
              "          docLink.innerHTML = docLinkHtml;\n",
              "          element.appendChild(docLink);\n",
              "        }\n",
              "      </script>\n",
              "    </div>\n",
              "  </div>\n",
              "  "
            ]
          },
          "metadata": {},
          "execution_count": 83
        }
      ]
    },
    {
      "cell_type": "code",
      "source": [
        "ylist=[]\n",
        "for i in range(len(data_2)):\n",
        "  if '20' in data_2[i][0]:\n",
        "    ylist.append(data_2[i][0])\n",
        "  else:\n",
        "    ylist.append('Not_Available')\n",
        "\n"
      ],
      "metadata": {
        "id": "8m9eTk8l6xLL"
      },
      "execution_count": null,
      "outputs": []
    },
    {
      "cell_type": "code",
      "source": [
        "len(ylist)"
      ],
      "metadata": {
        "colab": {
          "base_uri": "https://localhost:8080/"
        },
        "id": "YPgNafYREQZo",
        "outputId": "7d1a8756-e812-40a7-88cf-f2aedd97df02"
      },
      "execution_count": null,
      "outputs": [
        {
          "output_type": "execute_result",
          "data": {
            "text/plain": [
              "2506"
            ]
          },
          "metadata": {},
          "execution_count": 85
        }
      ]
    },
    {
      "cell_type": "code",
      "source": [
        "data['Year']=ylist"
      ],
      "metadata": {
        "id": "naLh3aIWEUBe"
      },
      "execution_count": null,
      "outputs": []
    },
    {
      "cell_type": "code",
      "source": [
        "data.head(5)"
      ],
      "metadata": {
        "colab": {
          "base_uri": "https://localhost:8080/",
          "height": 337
        },
        "id": "EFtcU3LWGMFM",
        "outputId": "97b80c82-010d-4beb-e185-e728a4d189d3"
      },
      "execution_count": null,
      "outputs": [
        {
          "output_type": "execute_result",
          "data": {
            "text/plain": [
              "            Products_Model                                   Products_details  \\\n",
              "0      Apple iPhone Xs Max  2018 - 6 cores - 6.5 inch - 256GB - space grey...   \n",
              "1                Oppo A16s  2021 - 8 cores - 6.52 inch - 64GB - Black - 59...   \n",
              "2                Huawei Y5  2019 - 4 cores - 5.71 inch - 16GB - black - 51...   \n",
              "3  Apple iPhone 11 Pro Max    6 cores - 6.5 inch - 256GB - Silver - MWHK2ZD/A   \n",
              "4  Apple iPhone 11 Pro Max       6 cores - 6.5 inch - 64GB - Gold - MWHG2ZD/A   \n",
              "\n",
              "   Price_regular  Price_offers       Currency  Known_price   Brand      Cores  \\\n",
              "0         899.00         799.0            EUR            1   Apple   6 cores    \n",
              "1         179.38         169.0            EUR            1    Oppo   8 cores    \n",
              "2         144.00           0.0  Not_Specified            1  Huawei   4 cores    \n",
              "3         536.00           0.0  Not_Specified            1   Apple   6 cores    \n",
              "4         486.00           0.0  Not_Specified            1   Apple   6 cores    \n",
              "\n",
              "     Processor      Display       Model           Year  \n",
              "0  Bionic chip    6.5 inch    XSM256GR3          2018   \n",
              "1        other   6.52 inch      5996496          2021   \n",
              "2        other   5.71 inch     51093SHG          2019   \n",
              "3  Bionic chip    6.5 inch    MWHK2ZD/A  Not_Available  \n",
              "4  Bionic chip    6.5 inch    MWHG2ZD/A  Not_Available  "
            ],
            "text/html": [
              "\n",
              "  <div id=\"df-e1b5532e-7249-4ef1-83f9-472c42e3419d\">\n",
              "    <div class=\"colab-df-container\">\n",
              "      <div>\n",
              "<style scoped>\n",
              "    .dataframe tbody tr th:only-of-type {\n",
              "        vertical-align: middle;\n",
              "    }\n",
              "\n",
              "    .dataframe tbody tr th {\n",
              "        vertical-align: top;\n",
              "    }\n",
              "\n",
              "    .dataframe thead th {\n",
              "        text-align: right;\n",
              "    }\n",
              "</style>\n",
              "<table border=\"1\" class=\"dataframe\">\n",
              "  <thead>\n",
              "    <tr style=\"text-align: right;\">\n",
              "      <th></th>\n",
              "      <th>Products_Model</th>\n",
              "      <th>Products_details</th>\n",
              "      <th>Price_regular</th>\n",
              "      <th>Price_offers</th>\n",
              "      <th>Currency</th>\n",
              "      <th>Known_price</th>\n",
              "      <th>Brand</th>\n",
              "      <th>Cores</th>\n",
              "      <th>Processor</th>\n",
              "      <th>Display</th>\n",
              "      <th>Model</th>\n",
              "      <th>Year</th>\n",
              "    </tr>\n",
              "  </thead>\n",
              "  <tbody>\n",
              "    <tr>\n",
              "      <th>0</th>\n",
              "      <td>Apple iPhone Xs Max</td>\n",
              "      <td>2018 - 6 cores - 6.5 inch - 256GB - space grey...</td>\n",
              "      <td>899.00</td>\n",
              "      <td>799.0</td>\n",
              "      <td>EUR</td>\n",
              "      <td>1</td>\n",
              "      <td>Apple</td>\n",
              "      <td>6 cores</td>\n",
              "      <td>Bionic chip</td>\n",
              "      <td>6.5 inch</td>\n",
              "      <td>XSM256GR3</td>\n",
              "      <td>2018</td>\n",
              "    </tr>\n",
              "    <tr>\n",
              "      <th>1</th>\n",
              "      <td>Oppo A16s</td>\n",
              "      <td>2021 - 8 cores - 6.52 inch - 64GB - Black - 59...</td>\n",
              "      <td>179.38</td>\n",
              "      <td>169.0</td>\n",
              "      <td>EUR</td>\n",
              "      <td>1</td>\n",
              "      <td>Oppo</td>\n",
              "      <td>8 cores</td>\n",
              "      <td>other</td>\n",
              "      <td>6.52 inch</td>\n",
              "      <td>5996496</td>\n",
              "      <td>2021</td>\n",
              "    </tr>\n",
              "    <tr>\n",
              "      <th>2</th>\n",
              "      <td>Huawei Y5</td>\n",
              "      <td>2019 - 4 cores - 5.71 inch - 16GB - black - 51...</td>\n",
              "      <td>144.00</td>\n",
              "      <td>0.0</td>\n",
              "      <td>Not_Specified</td>\n",
              "      <td>1</td>\n",
              "      <td>Huawei</td>\n",
              "      <td>4 cores</td>\n",
              "      <td>other</td>\n",
              "      <td>5.71 inch</td>\n",
              "      <td>51093SHG</td>\n",
              "      <td>2019</td>\n",
              "    </tr>\n",
              "    <tr>\n",
              "      <th>3</th>\n",
              "      <td>Apple iPhone 11 Pro Max</td>\n",
              "      <td>6 cores - 6.5 inch - 256GB - Silver - MWHK2ZD/A</td>\n",
              "      <td>536.00</td>\n",
              "      <td>0.0</td>\n",
              "      <td>Not_Specified</td>\n",
              "      <td>1</td>\n",
              "      <td>Apple</td>\n",
              "      <td>6 cores</td>\n",
              "      <td>Bionic chip</td>\n",
              "      <td>6.5 inch</td>\n",
              "      <td>MWHK2ZD/A</td>\n",
              "      <td>Not_Available</td>\n",
              "    </tr>\n",
              "    <tr>\n",
              "      <th>4</th>\n",
              "      <td>Apple iPhone 11 Pro Max</td>\n",
              "      <td>6 cores - 6.5 inch - 64GB - Gold - MWHG2ZD/A</td>\n",
              "      <td>486.00</td>\n",
              "      <td>0.0</td>\n",
              "      <td>Not_Specified</td>\n",
              "      <td>1</td>\n",
              "      <td>Apple</td>\n",
              "      <td>6 cores</td>\n",
              "      <td>Bionic chip</td>\n",
              "      <td>6.5 inch</td>\n",
              "      <td>MWHG2ZD/A</td>\n",
              "      <td>Not_Available</td>\n",
              "    </tr>\n",
              "  </tbody>\n",
              "</table>\n",
              "</div>\n",
              "      <button class=\"colab-df-convert\" onclick=\"convertToInteractive('df-e1b5532e-7249-4ef1-83f9-472c42e3419d')\"\n",
              "              title=\"Convert this dataframe to an interactive table.\"\n",
              "              style=\"display:none;\">\n",
              "        \n",
              "  <svg xmlns=\"http://www.w3.org/2000/svg\" height=\"24px\"viewBox=\"0 0 24 24\"\n",
              "       width=\"24px\">\n",
              "    <path d=\"M0 0h24v24H0V0z\" fill=\"none\"/>\n",
              "    <path d=\"M18.56 5.44l.94 2.06.94-2.06 2.06-.94-2.06-.94-.94-2.06-.94 2.06-2.06.94zm-11 1L8.5 8.5l.94-2.06 2.06-.94-2.06-.94L8.5 2.5l-.94 2.06-2.06.94zm10 10l.94 2.06.94-2.06 2.06-.94-2.06-.94-.94-2.06-.94 2.06-2.06.94z\"/><path d=\"M17.41 7.96l-1.37-1.37c-.4-.4-.92-.59-1.43-.59-.52 0-1.04.2-1.43.59L10.3 9.45l-7.72 7.72c-.78.78-.78 2.05 0 2.83L4 21.41c.39.39.9.59 1.41.59.51 0 1.02-.2 1.41-.59l7.78-7.78 2.81-2.81c.8-.78.8-2.07 0-2.86zM5.41 20L4 18.59l7.72-7.72 1.47 1.35L5.41 20z\"/>\n",
              "  </svg>\n",
              "      </button>\n",
              "      \n",
              "  <style>\n",
              "    .colab-df-container {\n",
              "      display:flex;\n",
              "      flex-wrap:wrap;\n",
              "      gap: 12px;\n",
              "    }\n",
              "\n",
              "    .colab-df-convert {\n",
              "      background-color: #E8F0FE;\n",
              "      border: none;\n",
              "      border-radius: 50%;\n",
              "      cursor: pointer;\n",
              "      display: none;\n",
              "      fill: #1967D2;\n",
              "      height: 32px;\n",
              "      padding: 0 0 0 0;\n",
              "      width: 32px;\n",
              "    }\n",
              "\n",
              "    .colab-df-convert:hover {\n",
              "      background-color: #E2EBFA;\n",
              "      box-shadow: 0px 1px 2px rgba(60, 64, 67, 0.3), 0px 1px 3px 1px rgba(60, 64, 67, 0.15);\n",
              "      fill: #174EA6;\n",
              "    }\n",
              "\n",
              "    [theme=dark] .colab-df-convert {\n",
              "      background-color: #3B4455;\n",
              "      fill: #D2E3FC;\n",
              "    }\n",
              "\n",
              "    [theme=dark] .colab-df-convert:hover {\n",
              "      background-color: #434B5C;\n",
              "      box-shadow: 0px 1px 3px 1px rgba(0, 0, 0, 0.15);\n",
              "      filter: drop-shadow(0px 1px 2px rgba(0, 0, 0, 0.3));\n",
              "      fill: #FFFFFF;\n",
              "    }\n",
              "  </style>\n",
              "\n",
              "      <script>\n",
              "        const buttonEl =\n",
              "          document.querySelector('#df-e1b5532e-7249-4ef1-83f9-472c42e3419d button.colab-df-convert');\n",
              "        buttonEl.style.display =\n",
              "          google.colab.kernel.accessAllowed ? 'block' : 'none';\n",
              "\n",
              "        async function convertToInteractive(key) {\n",
              "          const element = document.querySelector('#df-e1b5532e-7249-4ef1-83f9-472c42e3419d');\n",
              "          const dataTable =\n",
              "            await google.colab.kernel.invokeFunction('convertToInteractive',\n",
              "                                                     [key], {});\n",
              "          if (!dataTable) return;\n",
              "\n",
              "          const docLinkHtml = 'Like what you see? Visit the ' +\n",
              "            '<a target=\"_blank\" href=https://colab.research.google.com/notebooks/data_table.ipynb>data table notebook</a>'\n",
              "            + ' to learn more about interactive tables.';\n",
              "          element.innerHTML = '';\n",
              "          dataTable['output_type'] = 'display_data';\n",
              "          await google.colab.output.renderOutput(dataTable, element);\n",
              "          const docLink = document.createElement('div');\n",
              "          docLink.innerHTML = docLinkHtml;\n",
              "          element.appendChild(docLink);\n",
              "        }\n",
              "      </script>\n",
              "    </div>\n",
              "  </div>\n",
              "  "
            ]
          },
          "metadata": {},
          "execution_count": 87
        }
      ]
    },
    {
      "cell_type": "code",
      "source": [
        "data['Year'].value_counts()"
      ],
      "metadata": {
        "colab": {
          "base_uri": "https://localhost:8080/"
        },
        "id": "xaxoj6yfGOm0",
        "outputId": "9c41d07a-2d2d-416e-9d25-430e918f84c3"
      },
      "execution_count": null,
      "outputs": [
        {
          "output_type": "execute_result",
          "data": {
            "text/plain": [
              "Not_Available    967\n",
              "2022             475\n",
              "2021             404\n",
              "2020             244\n",
              "2019             142\n",
              "2018             103\n",
              "2023              53\n",
              "2017              53\n",
              "2016              41\n",
              "2015              11\n",
              "2014              11\n",
              "2011               2\n",
              "Name: Year, dtype: int64"
            ]
          },
          "metadata": {},
          "execution_count": 88
        }
      ]
    },
    {
      "cell_type": "markdown",
      "source": [
        "**Visualization**"
      ],
      "metadata": {
        "id": "QwCSEzVMjK3C"
      }
    },
    {
      "cell_type": "code",
      "source": [
        "import matplotlib.pyplot as plt\n",
        "import seaborn as sns\n",
        "import plotly.express as px"
      ],
      "metadata": {
        "id": "HA1phLgHGUhs"
      },
      "execution_count": null,
      "outputs": []
    },
    {
      "cell_type": "code",
      "source": [
        "plt.figure(figsize=(20,10))\n",
        "plt.title('Currency')\n",
        "plt.pie(data['Currency'].value_counts(),labels=data['Currency'].value_counts().index.tolist(),autopct='%1.2f%%',colors=['aquamarine','lightseagreen','seagreen'],startangle=80)\n",
        "plt.show"
      ],
      "metadata": {
        "colab": {
          "base_uri": "https://localhost:8080/",
          "height": 846
        },
        "id": "F475qyJfjsa3",
        "outputId": "c80dfc89-be13-41d6-e5bd-4fbb408b2713"
      },
      "execution_count": null,
      "outputs": [
        {
          "output_type": "execute_result",
          "data": {
            "text/plain": [
              "<function matplotlib.pyplot.show(close=None, block=None)>"
            ]
          },
          "metadata": {},
          "execution_count": 123
        },
        {
          "output_type": "display_data",
          "data": {
            "text/plain": [
              "<Figure size 2000x1000 with 1 Axes>"
            ],
            "image/png": "[encoded data removed]"
          },
          "metadata": {}
        }
      ]
    },
    {
      "cell_type": "code",
      "source": [
        "data['Brand'].value_counts()[0:11]"
      ],
      "metadata": {
        "colab": {
          "base_uri": "https://localhost:8080/"
        },
        "id": "kGacSlb0kozb",
        "outputId": "0f7d1016-3438-45ac-ff77-b5af7e36dfcf"
      },
      "execution_count": null,
      "outputs": [
        {
          "output_type": "execute_result",
          "data": {
            "text/plain": [
              "Samsung     725\n",
              "Apple       538\n",
              "Xiaomi      262\n",
              "Huawei      129\n",
              "Motorola    108\n",
              "Realme       86\n",
              "Sony         76\n",
              "Oppo         76\n",
              "Google       57\n",
              "Oneplus      56\n",
              "Nokia        45\n",
              "Name: Brand, dtype: int64"
            ]
          },
          "metadata": {},
          "execution_count": 118
        }
      ]
    },
    {
      "cell_type": "code",
      "source": [
        "data['Brand'].value_counts().sort_values()"
      ],
      "metadata": {
        "colab": {
          "base_uri": "https://localhost:8080/"
        },
        "id": "NPFt92jllGuB",
        "outputId": "bb23bdb8-de4c-439c-87f7-b501ea83801e"
      },
      "execution_count": null,
      "outputs": [
        {
          "output_type": "execute_result",
          "data": {
            "text/plain": [
              "Ordissimo      1\n",
              "Redmi          1\n",
              "Archos         1\n",
              "Blabloo        1\n",
              "Yealink        1\n",
              "            ... \n",
              "Motorola     108\n",
              "Huawei       129\n",
              "Xiaomi       262\n",
              "Apple        538\n",
              "Samsung      725\n",
              "Name: Brand, Length: 66, dtype: int64"
            ]
          },
          "metadata": {},
          "execution_count": 96
        }
      ]
    },
    {
      "cell_type": "code",
      "source": [],
      "metadata": {
        "id": "yqQ_xQR5mRM6"
      },
      "execution_count": null,
      "outputs": []
    }
  ]
}